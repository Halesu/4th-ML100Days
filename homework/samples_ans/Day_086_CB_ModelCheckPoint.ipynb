{
 "cells": [
  {
   "cell_type": "markdown",
   "metadata": {},
   "source": [
    "## 範例重點\n",
    "* 學習如何在 keras 中加入 model checkpoint\n",
    "* 知道如何設定監控目標\n",
    "* 比較使用最佳與非最佳參數時的 performance"
   ]
  },
  {
   "cell_type": "code",
   "execution_count": 1,
   "metadata": {},
   "outputs": [
    {
     "name": "stderr",
     "output_type": "stream",
     "text": [
      "/home/seanyu/.conda/envs/tf18_keras/lib/python3.6/site-packages/h5py/__init__.py:36: FutureWarning: Conversion of the second argument of issubdtype from `float` to `np.floating` is deprecated. In future, it will be treated as `np.float64 == np.dtype(float).type`.\n",
      "  from ._conv import register_converters as _register_converters\n",
      "Using TensorFlow backend.\n"
     ]
    }
   ],
   "source": [
    "import os\n",
    "import keras\n",
    "\n",
    "# 本範例不需使用 GPU, 將 GPU 設定為 \"無\"\n",
    "os.environ[\"CUDA_VISIBLE_DEVICES\"] = \"\""
   ]
  },
  {
   "cell_type": "code",
   "execution_count": 2,
   "metadata": {},
   "outputs": [],
   "source": [
    "train, test = keras.datasets.cifar10.load_data()"
   ]
  },
  {
   "cell_type": "code",
   "execution_count": 3,
   "metadata": {},
   "outputs": [],
   "source": [
    "## 資料前處理\n",
    "def preproc_x(x, flatten=True):\n",
    "    x = x / 255.\n",
    "    if flatten:\n",
    "        x = x.reshape((len(x), -1))\n",
    "    return x\n",
    "\n",
    "def preproc_y(y, num_classes=10):\n",
    "    if y.shape[-1] == 1:\n",
    "        y = keras.utils.to_categorical(y, num_classes)\n",
    "    return y    "
   ]
  },
  {
   "cell_type": "code",
   "execution_count": 4,
   "metadata": {},
   "outputs": [],
   "source": [
    "x_train, y_train = train\n",
    "x_test, y_test = test\n",
    "\n",
    "# 資料前處理 - X 標準化\n",
    "x_train = preproc_x(x_train)\n",
    "x_test = preproc_x(x_test)\n",
    "\n",
    "# 資料前處理 -Y 轉成 onehot\n",
    "y_train = preproc_y(y_train)\n",
    "y_test = preproc_y(y_test)"
   ]
  },
  {
   "cell_type": "code",
   "execution_count": 5,
   "metadata": {},
   "outputs": [],
   "source": [
    "from keras.layers import BatchNormalization\n",
    "\n",
    "\"\"\"\n",
    "建立神經網路，並加入 BN layer\n",
    "\"\"\"\n",
    "def build_mlp(input_shape, output_units=10, num_neurons=[512, 256, 128]):\n",
    "    input_layer = keras.layers.Input(input_shape)\n",
    "    \n",
    "    for i, n_units in enumerate(num_neurons):\n",
    "        if i == 0:\n",
    "            x = keras.layers.Dense(units=n_units, \n",
    "                                   activation=\"relu\", \n",
    "                                   name=\"hidden_layer\"+str(i+1))(input_layer)\n",
    "            x = BatchNormalization()(x)\n",
    "        else:\n",
    "            x = keras.layers.Dense(units=n_units, \n",
    "                                   activation=\"relu\", \n",
    "                                   name=\"hidden_layer\"+str(i+1))(x)\n",
    "            x = BatchNormalization()(x)\n",
    "    \n",
    "    out = keras.layers.Dense(units=output_units, activation=\"softmax\", name=\"output\")(x)\n",
    "    \n",
    "    model = keras.models.Model(inputs=[input_layer], outputs=[out])\n",
    "    return model"
   ]
  },
  {
   "cell_type": "code",
   "execution_count": 6,
   "metadata": {},
   "outputs": [],
   "source": [
    "## 超參數設定\n",
    "LEARNING_RATE = 1e-3\n",
    "EPOCHS = 50\n",
    "BATCH_SIZE = 1024\n",
    "MOMENTUM = 0.95"
   ]
  },
  {
   "cell_type": "code",
   "execution_count": 8,
   "metadata": {},
   "outputs": [],
   "source": [
    "\"\"\"\n",
    "# 載入 Callbacks, 並將監控目標設為 validation loss, 且只存最佳參數時的模型\n",
    "\"\"\"\n",
    "from keras.callbacks import ModelCheckpoint\n",
    "\n",
    "model_ckpt = ModelCheckpoint(filepath=\"./tmp.h5\", \n",
    "                             monitor=\"val_loss\", \n",
    "                             save_best_only=True)"
   ]
  },
  {
   "cell_type": "code",
   "execution_count": 11,
   "metadata": {
    "scrolled": true
   },
   "outputs": [
    {
     "name": "stdout",
     "output_type": "stream",
     "text": [
      "_________________________________________________________________\n",
      "Layer (type)                 Output Shape              Param #   \n",
      "=================================================================\n",
      "input_2 (InputLayer)         (None, 3072)              0         \n",
      "_________________________________________________________________\n",
      "hidden_layer1 (Dense)        (None, 512)               1573376   \n",
      "_________________________________________________________________\n",
      "batch_normalization_4 (Batch (None, 512)               2048      \n",
      "_________________________________________________________________\n",
      "hidden_layer2 (Dense)        (None, 256)               131328    \n",
      "_________________________________________________________________\n",
      "batch_normalization_5 (Batch (None, 256)               1024      \n",
      "_________________________________________________________________\n",
      "hidden_layer3 (Dense)        (None, 128)               32896     \n",
      "_________________________________________________________________\n",
      "batch_normalization_6 (Batch (None, 128)               512       \n",
      "_________________________________________________________________\n",
      "output (Dense)               (None, 10)                1290      \n",
      "=================================================================\n",
      "Total params: 1,742,474\n",
      "Trainable params: 1,740,682\n",
      "Non-trainable params: 1,792\n",
      "_________________________________________________________________\n",
      "Train on 50000 samples, validate on 10000 samples\n",
      "Epoch 1/50\n",
      "50000/50000 [==============================] - 4s 77us/step - loss: 2.2019 - acc: 0.2682 - val_loss: 2.1413 - val_acc: 0.3141\n",
      "Epoch 2/50\n",
      "50000/50000 [==============================] - 3s 56us/step - loss: 1.7391 - acc: 0.3909 - val_loss: 1.7939 - val_acc: 0.3816\n",
      "Epoch 3/50\n",
      "50000/50000 [==============================] - 3s 59us/step - loss: 1.6145 - acc: 0.4335 - val_loss: 1.6726 - val_acc: 0.4202\n",
      "Epoch 4/50\n",
      "50000/50000 [==============================] - 3s 58us/step - loss: 1.5438 - acc: 0.4603 - val_loss: 1.6065 - val_acc: 0.4377\n",
      "Epoch 5/50\n",
      "50000/50000 [==============================] - 3s 59us/step - loss: 1.4894 - acc: 0.4771 - val_loss: 1.5735 - val_acc: 0.4487\n",
      "Epoch 6/50\n",
      "50000/50000 [==============================] - 3s 61us/step - loss: 1.4433 - acc: 0.4935 - val_loss: 1.5510 - val_acc: 0.4499\n",
      "Epoch 7/50\n",
      "50000/50000 [==============================] - 3s 56us/step - loss: 1.4032 - acc: 0.5096 - val_loss: 1.5303 - val_acc: 0.4633\n",
      "Epoch 8/50\n",
      "50000/50000 [==============================] - 3s 57us/step - loss: 1.3691 - acc: 0.5209 - val_loss: 1.5129 - val_acc: 0.4670\n",
      "Epoch 9/50\n",
      "50000/50000 [==============================] - 3s 55us/step - loss: 1.3384 - acc: 0.5336 - val_loss: 1.4977 - val_acc: 0.4742\n",
      "Epoch 10/50\n",
      "50000/50000 [==============================] - 3s 55us/step - loss: 1.3061 - acc: 0.5455 - val_loss: 1.4881 - val_acc: 0.4793\n",
      "Epoch 11/50\n",
      "50000/50000 [==============================] - 3s 58us/step - loss: 1.2797 - acc: 0.5552 - val_loss: 1.4832 - val_acc: 0.4802\n",
      "Epoch 12/50\n",
      "50000/50000 [==============================] - 3s 55us/step - loss: 1.2536 - acc: 0.5645 - val_loss: 1.4631 - val_acc: 0.4895\n",
      "Epoch 13/50\n",
      "50000/50000 [==============================] - 3s 55us/step - loss: 1.2259 - acc: 0.5749 - val_loss: 1.4552 - val_acc: 0.4857\n",
      "Epoch 14/50\n",
      "50000/50000 [==============================] - 3s 55us/step - loss: 1.2029 - acc: 0.5845 - val_loss: 1.4568 - val_acc: 0.4879\n",
      "Epoch 15/50\n",
      "50000/50000 [==============================] - 3s 58us/step - loss: 1.1804 - acc: 0.5919 - val_loss: 1.4552 - val_acc: 0.4842\n",
      "Epoch 16/50\n",
      "50000/50000 [==============================] - 3s 55us/step - loss: 1.1554 - acc: 0.6016 - val_loss: 1.4467 - val_acc: 0.4922\n",
      "Epoch 17/50\n",
      "50000/50000 [==============================] - 3s 58us/step - loss: 1.1329 - acc: 0.6102 - val_loss: 1.4480 - val_acc: 0.4893\n",
      "Epoch 18/50\n",
      "50000/50000 [==============================] - 3s 57us/step - loss: 1.1104 - acc: 0.6191 - val_loss: 1.4515 - val_acc: 0.4882\n",
      "Epoch 19/50\n",
      "50000/50000 [==============================] - 3s 59us/step - loss: 1.0887 - acc: 0.6287 - val_loss: 1.4445 - val_acc: 0.4932\n",
      "Epoch 20/50\n",
      "50000/50000 [==============================] - 3s 58us/step - loss: 1.0671 - acc: 0.6368 - val_loss: 1.4426 - val_acc: 0.4882\n",
      "Epoch 21/50\n",
      "50000/50000 [==============================] - 3s 59us/step - loss: 1.0465 - acc: 0.6429 - val_loss: 1.4476 - val_acc: 0.4928\n",
      "Epoch 22/50\n",
      "50000/50000 [==============================] - 3s 55us/step - loss: 1.0234 - acc: 0.6534 - val_loss: 1.4454 - val_acc: 0.4971\n",
      "Epoch 23/50\n",
      "50000/50000 [==============================] - 3s 56us/step - loss: 1.0042 - acc: 0.6605 - val_loss: 1.4360 - val_acc: 0.5042\n",
      "Epoch 24/50\n",
      "50000/50000 [==============================] - 3s 57us/step - loss: 0.9822 - acc: 0.6672 - val_loss: 1.4451 - val_acc: 0.4971\n",
      "Epoch 25/50\n",
      "50000/50000 [==============================] - 3s 56us/step - loss: 0.9621 - acc: 0.6761 - val_loss: 1.4528 - val_acc: 0.4980\n",
      "Epoch 26/50\n",
      "50000/50000 [==============================] - 3s 55us/step - loss: 0.9413 - acc: 0.6849 - val_loss: 1.4669 - val_acc: 0.4929\n",
      "Epoch 27/50\n",
      "50000/50000 [==============================] - 3s 57us/step - loss: 0.9237 - acc: 0.6927 - val_loss: 1.4586 - val_acc: 0.4979\n",
      "Epoch 28/50\n",
      "50000/50000 [==============================] - 3s 58us/step - loss: 0.9019 - acc: 0.6993 - val_loss: 1.4600 - val_acc: 0.4994\n",
      "Epoch 29/50\n",
      "50000/50000 [==============================] - 3s 58us/step - loss: 0.8810 - acc: 0.7082 - val_loss: 1.4582 - val_acc: 0.5011\n",
      "Epoch 30/50\n",
      "50000/50000 [==============================] - 3s 58us/step - loss: 0.8603 - acc: 0.7155 - val_loss: 1.4669 - val_acc: 0.5008\n",
      "Epoch 31/50\n",
      "50000/50000 [==============================] - 3s 57us/step - loss: 0.8431 - acc: 0.7242 - val_loss: 1.4629 - val_acc: 0.5041\n",
      "Epoch 32/50\n",
      "50000/50000 [==============================] - 3s 58us/step - loss: 0.8217 - acc: 0.7312 - val_loss: 1.4703 - val_acc: 0.5037\n",
      "Epoch 33/50\n",
      "50000/50000 [==============================] - 3s 56us/step - loss: 0.8048 - acc: 0.7370 - val_loss: 1.4927 - val_acc: 0.5045\n",
      "Epoch 34/50\n",
      "50000/50000 [==============================] - 3s 56us/step - loss: 0.7838 - acc: 0.7457 - val_loss: 1.4833 - val_acc: 0.5010\n",
      "Epoch 35/50\n",
      "50000/50000 [==============================] - 3s 57us/step - loss: 0.7650 - acc: 0.7532 - val_loss: 1.5028 - val_acc: 0.4924\n",
      "Epoch 36/50\n",
      "50000/50000 [==============================] - 3s 56us/step - loss: 0.7451 - acc: 0.7623 - val_loss: 1.5076 - val_acc: 0.4973\n",
      "Epoch 37/50\n",
      "50000/50000 [==============================] - 3s 56us/step - loss: 0.7279 - acc: 0.7693 - val_loss: 1.5090 - val_acc: 0.5084\n",
      "Epoch 38/50\n",
      "50000/50000 [==============================] - 3s 59us/step - loss: 0.7079 - acc: 0.7758 - val_loss: 1.5231 - val_acc: 0.5066\n",
      "Epoch 39/50\n",
      "50000/50000 [==============================] - 3s 59us/step - loss: 0.6920 - acc: 0.7821 - val_loss: 1.5288 - val_acc: 0.4945\n",
      "Epoch 40/50\n",
      "50000/50000 [==============================] - 3s 56us/step - loss: 0.6720 - acc: 0.7923 - val_loss: 1.5355 - val_acc: 0.4985\n",
      "Epoch 41/50\n",
      "50000/50000 [==============================] - 3s 59us/step - loss: 0.6531 - acc: 0.7985 - val_loss: 1.5429 - val_acc: 0.4989\n",
      "Epoch 42/50\n",
      "50000/50000 [==============================] - 3s 58us/step - loss: 0.6344 - acc: 0.8075 - val_loss: 1.5451 - val_acc: 0.4995\n",
      "Epoch 43/50\n",
      "50000/50000 [==============================] - 3s 54us/step - loss: 0.6173 - acc: 0.8122 - val_loss: 1.5853 - val_acc: 0.4925\n",
      "Epoch 44/50\n",
      "50000/50000 [==============================] - 3s 59us/step - loss: 0.6005 - acc: 0.8193 - val_loss: 1.5795 - val_acc: 0.4930\n",
      "Epoch 45/50\n",
      "50000/50000 [==============================] - 3s 56us/step - loss: 0.5847 - acc: 0.8234 - val_loss: 1.6135 - val_acc: 0.4929\n",
      "Epoch 46/50\n",
      "50000/50000 [==============================] - 3s 60us/step - loss: 0.5647 - acc: 0.8337 - val_loss: 1.6002 - val_acc: 0.4965\n",
      "Epoch 47/50\n",
      "50000/50000 [==============================] - 3s 58us/step - loss: 0.5471 - acc: 0.8404 - val_loss: 1.6120 - val_acc: 0.4958\n",
      "Epoch 48/50\n",
      "50000/50000 [==============================] - 3s 56us/step - loss: 0.5287 - acc: 0.8478 - val_loss: 1.6291 - val_acc: 0.4887\n",
      "Epoch 49/50\n",
      "50000/50000 [==============================] - 3s 58us/step - loss: 0.5154 - acc: 0.8525 - val_loss: 1.6555 - val_acc: 0.4878\n"
     ]
    },
    {
     "name": "stdout",
     "output_type": "stream",
     "text": [
      "Epoch 50/50\n",
      "50000/50000 [==============================] - 3s 56us/step - loss: 0.4987 - acc: 0.8588 - val_loss: 1.6573 - val_acc: 0.4934\n",
      "10000/10000 [==============================] - 1s 101us/step\n"
     ]
    }
   ],
   "source": [
    "model = build_mlp(input_shape=x_train.shape[1:])\n",
    "model.summary()\n",
    "optimizer = keras.optimizers.SGD(lr=LEARNING_RATE, nesterov=True, momentum=MOMENTUM)\n",
    "model.compile(loss=\"categorical_crossentropy\", metrics=[\"accuracy\"], optimizer=optimizer)\n",
    "\n",
    "model.fit(x_train, y_train, \n",
    "          epochs=EPOCHS, \n",
    "          batch_size=BATCH_SIZE, \n",
    "          validation_data=(x_test, y_test), \n",
    "          shuffle=True,\n",
    "          callbacks=[model_ckpt]\n",
    "         )\n",
    "\n",
    "# Collect results\n",
    "train_loss = model.history.history[\"loss\"]\n",
    "valid_loss = model.history.history[\"val_loss\"]\n",
    "train_acc = model.history.history[\"acc\"]\n",
    "valid_acc = model.history.history[\"val_acc\"]\n",
    "\n",
    "# Load back\n",
    "model = keras.models.load_model(\"./tmp.h5\")\n",
    "loss_loadback, acc_loadback = model.evaluate(x_test, y_test)"
   ]
  },
  {
   "cell_type": "code",
   "execution_count": 23,
   "metadata": {},
   "outputs": [
    {
     "data": {
      "image/png": "[encoded data removed]",
      "text/plain": [
       "<Figure size 432x288 with 1 Axes>"
      ]
     },
     "metadata": {},
     "output_type": "display_data"
    },
    {
     "data": {
      "image/png": "[encoded data removed]",
      "text/plain": [
       "<Figure size 432x288 with 1 Axes>"
      ]
     },
     "metadata": {},
     "output_type": "display_data"
    }
   ],
   "source": [
    "import matplotlib.pyplot as plt\n",
    "%matplotlib inline\n",
    "\n",
    "plt.plot(range(len(train_loss)), train_loss, label=\"train loss\")\n",
    "plt.plot(range(len(valid_loss)), valid_loss, label=\"valid loss\")\n",
    "plt.hlines(y=loss_loadback, xmin=0, xmax=len(train_loss), colors='r', linestyles='--')\n",
    "plt.legend()\n",
    "plt.title(\"Loss\")\n",
    "plt.show()\n",
    "\n",
    "plt.plot(range(len(train_acc)), train_acc, label=\"train accuracy\")\n",
    "plt.plot(range(len(valid_acc)), valid_acc, label=\"valid accuracy\")\n",
    "plt.hlines(y=acc_loadback, xmin=0, xmax=len(train_loss), colors='r', linestyles='--')\n",
    "plt.legend()\n",
    "plt.title(\"Accuracy\")\n",
    "plt.show()"
   ]
  },
  {
   "cell_type": "markdown",
   "metadata": {},
   "source": [
    "## Work\n",
    "1. 試比較 save_best_only 與否的差異\n",
    "2. 請僅存入將 save_weights_only 設定為 True, 並嘗試 reset ipynb 並將模型與權重重新建回並預測 x_test"
   ]
  }
 ],
 "metadata": {
  "kernelspec": {
   "display_name": "Python 3",
   "language": "python",
   "name": "python3"
  },
  "language_info": {
   "codemirror_mode": {
    "name": "ipython",
    "version": 3
   },
   "file_extension": ".py",
   "mimetype": "text/x-python",
   "name": "python",
   "nbconvert_exporter": "python",
   "pygments_lexer": "ipython3",
   "version": "3.7.7"
  }
 },
 "nbformat": 4,
 "nbformat_minor": 2
}
