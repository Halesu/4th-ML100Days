{
 "cells": [
  {
   "cell_type": "markdown",
   "metadata": {},
   "source": [
    "## 範例重點\n",
    "* 學習如何在 keras 中加入 BatchNorm\n",
    "* 知道有無 BN 對訓練的影響\n",
    "* 比較 BN 在不同 batch size 下的效果"
   ]
  },
  {
   "cell_type": "code",
   "execution_count": 1,
   "metadata": {},
   "outputs": [
    {
     "name": "stderr",
     "output_type": "stream",
     "text": [
      "/home/seanyu/.conda/envs/tf18_keras/lib/python3.6/site-packages/h5py/__init__.py:36: FutureWarning: Conversion of the second argument of issubdtype from `float` to `np.floating` is deprecated. In future, it will be treated as `np.float64 == np.dtype(float).type`.\n",
      "  from ._conv import register_converters as _register_converters\n",
      "Using TensorFlow backend.\n"
     ]
    }
   ],
   "source": [
    "import os\n",
    "import keras\n",
    "\n",
    "# 本範例不需使用 GPU, 將 GPU 設定為 \"無\"\n",
    "os.environ[\"CUDA_VISIBLE_DEVICES\"] = \"\""
   ]
  },
  {
   "cell_type": "code",
   "execution_count": 2,
   "metadata": {},
   "outputs": [],
   "source": [
    "train, test = keras.datasets.cifar10.load_data()"
   ]
  },
  {
   "cell_type": "code",
   "execution_count": 3,
   "metadata": {},
   "outputs": [],
   "source": [
    "## 資料前處理\n",
    "def preproc_x(x, flatten=True):\n",
    "    x = x / 255.\n",
    "    if flatten:\n",
    "        x = x.reshape((len(x), -1))\n",
    "    return x\n",
    "\n",
    "def preproc_y(y, num_classes=10):\n",
    "    if y.shape[-1] == 1:\n",
    "        y = keras.utils.to_categorical(y, num_classes)\n",
    "    return y    "
   ]
  },
  {
   "cell_type": "code",
   "execution_count": 4,
   "metadata": {},
   "outputs": [],
   "source": [
    "x_train, y_train = train\n",
    "x_test, y_test = test\n",
    "\n",
    "# 資料前處理 - X 標準化\n",
    "x_train = preproc_x(x_train)\n",
    "x_test = preproc_x(x_test)\n",
    "\n",
    "# 資料前處理 -Y 轉成 onehot\n",
    "y_train = preproc_y(y_train)\n",
    "y_test = preproc_y(y_test)"
   ]
  },
  {
   "cell_type": "code",
   "execution_count": 5,
   "metadata": {},
   "outputs": [],
   "source": [
    "from keras.layers import BatchNormalization\n",
    "\n",
    "\"\"\"\n",
    "建立神經網路，並加入 BN layer\n",
    "\"\"\"\n",
    "def build_mlp(input_shape, output_units=10, num_neurons=[512, 256, 128]):\n",
    "    input_layer = keras.layers.Input(input_shape)\n",
    "    \n",
    "    for i, n_units in enumerate(num_neurons):\n",
    "        if i == 0:\n",
    "            x = keras.layers.Dense(units=n_units, \n",
    "                                   activation=\"relu\", \n",
    "                                   name=\"hidden_layer\"+str(i+1))(input_layer)\n",
    "            x = BatchNormalization()(x)\n",
    "        else:\n",
    "            x = keras.layers.Dense(units=n_units, \n",
    "                                   activation=\"relu\", \n",
    "                                   name=\"hidden_layer\"+str(i+1))(x)\n",
    "            x = BatchNormalization()(x)\n",
    "    \n",
    "    out = keras.layers.Dense(units=output_units, activation=\"softmax\", name=\"output\")(x)\n",
    "    \n",
    "    model = keras.models.Model(inputs=[input_layer], outputs=[out])\n",
    "    return model"
   ]
  },
  {
   "cell_type": "code",
   "execution_count": 9,
   "metadata": {},
   "outputs": [],
   "source": [
    "## 超參數設定\n",
    "LEARNING_RATE = 1e-3\n",
    "EPOCHS = 50\n",
    "BATCH_SIZE = 1024\n",
    "MOMENTUM = 0.95"
   ]
  },
  {
   "cell_type": "code",
   "execution_count": 10,
   "metadata": {
    "scrolled": true
   },
   "outputs": [
    {
     "name": "stdout",
     "output_type": "stream",
     "text": [
      "_________________________________________________________________\n",
      "Layer (type)                 Output Shape              Param #   \n",
      "=================================================================\n",
      "input_2 (InputLayer)         (None, 3072)              0         \n",
      "_________________________________________________________________\n",
      "hidden_layer1 (Dense)        (None, 512)               1573376   \n",
      "_________________________________________________________________\n",
      "batch_normalization_4 (Batch (None, 512)               2048      \n",
      "_________________________________________________________________\n",
      "hidden_layer2 (Dense)        (None, 256)               131328    \n",
      "_________________________________________________________________\n",
      "batch_normalization_5 (Batch (None, 256)               1024      \n",
      "_________________________________________________________________\n",
      "hidden_layer3 (Dense)        (None, 128)               32896     \n",
      "_________________________________________________________________\n",
      "batch_normalization_6 (Batch (None, 128)               512       \n",
      "_________________________________________________________________\n",
      "output (Dense)               (None, 10)                1290      \n",
      "=================================================================\n",
      "Total params: 1,742,474\n",
      "Trainable params: 1,740,682\n",
      "Non-trainable params: 1,792\n",
      "_________________________________________________________________\n",
      "Train on 50000 samples, validate on 10000 samples\n",
      "Epoch 1/50\n",
      "50000/50000 [==============================] - 4s 82us/step - loss: 2.1946 - acc: 0.2762 - val_loss: 2.1851 - val_acc: 0.3104\n",
      "Epoch 2/50\n",
      "50000/50000 [==============================] - 3s 59us/step - loss: 1.7408 - acc: 0.3908 - val_loss: 1.8208 - val_acc: 0.3817\n",
      "Epoch 3/50\n",
      "50000/50000 [==============================] - 3s 61us/step - loss: 1.6123 - acc: 0.4322 - val_loss: 1.6720 - val_acc: 0.4146\n",
      "Epoch 4/50\n",
      "50000/50000 [==============================] - 3s 63us/step - loss: 1.5388 - acc: 0.4592 - val_loss: 1.6199 - val_acc: 0.4362\n",
      "Epoch 5/50\n",
      "50000/50000 [==============================] - 3s 61us/step - loss: 1.4826 - acc: 0.4801 - val_loss: 1.5889 - val_acc: 0.4420\n",
      "Epoch 6/50\n",
      "50000/50000 [==============================] - 3s 60us/step - loss: 1.4389 - acc: 0.4946 - val_loss: 1.5512 - val_acc: 0.4523\n",
      "Epoch 7/50\n",
      "50000/50000 [==============================] - 3s 62us/step - loss: 1.3977 - acc: 0.5100 - val_loss: 1.5469 - val_acc: 0.4532\n",
      "Epoch 8/50\n",
      "50000/50000 [==============================] - 3s 60us/step - loss: 1.3608 - acc: 0.5242 - val_loss: 1.5112 - val_acc: 0.4710\n",
      "Epoch 9/50\n",
      "50000/50000 [==============================] - 3s 60us/step - loss: 1.3290 - acc: 0.5364 - val_loss: 1.5015 - val_acc: 0.4702\n",
      "Epoch 10/50\n",
      "50000/50000 [==============================] - 3s 61us/step - loss: 1.2969 - acc: 0.5465 - val_loss: 1.4867 - val_acc: 0.4807\n",
      "Epoch 11/50\n",
      "50000/50000 [==============================] - 3s 60us/step - loss: 1.2690 - acc: 0.5557 - val_loss: 1.4849 - val_acc: 0.4776\n",
      "Epoch 12/50\n",
      "50000/50000 [==============================] - 3s 61us/step - loss: 1.2421 - acc: 0.5662 - val_loss: 1.4770 - val_acc: 0.4861\n",
      "Epoch 13/50\n",
      "50000/50000 [==============================] - 3s 60us/step - loss: 1.2150 - acc: 0.5770 - val_loss: 1.4649 - val_acc: 0.4844\n",
      "Epoch 14/50\n",
      "50000/50000 [==============================] - 3s 62us/step - loss: 1.1894 - acc: 0.5883 - val_loss: 1.4608 - val_acc: 0.4882\n",
      "Epoch 15/50\n",
      "50000/50000 [==============================] - 3s 62us/step - loss: 1.1658 - acc: 0.5971 - val_loss: 1.4567 - val_acc: 0.4864\n",
      "Epoch 16/50\n",
      "50000/50000 [==============================] - 3s 62us/step - loss: 1.1429 - acc: 0.6046 - val_loss: 1.4539 - val_acc: 0.4844\n",
      "Epoch 17/50\n",
      "50000/50000 [==============================] - 3s 69us/step - loss: 1.1190 - acc: 0.6138 - val_loss: 1.4437 - val_acc: 0.4907\n",
      "Epoch 18/50\n",
      "50000/50000 [==============================] - 3s 61us/step - loss: 1.0957 - acc: 0.6228 - val_loss: 1.4554 - val_acc: 0.4901\n",
      "Epoch 19/50\n",
      "50000/50000 [==============================] - 3s 60us/step - loss: 1.0743 - acc: 0.6305 - val_loss: 1.4489 - val_acc: 0.4917\n",
      "Epoch 20/50\n",
      "50000/50000 [==============================] - 3s 61us/step - loss: 1.0523 - acc: 0.6398 - val_loss: 1.4443 - val_acc: 0.4943\n",
      "Epoch 21/50\n",
      "50000/50000 [==============================] - 3s 57us/step - loss: 1.0305 - acc: 0.6480 - val_loss: 1.4456 - val_acc: 0.4933\n",
      "Epoch 22/50\n",
      "50000/50000 [==============================] - 3s 56us/step - loss: 1.0077 - acc: 0.6569 - val_loss: 1.4481 - val_acc: 0.4914\n",
      "Epoch 23/50\n",
      "50000/50000 [==============================] - 3s 56us/step - loss: 0.9878 - acc: 0.6649 - val_loss: 1.4523 - val_acc: 0.4976\n",
      "Epoch 24/50\n",
      "50000/50000 [==============================] - 3s 57us/step - loss: 0.9695 - acc: 0.6712 - val_loss: 1.4610 - val_acc: 0.4951\n",
      "Epoch 25/50\n",
      "50000/50000 [==============================] - 3s 57us/step - loss: 0.9474 - acc: 0.6817 - val_loss: 1.4649 - val_acc: 0.4963\n",
      "Epoch 26/50\n",
      "50000/50000 [==============================] - 3s 56us/step - loss: 0.9262 - acc: 0.6891 - val_loss: 1.4663 - val_acc: 0.4958\n",
      "Epoch 27/50\n",
      "50000/50000 [==============================] - 3s 56us/step - loss: 0.9079 - acc: 0.6960 - val_loss: 1.4518 - val_acc: 0.5028\n",
      "Epoch 28/50\n",
      "50000/50000 [==============================] - 3s 59us/step - loss: 0.8852 - acc: 0.7051 - val_loss: 1.4729 - val_acc: 0.4974\n",
      "Epoch 29/50\n",
      "50000/50000 [==============================] - 3s 62us/step - loss: 0.8658 - acc: 0.7129 - val_loss: 1.4791 - val_acc: 0.4942\n",
      "Epoch 30/50\n",
      "50000/50000 [==============================] - 3s 55us/step - loss: 0.8469 - acc: 0.7209 - val_loss: 1.5025 - val_acc: 0.4896\n",
      "Epoch 31/50\n",
      "50000/50000 [==============================] - 3s 57us/step - loss: 0.8280 - acc: 0.7287 - val_loss: 1.4985 - val_acc: 0.4917\n",
      "Epoch 32/50\n",
      "50000/50000 [==============================] - 3s 56us/step - loss: 0.8086 - acc: 0.7341 - val_loss: 1.5143 - val_acc: 0.4894\n",
      "Epoch 33/50\n",
      "50000/50000 [==============================] - 3s 56us/step - loss: 0.7872 - acc: 0.7447 - val_loss: 1.5045 - val_acc: 0.4965\n",
      "Epoch 34/50\n",
      "50000/50000 [==============================] - 3s 54us/step - loss: 0.7695 - acc: 0.7520 - val_loss: 1.5130 - val_acc: 0.4947\n",
      "Epoch 35/50\n",
      "50000/50000 [==============================] - 3s 54us/step - loss: 0.7502 - acc: 0.7592 - val_loss: 1.5220 - val_acc: 0.4985\n",
      "Epoch 36/50\n",
      "50000/50000 [==============================] - 3s 55us/step - loss: 0.7310 - acc: 0.7658 - val_loss: 1.5309 - val_acc: 0.4993\n",
      "Epoch 37/50\n",
      "50000/50000 [==============================] - 3s 55us/step - loss: 0.7128 - acc: 0.7748 - val_loss: 1.5221 - val_acc: 0.4968\n",
      "Epoch 38/50\n",
      "50000/50000 [==============================] - 3s 56us/step - loss: 0.6932 - acc: 0.7815 - val_loss: 1.5429 - val_acc: 0.5013\n",
      "Epoch 39/50\n",
      "50000/50000 [==============================] - 3s 57us/step - loss: 0.6749 - acc: 0.7893 - val_loss: 1.5450 - val_acc: 0.4943\n",
      "Epoch 40/50\n",
      "50000/50000 [==============================] - 3s 54us/step - loss: 0.6570 - acc: 0.7973 - val_loss: 1.5719 - val_acc: 0.4888\n",
      "Epoch 41/50\n",
      "50000/50000 [==============================] - 3s 53us/step - loss: 0.6389 - acc: 0.8034 - val_loss: 1.5854 - val_acc: 0.4881\n",
      "Epoch 42/50\n",
      "50000/50000 [==============================] - 3s 53us/step - loss: 0.6226 - acc: 0.8096 - val_loss: 1.5827 - val_acc: 0.4892\n",
      "Epoch 43/50\n",
      "50000/50000 [==============================] - 3s 55us/step - loss: 0.6030 - acc: 0.8202 - val_loss: 1.5900 - val_acc: 0.4912\n",
      "Epoch 44/50\n",
      "50000/50000 [==============================] - 3s 57us/step - loss: 0.5850 - acc: 0.8256 - val_loss: 1.6151 - val_acc: 0.4949\n",
      "Epoch 45/50\n",
      "50000/50000 [==============================] - 3s 56us/step - loss: 0.5669 - acc: 0.8344 - val_loss: 1.6124 - val_acc: 0.4912\n",
      "Epoch 46/50\n",
      "50000/50000 [==============================] - 3s 61us/step - loss: 0.5498 - acc: 0.8402 - val_loss: 1.6366 - val_acc: 0.4900\n",
      "Epoch 47/50\n",
      "50000/50000 [==============================] - 3s 57us/step - loss: 0.5344 - acc: 0.8458 - val_loss: 1.6691 - val_acc: 0.4875\n",
      "Epoch 48/50\n",
      "50000/50000 [==============================] - 3s 55us/step - loss: 0.5171 - acc: 0.8529 - val_loss: 1.6608 - val_acc: 0.4913\n",
      "Epoch 49/50\n",
      "50000/50000 [==============================] - 3s 56us/step - loss: 0.5009 - acc: 0.8590 - val_loss: 1.6840 - val_acc: 0.4871\n"
     ]
    },
    {
     "name": "stdout",
     "output_type": "stream",
     "text": [
      "Epoch 50/50\n",
      "50000/50000 [==============================] - 3s 56us/step - loss: 0.4853 - acc: 0.8659 - val_loss: 1.6814 - val_acc: 0.4936\n"
     ]
    }
   ],
   "source": [
    "model = build_mlp(input_shape=x_train.shape[1:])\n",
    "model.summary()\n",
    "optimizer = keras.optimizers.SGD(lr=LEARNING_RATE, nesterov=True, momentum=MOMENTUM)\n",
    "model.compile(loss=\"categorical_crossentropy\", metrics=[\"accuracy\"], optimizer=optimizer)\n",
    "\n",
    "model.fit(x_train, y_train, \n",
    "          epochs=EPOCHS, \n",
    "          batch_size=BATCH_SIZE, \n",
    "          validation_data=(x_test, y_test), \n",
    "          shuffle=True)\n",
    "\n",
    "# Collect results\n",
    "train_loss = model.history.history[\"loss\"]\n",
    "valid_loss = model.history.history[\"val_loss\"]\n",
    "train_acc = model.history.history[\"acc\"]\n",
    "valid_acc = model.history.history[\"val_acc\"]"
   ]
  },
  {
   "cell_type": "code",
   "execution_count": 11,
   "metadata": {},
   "outputs": [
    {
     "data": {
      "image/png": "[encoded data removed]",
      "text/plain": [
       "<Figure size 432x288 with 1 Axes>"
      ]
     },
     "metadata": {},
     "output_type": "display_data"
    },
    {
     "data": {
      "image/png": "[encoded data removed]",
      "text/plain": [
       "<Figure size 432x288 with 1 Axes>"
      ]
     },
     "metadata": {},
     "output_type": "display_data"
    }
   ],
   "source": [
    "import matplotlib.pyplot as plt\n",
    "%matplotlib inline\n",
    "\n",
    "plt.plot(range(len(train_loss)), train_loss, label=\"train loss\")\n",
    "plt.plot(range(len(valid_loss)), valid_loss, label=\"valid loss\")\n",
    "plt.legend()\n",
    "plt.title(\"Loss\")\n",
    "plt.show()\n",
    "\n",
    "plt.plot(range(len(train_acc)), train_acc, label=\"train accuracy\")\n",
    "plt.plot(range(len(valid_acc)), valid_acc, label=\"valid accuracy\")\n",
    "plt.legend()\n",
    "plt.title(\"Accuracy\")\n",
    "plt.show()"
   ]
  },
  {
   "cell_type": "markdown",
   "metadata": {},
   "source": [
    "## Work\n",
    "1. 試比較有 BN 在 Batch_size = 2, 16, 32, 128, 256 下的差異\n",
    "2. 請嘗試將 BN 放在 Activation 之前，並比較訓練結果\n",
    "3. 請於 BN 放在 Input Layer 後，並比較結果"
   ]
  }
 ],
 "metadata": {
  "kernelspec": {
   "display_name": "Python 3",
   "language": "python",
   "name": "python3"
  },
  "language_info": {
   "codemirror_mode": {
    "name": "ipython",
    "version": 3
   },
   "file_extension": ".py",
   "mimetype": "text/x-python",
   "name": "python",
   "nbconvert_exporter": "python",
   "pygments_lexer": "ipython3",
   "version": "3.7.7"
  }
 },
 "nbformat": 4,
 "nbformat_minor": 2
}
