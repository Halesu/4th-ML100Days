{
 "cells": [
  {
   "cell_type": "markdown",
   "metadata": {
    "collapsed": true
   },
   "source": [
    "# 作業\n",
    "* 在精簡深度學習的方式上 : 卷積類神經 (CNN) 採用像素遠近，而遞歸類神經 (RNN) 採用著則是時間遠近\n",
    "* 那麼，既然有著類似的設計精神，兩者是否有可能互換應用呢?"
   ]
  },
  {
   "cell_type": "markdown",
   "metadata": {},
   "source": [
    "> 雖然維度並不相同 (圖像-2維, 時序問題-1維)，但實務上，兩者確實是存在互換空間的  \n",
    "> *  時序問題使用CNN   \n",
    ">> CNN 既然可以採用 2 維的卷積方式，當然也存在對應的 1 維卷積 (稱為 1d-CNN)  \n",
    ">> 但是 1d-CNN 就不適合再拿去做 2 維的圖像辨識了，而是專注抓取序列中重複出現的關鍵片段  \n",
    ">> 常與進階版的 RNN-長短期記憶網路(LSTM) 搭配使用，用來預測股市等時序型問題\n",
    "\n",
    "> *  圖像類問題使用RNN  \n",
    ">> 如果影像某個軸向有連續的現象，則RNN也可以處理這類較狹義的圖像問題\n",
    "\n",
    "> * 這個問題主要是希望刺激同學思考，並讓同學理解工具與應用之間並不一定有維一的組合  \n",
    "> 並不是要讓同學鑽研上述名詞，所以名詞聽不懂也沒關係，只要理解任何機器學習的工具，在應用時都有彈性空間即可"
   ]
  },
  {
   "cell_type": "code",
   "execution_count": null,
   "metadata": {
    "collapsed": true
   },
   "outputs": [],
   "source": []
  }
 ],
 "metadata": {
  "kernelspec": {
   "display_name": "Python 3",
   "language": "python",
   "name": "python3"
  },
  "language_info": {
   "codemirror_mode": {
    "name": "ipython",
    "version": 3
   },
   "file_extension": ".py",
   "mimetype": "text/x-python",
   "name": "python",
   "nbconvert_exporter": "python",
   "pygments_lexer": "ipython3",
   "version": "3.7.7"
  }
 },
 "nbformat": 4,
 "nbformat_minor": 2
}
