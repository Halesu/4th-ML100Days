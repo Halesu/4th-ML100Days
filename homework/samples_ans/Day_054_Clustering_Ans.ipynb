{
 "cells": [
  {
   "cell_type": "markdown",
   "metadata": {},
   "source": [
    "# 作業\n",
    "* 試著想想看, 非監督學習是否有可能使用評價函數 (Metric) 來鑑別好壞呢?  \n",
    "(Hint : 可以分為 \"有目標值\" 與 \"無目標值\" 兩個方向思考)\n",
    "> 其實非監督評價是很困難的, 光是是否要參考目標值本身就是一大難題  \n",
    "> 也因此非監督模型的評價, 有無目標值都有各自的模型可參考  \n",
    "> 簡單來說就是兩者都可以, 但是無目標值的評價方式似乎更合理一些  \n",
    "> 有目標值時, 評估的方式類似分類問題, 但仍須確定生成的分類與原訂的標籤對照關係  \n",
    "> 無目標值的評價法, 比較接近非監督的性質本身, 同一群內資料越靠近/不同群資料越遠 是其主要考量"
   ]
  },
  {
   "cell_type": "code",
   "execution_count": null,
   "metadata": {
    "collapsed": true
   },
   "outputs": [],
   "source": []
  }
 ],
 "metadata": {
  "kernelspec": {
   "display_name": "Python 3",
   "language": "python",
   "name": "python3"
  },
  "language_info": {
   "codemirror_mode": {
    "name": "ipython",
    "version": 3
   },
   "file_extension": ".py",
   "mimetype": "text/x-python",
   "name": "python",
   "nbconvert_exporter": "python",
   "pygments_lexer": "ipython3",
   "version": "3.7.0"
  }
 },
 "nbformat": 4,
 "nbformat_minor": 1
}
