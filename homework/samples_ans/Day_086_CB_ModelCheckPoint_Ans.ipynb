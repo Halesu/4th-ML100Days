{
 "cells": [
  {
   "cell_type": "markdown",
   "metadata": {},
   "source": [
    "## Work\n",
    "1. 試比較 save_best_only 與否的差異\n",
    "2. 請僅存入將 save_weights_only 設定為 True, 並嘗試 reset ipynb 並將模型與權重重新建回並預測 x_test"
   ]
  },
  {
   "cell_type": "code",
   "execution_count": 1,
   "metadata": {},
   "outputs": [
    {
     "name": "stderr",
     "output_type": "stream",
     "text": [
      "/home/seanyu/.conda/envs/tf18_keras/lib/python3.6/site-packages/h5py/__init__.py:36: FutureWarning: Conversion of the second argument of issubdtype from `float` to `np.floating` is deprecated. In future, it will be treated as `np.float64 == np.dtype(float).type`.\n",
      "  from ._conv import register_converters as _register_converters\n",
      "Using TensorFlow backend.\n"
     ]
    }
   ],
   "source": [
    "import os\n",
    "import keras\n",
    "\n",
    "# Disable GPU\n",
    "os.environ[\"CUDA_VISIBLE_DEVICES\"] = \"\""
   ]
  },
  {
   "cell_type": "code",
   "execution_count": 2,
   "metadata": {},
   "outputs": [],
   "source": [
    "train, test = keras.datasets.cifar10.load_data()"
   ]
  },
  {
   "cell_type": "code",
   "execution_count": 3,
   "metadata": {},
   "outputs": [],
   "source": [
    "## 資料前處理\n",
    "def preproc_x(x, flatten=True):\n",
    "    x = x / 255.\n",
    "    if flatten:\n",
    "        x = x.reshape((len(x), -1))\n",
    "    return x\n",
    "\n",
    "def preproc_y(y, num_classes=10):\n",
    "    if y.shape[-1] == 1:\n",
    "        y = keras.utils.to_categorical(y, num_classes)\n",
    "    return y    "
   ]
  },
  {
   "cell_type": "code",
   "execution_count": 4,
   "metadata": {},
   "outputs": [],
   "source": [
    "x_train, y_train = train\n",
    "x_test, y_test = test\n",
    "\n",
    "# Preproc the inputs\n",
    "x_train = preproc_x(x_train)\n",
    "x_test = preproc_x(x_test)\n",
    "\n",
    "# Preprc the outputs\n",
    "y_train = preproc_y(y_train)\n",
    "y_test = preproc_y(y_test)"
   ]
  },
  {
   "cell_type": "code",
   "execution_count": 5,
   "metadata": {},
   "outputs": [],
   "source": [
    "from keras.layers import BatchNormalization\n",
    "def build_mlp(input_shape, output_units=10, num_neurons=[512, 256, 128]):\n",
    "    input_layer = keras.layers.Input(input_shape)\n",
    "    \n",
    "    for i, n_units in enumerate(num_neurons):\n",
    "        if i == 0:\n",
    "            x = keras.layers.Dense(units=n_units, \n",
    "                                   activation=\"relu\", \n",
    "                                   name=\"hidden_layer\"+str(i+1))(input_layer)\n",
    "            x = BatchNormalization()(x)\n",
    "        else:\n",
    "            x = keras.layers.Dense(units=n_units, \n",
    "                                   activation=\"relu\", \n",
    "                                   name=\"hidden_layer\"+str(i+1))(x)\n",
    "            x = BatchNormalization()(x)\n",
    "    \n",
    "    out = keras.layers.Dense(units=output_units, activation=\"softmax\", name=\"output\")(x)\n",
    "    \n",
    "    model = keras.models.Model(inputs=[input_layer], outputs=[out])\n",
    "    return model"
   ]
  },
  {
   "cell_type": "code",
   "execution_count": 6,
   "metadata": {},
   "outputs": [],
   "source": [
    "## 超參數設定\n",
    "LEARNING_RATE = 1e-3\n",
    "EPOCHS = 50\n",
    "BATCH_SIZE = 1024\n",
    "MOMENTUM = 0.95"
   ]
  },
  {
   "cell_type": "code",
   "execution_count": 7,
   "metadata": {},
   "outputs": [],
   "source": [
    "# 載入 Callbacks\n",
    "from keras.callbacks import ModelCheckpoint\n",
    "\n",
    "model_ckpt = ModelCheckpoint(filepath=\"./tmp.h5\", \n",
    "                             monitor=\"val_loss\", \n",
    "                             save_best_only=True)"
   ]
  },
  {
   "cell_type": "code",
   "execution_count": 8,
   "metadata": {
    "scrolled": true
   },
   "outputs": [
    {
     "name": "stdout",
     "output_type": "stream",
     "text": [
      "_________________________________________________________________\n",
      "Layer (type)                 Output Shape              Param #   \n",
      "=================================================================\n",
      "input_1 (InputLayer)         (None, 3072)              0         \n",
      "_________________________________________________________________\n",
      "hidden_layer1 (Dense)        (None, 512)               1573376   \n",
      "_________________________________________________________________\n",
      "batch_normalization_1 (Batch (None, 512)               2048      \n",
      "_________________________________________________________________\n",
      "hidden_layer2 (Dense)        (None, 256)               131328    \n",
      "_________________________________________________________________\n",
      "batch_normalization_2 (Batch (None, 256)               1024      \n",
      "_________________________________________________________________\n",
      "hidden_layer3 (Dense)        (None, 128)               32896     \n",
      "_________________________________________________________________\n",
      "batch_normalization_3 (Batch (None, 128)               512       \n",
      "_________________________________________________________________\n",
      "output (Dense)               (None, 10)                1290      \n",
      "=================================================================\n",
      "Total params: 1,742,474\n",
      "Trainable params: 1,740,682\n",
      "Non-trainable params: 1,792\n",
      "_________________________________________________________________\n",
      "Train on 50000 samples, validate on 10000 samples\n",
      "Epoch 1/50\n",
      "50000/50000 [==============================] - 4s 82us/step - loss: 2.2286 - acc: 0.2674 - val_loss: 2.1300 - val_acc: 0.3051\n",
      "Epoch 2/50\n",
      "50000/50000 [==============================] - 3s 69us/step - loss: 1.7501 - acc: 0.3900 - val_loss: 1.8298 - val_acc: 0.3714\n",
      "Epoch 3/50\n",
      "50000/50000 [==============================] - 3s 60us/step - loss: 1.6261 - acc: 0.4301 - val_loss: 1.7026 - val_acc: 0.4083\n",
      "Epoch 4/50\n",
      "50000/50000 [==============================] - 3s 64us/step - loss: 1.5525 - acc: 0.4563 - val_loss: 1.6358 - val_acc: 0.4306\n",
      "Epoch 5/50\n",
      "50000/50000 [==============================] - 3s 64us/step - loss: 1.4965 - acc: 0.4751 - val_loss: 1.6070 - val_acc: 0.4375\n",
      "Epoch 6/50\n",
      "50000/50000 [==============================] - 3s 60us/step - loss: 1.4515 - acc: 0.4935 - val_loss: 1.5707 - val_acc: 0.4559\n",
      "Epoch 7/50\n",
      "50000/50000 [==============================] - 3s 59us/step - loss: 1.4121 - acc: 0.5070 - val_loss: 1.5427 - val_acc: 0.4627\n",
      "Epoch 8/50\n",
      "50000/50000 [==============================] - 3s 65us/step - loss: 1.3758 - acc: 0.5221 - val_loss: 1.5307 - val_acc: 0.4684\n",
      "Epoch 9/50\n",
      "50000/50000 [==============================] - 3s 66us/step - loss: 1.3415 - acc: 0.5340 - val_loss: 1.5195 - val_acc: 0.4681\n",
      "Epoch 10/50\n",
      "50000/50000 [==============================] - 3s 64us/step - loss: 1.3127 - acc: 0.5447 - val_loss: 1.5088 - val_acc: 0.4707\n",
      "Epoch 11/50\n",
      "50000/50000 [==============================] - 3s 62us/step - loss: 1.2843 - acc: 0.5527 - val_loss: 1.4970 - val_acc: 0.4761\n",
      "Epoch 12/50\n",
      "50000/50000 [==============================] - 3s 58us/step - loss: 1.2563 - acc: 0.5646 - val_loss: 1.4836 - val_acc: 0.4807\n",
      "Epoch 13/50\n",
      "50000/50000 [==============================] - 3s 62us/step - loss: 1.2303 - acc: 0.5759 - val_loss: 1.5054 - val_acc: 0.4763\n",
      "Epoch 14/50\n",
      "50000/50000 [==============================] - 3s 62us/step - loss: 1.2063 - acc: 0.5819 - val_loss: 1.4664 - val_acc: 0.4907\n",
      "Epoch 15/50\n",
      "50000/50000 [==============================] - 3s 62us/step - loss: 1.1816 - acc: 0.5924 - val_loss: 1.4666 - val_acc: 0.4915\n",
      "Epoch 16/50\n",
      "50000/50000 [==============================] - 3s 60us/step - loss: 1.1582 - acc: 0.6003 - val_loss: 1.4647 - val_acc: 0.4884\n",
      "Epoch 17/50\n",
      "50000/50000 [==============================] - 3s 61us/step - loss: 1.1346 - acc: 0.6102 - val_loss: 1.4658 - val_acc: 0.4935\n",
      "Epoch 18/50\n",
      "50000/50000 [==============================] - 3s 60us/step - loss: 1.1127 - acc: 0.6180 - val_loss: 1.4484 - val_acc: 0.4967\n",
      "Epoch 19/50\n",
      "50000/50000 [==============================] - 3s 66us/step - loss: 1.0918 - acc: 0.6262 - val_loss: 1.4547 - val_acc: 0.4961\n",
      "Epoch 20/50\n",
      "50000/50000 [==============================] - 3s 60us/step - loss: 1.0685 - acc: 0.6364 - val_loss: 1.4580 - val_acc: 0.4949\n",
      "Epoch 21/50\n",
      "50000/50000 [==============================] - 3s 59us/step - loss: 1.0483 - acc: 0.6458 - val_loss: 1.4569 - val_acc: 0.4961\n",
      "Epoch 22/50\n",
      "50000/50000 [==============================] - 3s 59us/step - loss: 1.0263 - acc: 0.6524 - val_loss: 1.4721 - val_acc: 0.4926\n",
      "Epoch 23/50\n",
      "50000/50000 [==============================] - 3s 60us/step - loss: 1.0041 - acc: 0.6607 - val_loss: 1.4784 - val_acc: 0.4918\n",
      "Epoch 24/50\n",
      "50000/50000 [==============================] - 3s 63us/step - loss: 0.9847 - acc: 0.6691 - val_loss: 1.4671 - val_acc: 0.4930\n",
      "Epoch 25/50\n",
      "50000/50000 [==============================] - 3s 63us/step - loss: 0.9657 - acc: 0.6766 - val_loss: 1.4522 - val_acc: 0.5025\n",
      "Epoch 26/50\n",
      "50000/50000 [==============================] - 3s 65us/step - loss: 0.9434 - acc: 0.6862 - val_loss: 1.4550 - val_acc: 0.4984\n",
      "Epoch 27/50\n",
      "50000/50000 [==============================] - 3s 60us/step - loss: 0.9228 - acc: 0.6930 - val_loss: 1.4599 - val_acc: 0.4986\n",
      "Epoch 28/50\n",
      "50000/50000 [==============================] - 3s 60us/step - loss: 0.9033 - acc: 0.7012 - val_loss: 1.4742 - val_acc: 0.4979\n",
      "Epoch 29/50\n",
      "50000/50000 [==============================] - 3s 61us/step - loss: 0.8843 - acc: 0.7084 - val_loss: 1.4758 - val_acc: 0.5011\n",
      "Epoch 30/50\n",
      "50000/50000 [==============================] - 3s 61us/step - loss: 0.8653 - acc: 0.7144 - val_loss: 1.4781 - val_acc: 0.4998\n",
      "Epoch 31/50\n",
      "50000/50000 [==============================] - 3s 62us/step - loss: 0.8433 - acc: 0.7236 - val_loss: 1.4869 - val_acc: 0.4998\n",
      "Epoch 32/50\n",
      "50000/50000 [==============================] - 3s 64us/step - loss: 0.8281 - acc: 0.7294 - val_loss: 1.4891 - val_acc: 0.4954\n",
      "Epoch 33/50\n",
      "50000/50000 [==============================] - 3s 63us/step - loss: 0.8072 - acc: 0.7390 - val_loss: 1.4860 - val_acc: 0.4934\n",
      "Epoch 34/50\n",
      "50000/50000 [==============================] - 3s 60us/step - loss: 0.7867 - acc: 0.7460 - val_loss: 1.4907 - val_acc: 0.4977\n",
      "Epoch 35/50\n",
      "50000/50000 [==============================] - 3s 63us/step - loss: 0.7672 - acc: 0.7537 - val_loss: 1.5202 - val_acc: 0.5001\n",
      "Epoch 36/50\n",
      "50000/50000 [==============================] - 3s 58us/step - loss: 0.7499 - acc: 0.7610 - val_loss: 1.5276 - val_acc: 0.4922\n",
      "Epoch 37/50\n",
      "50000/50000 [==============================] - 3s 60us/step - loss: 0.7279 - acc: 0.7700 - val_loss: 1.5162 - val_acc: 0.5003\n",
      "Epoch 38/50\n",
      "50000/50000 [==============================] - 3s 64us/step - loss: 0.7107 - acc: 0.7747 - val_loss: 1.5337 - val_acc: 0.4945\n",
      "Epoch 39/50\n",
      "50000/50000 [==============================] - 3s 59us/step - loss: 0.6924 - acc: 0.7827 - val_loss: 1.5331 - val_acc: 0.4995\n",
      "Epoch 40/50\n",
      "50000/50000 [==============================] - 3s 64us/step - loss: 0.6740 - acc: 0.7911 - val_loss: 1.5859 - val_acc: 0.4914\n",
      "Epoch 41/50\n",
      "50000/50000 [==============================] - 3s 59us/step - loss: 0.6573 - acc: 0.7966 - val_loss: 1.5676 - val_acc: 0.4962\n",
      "Epoch 42/50\n",
      "50000/50000 [==============================] - 2s 49us/step - loss: 0.6404 - acc: 0.8046 - val_loss: 1.5734 - val_acc: 0.4953\n",
      "Epoch 43/50\n",
      "50000/50000 [==============================] - 2s 50us/step - loss: 0.6213 - acc: 0.8112 - val_loss: 1.5825 - val_acc: 0.4921\n",
      "Epoch 44/50\n",
      "50000/50000 [==============================] - 2s 48us/step - loss: 0.6014 - acc: 0.8190 - val_loss: 1.5885 - val_acc: 0.4895\n",
      "Epoch 45/50\n",
      "50000/50000 [==============================] - 3s 51us/step - loss: 0.5840 - acc: 0.8259 - val_loss: 1.6300 - val_acc: 0.4905\n",
      "Epoch 46/50\n",
      "50000/50000 [==============================] - 3s 51us/step - loss: 0.5691 - acc: 0.8324 - val_loss: 1.6182 - val_acc: 0.4921\n",
      "Epoch 47/50\n",
      "50000/50000 [==============================] - 3s 51us/step - loss: 0.5496 - acc: 0.8396 - val_loss: 1.6235 - val_acc: 0.4939\n",
      "Epoch 48/50\n",
      "50000/50000 [==============================] - 3s 52us/step - loss: 0.5324 - acc: 0.8462 - val_loss: 1.6441 - val_acc: 0.4931\n",
      "Epoch 49/50\n",
      "50000/50000 [==============================] - 3s 52us/step - loss: 0.5171 - acc: 0.8525 - val_loss: 1.6631 - val_acc: 0.4900\n"
     ]
    },
    {
     "name": "stdout",
     "output_type": "stream",
     "text": [
      "Epoch 50/50\n",
      "50000/50000 [==============================] - 3s 52us/step - loss: 0.4993 - acc: 0.8607 - val_loss: 1.6644 - val_acc: 0.4924\n"
     ]
    }
   ],
   "source": [
    "model = build_mlp(input_shape=x_train.shape[1:])\n",
    "model.summary()\n",
    "optimizer = keras.optimizers.SGD(lr=LEARNING_RATE, nesterov=True, momentum=MOMENTUM)\n",
    "model.compile(loss=\"categorical_crossentropy\", metrics=[\"accuracy\"], optimizer=optimizer)\n",
    "\n",
    "model.fit(x_train, y_train, \n",
    "          epochs=EPOCHS, \n",
    "          batch_size=BATCH_SIZE, \n",
    "          validation_data=(x_test, y_test), \n",
    "          shuffle=True,\n",
    "          callbacks=[model_ckpt]\n",
    "         )\n",
    "model.save(\"final_model.h5\")\n",
    "model.save_weights(\"model_weights.h5\")\n",
    "# Collect results\n",
    "train_loss = model.history.history[\"loss\"]\n",
    "valid_loss = model.history.history[\"val_loss\"]\n",
    "train_acc = model.history.history[\"acc\"]\n",
    "valid_acc = model.history.history[\"val_acc\"]\n",
    "\n",
    "pred_final = model.predict(x_test)\n",
    "# Load back\n",
    "model = keras.models.load_model(\"./tmp.h5\")\n",
    "pred_loadback = model.predict(x_test)"
   ]
  },
  {
   "cell_type": "code",
   "execution_count": 9,
   "metadata": {},
   "outputs": [
    {
     "name": "stdout",
     "output_type": "stream",
     "text": [
      "Accuracy of final weights: 0.492\n",
      "Accuracy of best weights: 0.497\n"
     ]
    }
   ],
   "source": [
    "from sklearn.metrics import accuracy_score\n",
    "\n",
    "final_model_acc = accuracy_score(y_true=y_test.argmax(axis=-1), y_pred=pred_final.argmax(axis=-1))\n",
    "loadback_acc = accuracy_score(y_true=y_test.argmax(axis=-1), y_pred=pred_loadback.argmax(axis=-1))\n",
    "\n",
    "print(\"Accuracy of final weights: %.3f\" % final_model_acc)\n",
    "print(\"Accuracy of best weights: %.3f\" % loadback_acc)"
   ]
  },
  {
   "cell_type": "code",
   "execution_count": 10,
   "metadata": {},
   "outputs": [
    {
     "name": "stdout",
     "output_type": "stream",
     "text": [
      "Accuracy of best weights: 0.103\n",
      "Accuracy of best weights: 0.492\n"
     ]
    }
   ],
   "source": [
    "new_model = build_mlp(input_shape=x_train.shape[1:])\n",
    "new_model_pred = new_model.predict(x_test)\n",
    "new_model_acc = accuracy_score(y_true=y_test.argmax(axis=-1), y_pred=new_model_pred.argmax(axis=-1))\n",
    "print(\"Accuracy of best weights: %.3f\" % new_model_acc)\n",
    "\n",
    "new_model.load_weights(\"./model_weights.h5\")\n",
    "new_model_pred = new_model.predict(x_test)\n",
    "new_model_loadback_acc = accuracy_score(y_true=y_test.argmax(axis=-1), y_pred=new_model_pred.argmax(axis=-1))\n",
    "print(\"Accuracy of best weights: %.3f\" % new_model_loadback_acc)"
   ]
  }
 ],
 "metadata": {
  "kernelspec": {
   "display_name": "Python 3",
   "language": "python",
   "name": "python3"
  },
  "language_info": {
   "codemirror_mode": {
    "name": "ipython",
    "version": 3
   },
   "file_extension": ".py",
   "mimetype": "text/x-python",
   "name": "python",
   "nbconvert_exporter": "python",
   "pygments_lexer": "ipython3",
   "version": "3.7.7"
  }
 },
 "nbformat": 4,
 "nbformat_minor": 2
}
