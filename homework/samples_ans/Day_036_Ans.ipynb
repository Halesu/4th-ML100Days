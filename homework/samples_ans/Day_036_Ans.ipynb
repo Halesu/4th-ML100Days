{
 "cells": [
  {
   "cell_type": "markdown",
   "metadata": {},
   "source": [
    "## 練習時間\n",
    "### F1-Score 其實是 F-Score 中的 β 值為 1 的特例，代表 Precision 與 Recall 的權重相同\n",
    "\n",
    "請參考 F1-score 的[公式](https://en.wikipedia.org/wiki/F1_score) 與下圖的 F2-score 公式圖，試著寫出 F2-Score 的計算函數"
   ]
  },
  {
   "cell_type": "markdown",
   "metadata": {},
   "source": [
    "![image](data:image/png;base64,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)"
   ]
  },
  {
   "cell_type": "code",
   "execution_count": 142,
   "metadata": {},
   "outputs": [],
   "source": [
    "import numpy as np\n",
    "from sklearn.metrics import precision_score, recall_score, fbeta_score"
   ]
  },
  {
   "cell_type": "code",
   "execution_count": 143,
   "metadata": {},
   "outputs": [],
   "source": [
    "y_pred = np.random.randint(2, size=100)\n",
    "y_true = np.random.randint(2, size=100)"
   ]
  },
  {
   "cell_type": "code",
   "execution_count": 145,
   "metadata": {},
   "outputs": [],
   "source": [
    "def custom_fbeta_score(y_true, y_pred, beta=1):\n",
    "    precision = precision_score(y_true, y_pred) # 計算 Precision\n",
    "    recall = recall_score(y_true, y_pred) # 計算 Recall\n",
    "    \n",
    "    fbeta = (1+ (beta)**2) * (precision*recall) / (((beta)**2*precision) + recall)\n",
    "    return fbeta    "
   ]
  },
  {
   "cell_type": "code",
   "execution_count": 146,
   "metadata": {},
   "outputs": [
    {
     "name": "stdout",
     "output_type": "stream",
     "text": [
      "0.4583333333333333\n"
     ]
    }
   ],
   "source": [
    "print(custom_fbeta_score(y_true, y_pred, beta=2))"
   ]
  },
  {
   "cell_type": "code",
   "execution_count": 147,
   "metadata": {},
   "outputs": [
    {
     "data": {
      "text/plain": [
       "0.4583333333333333"
      ]
     },
     "execution_count": 147,
     "metadata": {},
     "output_type": "execute_result"
    }
   ],
   "source": [
    "fbeta_score(y_true, y_pred, beta=2)"
   ]
  }
 ],
 "metadata": {
  "kernelspec": {
   "display_name": "Python 3",
   "language": "python",
   "name": "python3"
  },
  "language_info": {
   "codemirror_mode": {
    "name": "ipython",
    "version": 3
   },
   "file_extension": ".py",
   "mimetype": "text/x-python",
   "name": "python",
   "nbconvert_exporter": "python",
   "pygments_lexer": "ipython3",
   "version": "3.6.3"
  }
 },
 "nbformat": 4,
 "nbformat_minor": 2
}
