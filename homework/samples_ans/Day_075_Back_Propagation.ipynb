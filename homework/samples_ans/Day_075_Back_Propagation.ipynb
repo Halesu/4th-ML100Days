{
 "cells": [
  {
   "cell_type": "markdown",
   "metadata": {},
   "source": [
    "# 課程目標:\n",
    "    \n",
    "    了解反向傳播的原理與在神經網路推倒過程中的作用"
   ]
  },
  {
   "cell_type": "markdown",
   "metadata": {},
   "source": [
    "# 範例重點:\n",
    "\n",
    "    (1)自定義神經網路架構\n",
    "    \n",
    "    (2) 初始值設定\n",
    "    \n",
    "    (3) 使用範例\n",
    "\n"
   ]
  },
  {
   "cell_type": "code",
   "execution_count": 5,
   "metadata": {},
   "outputs": [],
   "source": [
    "#定義並建立一神經網路\n",
    "class mul_layer():\n",
    "    def _ini_(self):\n",
    "        self.x = None\n",
    "        self.y = None\n",
    "    def forward(self, x, y):\n",
    "        self.x = x\n",
    "        self.y = y\n",
    "        out = x*y\n",
    "        return out\n",
    "    def backward(self, dout):\n",
    "        dx = dout * self.y\n",
    "        dy = dout * self.x\n",
    "        return dx, dy"
   ]
  },
  {
   "cell_type": "code",
   "execution_count": 6,
   "metadata": {},
   "outputs": [],
   "source": [
    "# 初始值設定\n",
    "n_X = 2\n",
    "price_Y = 100\n",
    "b_TAX = 1.1\n",
    "\n",
    "# 指定Build _Network組合\n",
    "mul_fruit_layer = mul_layer()\n",
    "mul_tax_layer = mul_layer()\n"
   ]
  },
  {
   "cell_type": "markdown",
   "metadata": {},
   "source": [
    "# 以購買水果為例:\n",
    "    \n",
    "    付費總價格是根據水果價格, 稅金變動而受影響\n",
    "    \n",
    "    水果價格是根據購買數量與單品價格而變動\n",
    "    \n",
    "    可以利用每一個cell (cell - 1: 水果價格; cell - 2: 付費總價格), 推導微分的結果"
   ]
  },
  {
   "cell_type": "code",
   "execution_count": 7,
   "metadata": {},
   "outputs": [],
   "source": [
    "#forward \n",
    "fruit_price = mul_fruit_layer.forward(price_Y, n_X)\n",
    "total_price = mul_tax_layer.forward(fruit_price, b_TAX)\n",
    "\n",
    "#backward \n",
    "dtotal_price = 1 #this is linear function, which y=x, dy/dx=1\n",
    "d_fruit_price, d_b_TAX = mul_tax_layer.backward(dtotal_price)\n",
    "d_price_Y, d_n_X =  mul_tax_layer.backward(d_fruit_price)"
   ]
  },
  {
   "cell_type": "code",
   "execution_count": 11,
   "metadata": {},
   "outputs": [
    {
     "name": "stdout",
     "output_type": "stream",
     "text": [
      "fruit price: 200\n",
      "針對所有水果價格微分, 得到 TAX: 1.100000\n"
     ]
    }
   ],
   "source": [
    "#result\n",
    "print(\"fruit price: %i\"%fruit_price)\n",
    "print(\"針對所有水果價格微分, 得到 TAX: %2f\" %d_fruit_price)\n"
   ]
  },
  {
   "cell_type": "code",
   "execution_count": null,
   "metadata": {},
   "outputs": [],
   "source": []
  }
 ],
 "metadata": {
  "kernelspec": {
   "display_name": "Python 3",
   "language": "python",
   "name": "python3"
  },
  "language_info": {
   "codemirror_mode": {
    "name": "ipython",
    "version": 3
   },
   "file_extension": ".py",
   "mimetype": "text/x-python",
   "name": "python",
   "nbconvert_exporter": "python",
   "pygments_lexer": "ipython3",
   "version": "3.7.7"
  }
 },
 "nbformat": 4,
 "nbformat_minor": 2
}
