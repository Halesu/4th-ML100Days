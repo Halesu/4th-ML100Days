{
 "cells": [
  {
   "cell_type": "markdown",
   "metadata": {},
   "source": [
    "## 範例重點\n",
    "* 學會從 Keras 內建函式取得資料\n",
    "* 能夠建立簡易的深度學習模型\n",
    "* 觀察並了解 Overfit 現象"
   ]
  },
  {
   "cell_type": "code",
   "execution_count": 1,
   "metadata": {},
   "outputs": [
    {
     "name": "stderr",
     "output_type": "stream",
     "text": [
      "/home/seanyu/.conda/envs/tf18_keras/lib/python3.6/site-packages/h5py/__init__.py:36: FutureWarning: Conversion of the second argument of issubdtype from `float` to `np.floating` is deprecated. In future, it will be treated as `np.float64 == np.dtype(float).type`.\n",
      "  from ._conv import register_converters as _register_converters\n",
      "Using TensorFlow backend.\n"
     ]
    }
   ],
   "source": [
    "import os\n",
    "import keras\n",
    "\n",
    "# 本範例不需使用 GPU, 將 GPU 設定為 \"無\"\n",
    "os.environ[\"CUDA_VISIBLE_DEVICES\"] = \"\""
   ]
  },
  {
   "cell_type": "code",
   "execution_count": 2,
   "metadata": {},
   "outputs": [],
   "source": [
    "# 從 Keras 的內建功能中，取得 train 與 test 資料集\n",
    "train, test = keras.datasets.cifar10.load_data()"
   ]
  },
  {
   "cell_type": "code",
   "execution_count": 3,
   "metadata": {},
   "outputs": [],
   "source": [
    "# 將 X 與 Y 獨立放進變數\n",
    "x_train, y_train = train\n",
    "x_test, y_test = test\n",
    "# 資料前處理 - 標準化\n",
    "x_train = x_train / 255.\n",
    "x_test = x_test / 255.\n",
    "\n",
    "# 將資料從圖形 (RGB) 轉為向量 (Single Vector)\n",
    "x_train = x_train.reshape((len(x_train), -1))\n",
    "x_test = x_test.reshape((len(x_test), -1))\n",
    "\n",
    "# 將目標轉為 one-hot encoding\n",
    "y_train = keras.utils.to_categorical(y_train, num_classes=10)\n",
    "y_test = keras.utils.to_categorical(y_test, num_classes=10)"
   ]
  },
  {
   "cell_type": "code",
   "execution_count": 4,
   "metadata": {},
   "outputs": [],
   "source": [
    "# 建立一個有三層隱藏層之神經網路\n",
    "def build_mlp():\n",
    "    input_layer = keras.layers.Input([x_train.shape[-1]])\n",
    "    x = keras.layers.Dense(units=512, activation=\"relu\")(input_layer)\n",
    "    x = keras.layers.Dense(units=256, activation=\"relu\")(x)\n",
    "    x = keras.layers.Dense(units=128, activation=\"relu\")(x)\n",
    "    out = keras.layers.Dense(units=10, activation=\"softmax\")(x)\n",
    "    \n",
    "    model = keras.models.Model(inputs=[input_layer], outputs=[out])\n",
    "    return model"
   ]
  },
  {
   "cell_type": "code",
   "execution_count": 5,
   "metadata": {},
   "outputs": [
    {
     "name": "stdout",
     "output_type": "stream",
     "text": [
      "_________________________________________________________________\n",
      "Layer (type)                 Output Shape              Param #   \n",
      "=================================================================\n",
      "input_1 (InputLayer)         (None, 3072)              0         \n",
      "_________________________________________________________________\n",
      "dense_1 (Dense)              (None, 512)               1573376   \n",
      "_________________________________________________________________\n",
      "dense_2 (Dense)              (None, 256)               131328    \n",
      "_________________________________________________________________\n",
      "dense_3 (Dense)              (None, 128)               32896     \n",
      "_________________________________________________________________\n",
      "dense_4 (Dense)              (None, 10)                1290      \n",
      "=================================================================\n",
      "Total params: 1,738,890\n",
      "Trainable params: 1,738,890\n",
      "Non-trainable params: 0\n",
      "_________________________________________________________________\n"
     ]
    }
   ],
   "source": [
    "model = build_mlp()\n",
    "# 用 Keras 內建方法檢視模型各層參數量\n",
    "model.summary()\n",
    "\n",
    "optimizer = keras.optimizers.Adam(lr=0.001)\n",
    "model.compile(loss=\"categorical_crossentropy\", metrics=[\"accuracy\"], optimizer=optimizer)"
   ]
  },
  {
   "cell_type": "code",
   "execution_count": 7,
   "metadata": {},
   "outputs": [
    {
     "name": "stdout",
     "output_type": "stream",
     "text": [
      "Train on 50000 samples, validate on 10000 samples\n",
      "Epoch 1/100\n",
      "50000/50000 [==============================] - 5s 104us/step - loss: 1.9290 - acc: 0.3007 - val_loss: 1.8351 - val_acc: 0.3324\n",
      "Epoch 2/100\n",
      "50000/50000 [==============================] - 5s 92us/step - loss: 1.7122 - acc: 0.3858 - val_loss: 1.6578 - val_acc: 0.4141\n",
      "Epoch 3/100\n",
      "50000/50000 [==============================] - 4s 86us/step - loss: 1.6109 - acc: 0.4257 - val_loss: 1.5532 - val_acc: 0.4488\n",
      "Epoch 4/100\n",
      "50000/50000 [==============================] - 4s 85us/step - loss: 1.5442 - acc: 0.4459 - val_loss: 1.5489 - val_acc: 0.4514\n",
      "Epoch 5/100\n",
      "50000/50000 [==============================] - 4s 83us/step - loss: 1.5019 - acc: 0.4646 - val_loss: 1.4973 - val_acc: 0.4650\n",
      "Epoch 6/100\n",
      "50000/50000 [==============================] - 4s 88us/step - loss: 1.4627 - acc: 0.4779 - val_loss: 1.4943 - val_acc: 0.4635\n",
      "Epoch 7/100\n",
      "50000/50000 [==============================] - 4s 81us/step - loss: 1.4406 - acc: 0.4857 - val_loss: 1.4879 - val_acc: 0.4734\n",
      "Epoch 8/100\n",
      "50000/50000 [==============================] - 4s 86us/step - loss: 1.4051 - acc: 0.5003 - val_loss: 1.4620 - val_acc: 0.4752\n",
      "Epoch 9/100\n",
      "50000/50000 [==============================] - 4s 76us/step - loss: 1.3745 - acc: 0.5102 - val_loss: 1.4768 - val_acc: 0.4704\n",
      "Epoch 10/100\n",
      "50000/50000 [==============================] - 4s 78us/step - loss: 1.3531 - acc: 0.5198 - val_loss: 1.4277 - val_acc: 0.4909\n",
      "Epoch 11/100\n",
      "50000/50000 [==============================] - 4s 78us/step - loss: 1.3231 - acc: 0.5299 - val_loss: 1.4481 - val_acc: 0.4905\n",
      "Epoch 12/100\n",
      "50000/50000 [==============================] - 4s 77us/step - loss: 1.2977 - acc: 0.5401 - val_loss: 1.4225 - val_acc: 0.4990\n",
      "Epoch 13/100\n",
      "50000/50000 [==============================] - 4s 80us/step - loss: 1.2786 - acc: 0.5444 - val_loss: 1.4394 - val_acc: 0.4959\n",
      "Epoch 14/100\n",
      "50000/50000 [==============================] - 4s 88us/step - loss: 1.2620 - acc: 0.5512 - val_loss: 1.4189 - val_acc: 0.4964\n",
      "Epoch 15/100\n",
      "50000/50000 [==============================] - 4s 79us/step - loss: 1.2350 - acc: 0.5604 - val_loss: 1.3802 - val_acc: 0.5064\n",
      "Epoch 16/100\n",
      "50000/50000 [==============================] - 4s 78us/step - loss: 1.2113 - acc: 0.5674 - val_loss: 1.3649 - val_acc: 0.5138\n",
      "Epoch 17/100\n",
      "50000/50000 [==============================] - 4s 80us/step - loss: 1.1957 - acc: 0.5726 - val_loss: 1.3736 - val_acc: 0.5148\n",
      "Epoch 18/100\n",
      "50000/50000 [==============================] - 4s 86us/step - loss: 1.1718 - acc: 0.5816 - val_loss: 1.3803 - val_acc: 0.5135\n",
      "Epoch 19/100\n",
      "50000/50000 [==============================] - 4s 79us/step - loss: 1.1526 - acc: 0.5878 - val_loss: 1.3447 - val_acc: 0.5300\n",
      "Epoch 20/100\n",
      "50000/50000 [==============================] - 4s 79us/step - loss: 1.1402 - acc: 0.5908 - val_loss: 1.3788 - val_acc: 0.5145\n",
      "Epoch 21/100\n",
      "50000/50000 [==============================] - 4s 79us/step - loss: 1.1171 - acc: 0.5988 - val_loss: 1.3431 - val_acc: 0.5352\n",
      "Epoch 22/100\n",
      "50000/50000 [==============================] - 4s 87us/step - loss: 1.0973 - acc: 0.6071 - val_loss: 1.3680 - val_acc: 0.5231\n",
      "Epoch 23/100\n",
      "50000/50000 [==============================] - 4s 81us/step - loss: 1.0809 - acc: 0.6132 - val_loss: 1.4008 - val_acc: 0.5217\n",
      "Epoch 24/100\n",
      "50000/50000 [==============================] - 4s 79us/step - loss: 1.0658 - acc: 0.6191 - val_loss: 1.3714 - val_acc: 0.5299\n",
      "Epoch 25/100\n",
      "50000/50000 [==============================] - 4s 78us/step - loss: 1.0391 - acc: 0.6291 - val_loss: 1.3702 - val_acc: 0.5344\n",
      "Epoch 26/100\n",
      "50000/50000 [==============================] - 4s 89us/step - loss: 1.0296 - acc: 0.6315 - val_loss: 1.3825 - val_acc: 0.5272\n",
      "Epoch 27/100\n",
      "50000/50000 [==============================] - 4s 82us/step - loss: 1.0026 - acc: 0.6409 - val_loss: 1.4196 - val_acc: 0.5157\n",
      "Epoch 28/100\n",
      "50000/50000 [==============================] - 4s 80us/step - loss: 0.9952 - acc: 0.6443 - val_loss: 1.4136 - val_acc: 0.5218\n",
      "Epoch 29/100\n",
      "50000/50000 [==============================] - 4s 84us/step - loss: 0.9674 - acc: 0.6548 - val_loss: 1.4019 - val_acc: 0.5330\n",
      "Epoch 30/100\n",
      "50000/50000 [==============================] - 4s 78us/step - loss: 0.9538 - acc: 0.6585 - val_loss: 1.4693 - val_acc: 0.5160\n",
      "Epoch 31/100\n",
      "50000/50000 [==============================] - 4s 77us/step - loss: 0.9410 - acc: 0.6622 - val_loss: 1.4000 - val_acc: 0.5329\n",
      "Epoch 32/100\n",
      "50000/50000 [==============================] - 4s 77us/step - loss: 0.9178 - acc: 0.6721 - val_loss: 1.4518 - val_acc: 0.5247\n",
      "Epoch 33/100\n",
      "50000/50000 [==============================] - 4s 84us/step - loss: 0.9032 - acc: 0.6765 - val_loss: 1.4718 - val_acc: 0.5218\n",
      "Epoch 34/100\n",
      "50000/50000 [==============================] - 4s 85us/step - loss: 0.8869 - acc: 0.6798 - val_loss: 1.4900 - val_acc: 0.5263\n",
      "Epoch 35/100\n",
      "50000/50000 [==============================] - 4s 84us/step - loss: 0.8738 - acc: 0.6887 - val_loss: 1.4656 - val_acc: 0.5261\n",
      "Epoch 36/100\n",
      "50000/50000 [==============================] - 4s 84us/step - loss: 0.8646 - acc: 0.6896 - val_loss: 1.4961 - val_acc: 0.5329\n",
      "Epoch 37/100\n",
      "50000/50000 [==============================] - 5s 93us/step - loss: 0.8380 - acc: 0.7002 - val_loss: 1.5334 - val_acc: 0.5141\n",
      "Epoch 38/100\n",
      "50000/50000 [==============================] - 4s 85us/step - loss: 0.8364 - acc: 0.6996 - val_loss: 1.5744 - val_acc: 0.5213\n",
      "Epoch 39/100\n",
      "50000/50000 [==============================] - 4s 88us/step - loss: 0.8151 - acc: 0.7084 - val_loss: 1.5476 - val_acc: 0.5259\n",
      "Epoch 40/100\n",
      "50000/50000 [==============================] - 4s 81us/step - loss: 0.7933 - acc: 0.7142 - val_loss: 1.5329 - val_acc: 0.5325\n",
      "Epoch 41/100\n",
      "50000/50000 [==============================] - 4s 83us/step - loss: 0.7869 - acc: 0.7199 - val_loss: 1.5459 - val_acc: 0.5359\n",
      "Epoch 42/100\n",
      "50000/50000 [==============================] - 4s 83us/step - loss: 0.7675 - acc: 0.7236 - val_loss: 1.5763 - val_acc: 0.5247\n",
      "Epoch 43/100\n",
      "50000/50000 [==============================] - 4s 83us/step - loss: 0.7534 - acc: 0.7306 - val_loss: 1.6106 - val_acc: 0.5272\n",
      "Epoch 44/100\n",
      "50000/50000 [==============================] - 4s 85us/step - loss: 0.7446 - acc: 0.7333 - val_loss: 1.6867 - val_acc: 0.5185\n",
      "Epoch 45/100\n",
      "50000/50000 [==============================] - 4s 81us/step - loss: 0.7294 - acc: 0.7388 - val_loss: 1.6030 - val_acc: 0.5320\n",
      "Epoch 46/100\n",
      "50000/50000 [==============================] - 4s 87us/step - loss: 0.7172 - acc: 0.7430 - val_loss: 1.6586 - val_acc: 0.5270\n",
      "Epoch 47/100\n",
      "50000/50000 [==============================] - 4s 80us/step - loss: 0.6955 - acc: 0.7489 - val_loss: 1.7093 - val_acc: 0.5160\n",
      "Epoch 48/100\n",
      "50000/50000 [==============================] - 4s 81us/step - loss: 0.6865 - acc: 0.7546 - val_loss: 1.7530 - val_acc: 0.5253\n",
      "Epoch 49/100\n",
      "50000/50000 [==============================] - 4s 84us/step - loss: 0.6868 - acc: 0.7528 - val_loss: 1.7363 - val_acc: 0.5238\n",
      "Epoch 50/100\n",
      "50000/50000 [==============================] - 4s 81us/step - loss: 0.6652 - acc: 0.7605 - val_loss: 1.7313 - val_acc: 0.5237\n",
      "Epoch 51/100\n",
      "50000/50000 [==============================] - 4s 81us/step - loss: 0.6456 - acc: 0.7686 - val_loss: 1.7400 - val_acc: 0.5276\n",
      "Epoch 52/100\n",
      "50000/50000 [==============================] - 4s 81us/step - loss: 0.6381 - acc: 0.7707 - val_loss: 1.7900 - val_acc: 0.5189\n",
      "Epoch 53/100\n",
      "50000/50000 [==============================] - 4s 82us/step - loss: 0.6327 - acc: 0.7728 - val_loss: 1.7825 - val_acc: 0.5191\n",
      "Epoch 54/100\n",
      "50000/50000 [==============================] - 4s 80us/step - loss: 0.6324 - acc: 0.7725 - val_loss: 1.8723 - val_acc: 0.5197\n",
      "Epoch 55/100\n",
      "50000/50000 [==============================] - 4s 79us/step - loss: 0.6140 - acc: 0.7797 - val_loss: 1.8828 - val_acc: 0.5200\n",
      "Epoch 56/100\n",
      "50000/50000 [==============================] - 4s 81us/step - loss: 0.5970 - acc: 0.7853 - val_loss: 1.8641 - val_acc: 0.5237\n",
      "Epoch 57/100\n",
      "50000/50000 [==============================] - 4s 82us/step - loss: 0.5740 - acc: 0.7948 - val_loss: 1.8910 - val_acc: 0.5252\n",
      "Epoch 58/100\n",
      "50000/50000 [==============================] - 4s 82us/step - loss: 0.5670 - acc: 0.7973 - val_loss: 1.9015 - val_acc: 0.5218\n",
      "Epoch 59/100\n",
      "50000/50000 [==============================] - 4s 81us/step - loss: 0.5668 - acc: 0.7958 - val_loss: 1.9277 - val_acc: 0.5292\n",
      "Epoch 60/100\n",
      "50000/50000 [==============================] - 4s 82us/step - loss: 0.5444 - acc: 0.8052 - val_loss: 1.9611 - val_acc: 0.5214\n",
      "Epoch 61/100\n",
      "50000/50000 [==============================] - 4s 81us/step - loss: 0.5432 - acc: 0.8041 - val_loss: 1.9822 - val_acc: 0.5174\n",
      "Epoch 62/100\n",
      "50000/50000 [==============================] - 4s 83us/step - loss: 0.5374 - acc: 0.8091 - val_loss: 2.0233 - val_acc: 0.5252\n",
      "Epoch 63/100\n",
      "50000/50000 [==============================] - 4s 82us/step - loss: 0.5163 - acc: 0.8152 - val_loss: 2.1127 - val_acc: 0.5149\n",
      "Epoch 64/100\n",
      "50000/50000 [==============================] - 4s 87us/step - loss: 0.5300 - acc: 0.8098 - val_loss: 2.0517 - val_acc: 0.5109\n",
      "Epoch 65/100\n",
      "50000/50000 [==============================] - 4s 83us/step - loss: 0.5047 - acc: 0.8189 - val_loss: 2.1222 - val_acc: 0.5136\n",
      "Epoch 66/100\n",
      "50000/50000 [==============================] - 4s 83us/step - loss: 0.5113 - acc: 0.8150 - val_loss: 2.0814 - val_acc: 0.5226\n",
      "Epoch 67/100\n",
      "50000/50000 [==============================] - 4s 82us/step - loss: 0.4810 - acc: 0.8291 - val_loss: 2.0761 - val_acc: 0.5239\n",
      "Epoch 68/100\n",
      "50000/50000 [==============================] - 4s 82us/step - loss: 0.4954 - acc: 0.8227 - val_loss: 2.1770 - val_acc: 0.5165\n",
      "Epoch 69/100\n",
      "50000/50000 [==============================] - 4s 84us/step - loss: 0.4646 - acc: 0.8338 - val_loss: 2.2498 - val_acc: 0.5172\n",
      "Epoch 70/100\n",
      "50000/50000 [==============================] - 4s 83us/step - loss: 0.4604 - acc: 0.8358 - val_loss: 2.2820 - val_acc: 0.5095\n",
      "Epoch 71/100\n",
      "50000/50000 [==============================] - 4s 83us/step - loss: 0.4571 - acc: 0.8364 - val_loss: 2.2432 - val_acc: 0.5210\n",
      "Epoch 72/100\n",
      "50000/50000 [==============================] - 4s 84us/step - loss: 0.4486 - acc: 0.8388 - val_loss: 2.3341 - val_acc: 0.5091\n",
      "Epoch 73/100\n",
      "50000/50000 [==============================] - 4s 82us/step - loss: 0.4594 - acc: 0.8360 - val_loss: 2.3213 - val_acc: 0.5135\n",
      "Epoch 74/100\n",
      "50000/50000 [==============================] - 4s 79us/step - loss: 0.4270 - acc: 0.8476 - val_loss: 2.3717 - val_acc: 0.5143\n",
      "Epoch 75/100\n",
      "50000/50000 [==============================] - 4s 80us/step - loss: 0.4149 - acc: 0.8506 - val_loss: 2.3470 - val_acc: 0.5130\n",
      "Epoch 76/100\n",
      "50000/50000 [==============================] - 4s 81us/step - loss: 0.4295 - acc: 0.8449 - val_loss: 2.3112 - val_acc: 0.5133\n",
      "Epoch 77/100\n",
      "50000/50000 [==============================] - 4s 81us/step - loss: 0.4153 - acc: 0.8516 - val_loss: 2.3847 - val_acc: 0.5167\n",
      "Epoch 78/100\n",
      "50000/50000 [==============================] - 4s 81us/step - loss: 0.4077 - acc: 0.8544 - val_loss: 2.4012 - val_acc: 0.5243\n",
      "Epoch 79/100\n",
      "50000/50000 [==============================] - 4s 83us/step - loss: 0.4030 - acc: 0.8556 - val_loss: 2.3960 - val_acc: 0.5131\n",
      "Epoch 80/100\n",
      "50000/50000 [==============================] - 4s 81us/step - loss: 0.3969 - acc: 0.8574 - val_loss: 2.5353 - val_acc: 0.5103\n",
      "Epoch 81/100\n",
      "50000/50000 [==============================] - 4s 81us/step - loss: 0.3965 - acc: 0.8589 - val_loss: 2.4881 - val_acc: 0.5129\n",
      "Epoch 82/100\n",
      "50000/50000 [==============================] - 4s 83us/step - loss: 0.3797 - acc: 0.8631 - val_loss: 2.5273 - val_acc: 0.5114\n",
      "Epoch 83/100\n",
      "50000/50000 [==============================] - 4s 83us/step - loss: 0.3911 - acc: 0.8594 - val_loss: 2.5152 - val_acc: 0.5184\n",
      "Epoch 84/100\n",
      "50000/50000 [==============================] - 4s 87us/step - loss: 0.3718 - acc: 0.8655 - val_loss: 2.5681 - val_acc: 0.5140\n",
      "Epoch 85/100\n",
      "50000/50000 [==============================] - 4s 88us/step - loss: 0.3646 - acc: 0.8700 - val_loss: 2.5301 - val_acc: 0.5178\n",
      "Epoch 86/100\n",
      "50000/50000 [==============================] - 4s 80us/step - loss: 0.3549 - acc: 0.8727 - val_loss: 2.6431 - val_acc: 0.5212\n",
      "Epoch 87/100\n",
      "50000/50000 [==============================] - 4s 79us/step - loss: 0.3505 - acc: 0.8756 - val_loss: 2.5710 - val_acc: 0.5121\n",
      "Epoch 88/100\n",
      "50000/50000 [==============================] - 4s 83us/step - loss: 0.3454 - acc: 0.8751 - val_loss: 2.6588 - val_acc: 0.5183\n",
      "Epoch 89/100\n",
      "50000/50000 [==============================] - 4s 86us/step - loss: 0.3561 - acc: 0.8726 - val_loss: 2.6625 - val_acc: 0.5028\n",
      "Epoch 90/100\n",
      "50000/50000 [==============================] - 4s 89us/step - loss: 0.3463 - acc: 0.8759 - val_loss: 2.7278 - val_acc: 0.5091\n",
      "Epoch 91/100\n",
      "50000/50000 [==============================] - 4s 81us/step - loss: 0.3514 - acc: 0.8748 - val_loss: 2.7188 - val_acc: 0.5031\n",
      "Epoch 92/100\n",
      "50000/50000 [==============================] - 4s 81us/step - loss: 0.3482 - acc: 0.8737 - val_loss: 2.7614 - val_acc: 0.5103\n",
      "Epoch 93/100\n",
      "50000/50000 [==============================] - 4s 80us/step - loss: 0.3283 - acc: 0.8831 - val_loss: 2.8061 - val_acc: 0.5138\n",
      "Epoch 94/100\n",
      "50000/50000 [==============================] - 4s 81us/step - loss: 0.3215 - acc: 0.8843 - val_loss: 2.7325 - val_acc: 0.5127\n",
      "Epoch 95/100\n",
      "50000/50000 [==============================] - 4s 83us/step - loss: 0.3397 - acc: 0.8778 - val_loss: 2.8394 - val_acc: 0.5044\n",
      "Epoch 96/100\n",
      "50000/50000 [==============================] - 4s 82us/step - loss: 0.3501 - acc: 0.8734 - val_loss: 2.8593 - val_acc: 0.5105\n",
      "Epoch 97/100\n",
      "50000/50000 [==============================] - 4s 82us/step - loss: 0.3313 - acc: 0.8810 - val_loss: 2.8291 - val_acc: 0.5156\n",
      "Epoch 98/100\n",
      "50000/50000 [==============================] - 4s 82us/step - loss: 0.2873 - acc: 0.8988 - val_loss: 2.8512 - val_acc: 0.5134\n",
      "Epoch 99/100\n",
      "50000/50000 [==============================] - 4s 84us/step - loss: 0.2913 - acc: 0.8949 - val_loss: 2.8965 - val_acc: 0.5056\n",
      "Epoch 100/100\n",
      "50000/50000 [==============================] - 4s 83us/step - loss: 0.3112 - acc: 0.8879 - val_loss: 2.9514 - val_acc: 0.5034\n"
     ]
    },
    {
     "data": {
      "text/plain": [
       "<keras.callbacks.History at 0x7f9246f389e8>"
      ]
     },
     "execution_count": 7,
     "metadata": {},
     "output_type": "execute_result"
    }
   ],
   "source": [
    "# 訓練模型並檢視驗證集的結果\n",
    "model.fit(x_train, y_train, \n",
    "          epochs=100, \n",
    "          batch_size=256, \n",
    "          validation_data=(x_test, y_test), \n",
    "          shuffle=True)"
   ]
  },
  {
   "cell_type": "code",
   "execution_count": 9,
   "metadata": {},
   "outputs": [
    {
     "data": {
      "image/png": "[encoded data removed]",
      "text/plain": [
       "<Figure size 432x288 with 1 Axes>"
      ]
     },
     "metadata": {},
     "output_type": "display_data"
    },
    {
     "data": {
      "image/png": "[encoded data removed]",
      "text/plain": [
       "<Figure size 432x288 with 1 Axes>"
      ]
     },
     "metadata": {},
     "output_type": "display_data"
    }
   ],
   "source": [
    "# 以視覺畫方式檢視訓練過程\n",
    "import matplotlib.pyplot as plt\n",
    "train_loss = model.history.history[\"loss\"]\n",
    "valid_loss = model.history.history[\"val_loss\"]\n",
    "\n",
    "train_acc = model.history.history[\"acc\"]\n",
    "valid_acc = model.history.history[\"val_acc\"]\n",
    "\n",
    "plt.plot(range(len(train_loss)), train_loss, label=\"train loss\")\n",
    "plt.plot(range(len(valid_loss)), valid_loss, label=\"valid loss\")\n",
    "plt.legend()\n",
    "plt.title(\"Loss\")\n",
    "plt.show()\n",
    "\n",
    "plt.plot(range(len(train_acc)), train_acc, label=\"train accuracy\")\n",
    "plt.plot(range(len(valid_acc)), valid_acc, label=\"valid accuracy\")\n",
    "plt.legend()\n",
    "plt.title(\"Accuracy\")\n",
    "plt.show()"
   ]
  },
  {
   "cell_type": "markdown",
   "metadata": {},
   "source": [
    "## 作業\n",
    "1. 請將 Epoch 加到 500 個，並觀察 learning curve 的走勢\n",
    "2. 請將 Optimizer 換成 SGD，並觀察 learning curve 的走勢"
   ]
  }
 ],
 "metadata": {
  "kernelspec": {
   "display_name": "Python 3",
   "language": "python",
   "name": "python3"
  },
  "language_info": {
   "codemirror_mode": {
    "name": "ipython",
    "version": 3
   },
   "file_extension": ".py",
   "mimetype": "text/x-python",
   "name": "python",
   "nbconvert_exporter": "python",
   "pygments_lexer": "ipython3",
   "version": "3.7.7"
  }
 },
 "nbformat": 4,
 "nbformat_minor": 2
}
