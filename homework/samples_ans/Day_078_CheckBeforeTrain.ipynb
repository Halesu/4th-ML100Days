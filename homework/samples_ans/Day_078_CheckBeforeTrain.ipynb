{
 "cells": [
  {
   "cell_type": "markdown",
   "metadata": {},
   "source": [
    "## 範例重點\n",
    "### 學習在模型開始前檢查各個環節\n",
    "1. 是否有 GPU 資源\n",
    "2. 將前處理轉為函式，統一處理訓練、驗證與測試集\n",
    "3. 將超參數變數化，易於重複使用函式、模型等"
   ]
  },
  {
   "cell_type": "code",
   "execution_count": 1,
   "metadata": {},
   "outputs": [
    {
     "name": "stdout",
     "output_type": "stream",
     "text": [
      "Tue Jun 16 10:26:09 2020       \n",
      "+-----------------------------------------------------------------------------+\n",
      "| NVIDIA-SMI 442.23       Driver Version: 442.23       CUDA Version: 10.2     |\n",
      "|-------------------------------+----------------------+----------------------+\n",
      "| GPU  Name            TCC/WDDM | Bus-Id        Disp.A | Volatile Uncorr. ECC |\n",
      "| Fan  Temp  Perf  Pwr:Usage/Cap|         Memory-Usage | GPU-Util  Compute M. |\n",
      "|===============================+======================+======================|\n",
      "|   0  GeForce MX250      WDDM  | 00000000:3C:00.0 Off |                  N/A |\n",
      "| N/A   56C    P0    N/A /  N/A |     64MiB /  2048MiB |      0%      Default |\n",
      "+-------------------------------+----------------------+----------------------+\n",
      "                                                                               \n",
      "+-----------------------------------------------------------------------------+\n",
      "| Processes:                                                       GPU Memory |\n",
      "|  GPU       PID   Type   Process name                             Usage      |\n",
      "|=============================================================================|\n",
      "|    0     10528      C   ...er\\Anaconda3\\envs\\tensorflow\\python.exe N/A      |\n",
      "|    0     16112      C   ...er\\Anaconda3\\envs\\tensorflow\\python.exe N/A      |\n",
      "|    0     18816      C   ...er\\Anaconda3\\envs\\tensorflow\\python.exe N/A      |\n",
      "+-----------------------------------------------------------------------------+\n"
     ]
    }
   ],
   "source": [
    "## 確認硬體資源 (如果你是在 Linux, 若是在 Windows, 請參考 https://blog.csdn.net/idwtwt/article/details/78017565)\n",
    "!nvidia-smi"
   ]
  },
  {
   "cell_type": "code",
   "execution_count": 2,
   "metadata": {},
   "outputs": [
    {
     "name": "stderr",
     "output_type": "stream",
     "text": [
      "Using TensorFlow backend.\n"
     ]
    }
   ],
   "source": [
    "import os\n",
    "import keras\n",
    "\n",
    "# 本範例不需使用 GPU, 將 GPU 設定為 \"無\"\n",
    "os.environ[\"CUDA_VISIBLE_DEVICES\"] = \"-1\"    "
   ]
  },
  {
   "cell_type": "code",
   "execution_count": 3,
   "metadata": {},
   "outputs": [],
   "source": [
    "# 從 Keras 的內建功能中，取得 train 與 test 資料集\n",
    "train, test = keras.datasets.cifar10.load_data()"
   ]
  },
  {
   "cell_type": "code",
   "execution_count": 4,
   "metadata": {},
   "outputs": [],
   "source": [
    "## 資料前處理\n",
    "def preproc_x(x, flatten=True):\n",
    "    x = x / 255.\n",
    "    if flatten:\n",
    "        x = x.reshape((len(x), -1))\n",
    "    return x\n",
    "\n",
    "def preproc_y(y, num_classes=10):\n",
    "    if y.shape[-1] == 1:\n",
    "        y = keras.utils.to_categorical(y, num_classes)\n",
    "    return y    "
   ]
  },
  {
   "cell_type": "code",
   "execution_count": 5,
   "metadata": {},
   "outputs": [],
   "source": [
    "x_train, y_train = train\n",
    "x_test, y_test = test\n",
    "\n",
    "# 資料前處理 - X 標準化\n",
    "x_train = preproc_x(x_train)\n",
    "x_test = preproc_x(x_test)\n",
    "\n",
    "# 資料前處理 -Y 轉成 onehot\n",
    "y_train = preproc_y(y_train)\n",
    "y_test = preproc_y(y_test)"
   ]
  },
  {
   "cell_type": "code",
   "execution_count": 6,
   "metadata": {},
   "outputs": [],
   "source": [
    "def build_mlp(input_shape, output_units=10, num_neurons=[512, 256, 128]):\n",
    "    input_layer = keras.layers.Input(input_shape)\n",
    "    \n",
    "    for i, n_units in enumerate(num_neurons):\n",
    "        if i == 0:\n",
    "            x = keras.layers.Dense(units=n_units, activation=\"relu\", name=\"hidden_layer\"+str(i+1))(input_layer)\n",
    "        else:\n",
    "            x = keras.layers.Dense(units=n_units, activation=\"relu\", name=\"hidden_layer\"+str(i+1))(x)\n",
    "    \n",
    "    out = keras.layers.Dense(units=output_units, activation=\"softmax\", name=\"output\")(x)\n",
    "    \n",
    "    model = keras.models.Model(inputs=[input_layer], outputs=[out])\n",
    "    return model"
   ]
  },
  {
   "cell_type": "code",
   "execution_count": 7,
   "metadata": {},
   "outputs": [
    {
     "name": "stdout",
     "output_type": "stream",
     "text": [
      "Model: \"model_1\"\n",
      "_________________________________________________________________\n",
      "Layer (type)                 Output Shape              Param #   \n",
      "=================================================================\n",
      "input_1 (InputLayer)         (None, 3072)              0         \n",
      "_________________________________________________________________\n",
      "hidden_layer1 (Dense)        (None, 512)               1573376   \n",
      "_________________________________________________________________\n",
      "hidden_layer2 (Dense)        (None, 256)               131328    \n",
      "_________________________________________________________________\n",
      "hidden_layer3 (Dense)        (None, 128)               32896     \n",
      "_________________________________________________________________\n",
      "output (Dense)               (None, 10)                1290      \n",
      "=================================================================\n",
      "Total params: 1,738,890\n",
      "Trainable params: 1,738,890\n",
      "Non-trainable params: 0\n",
      "_________________________________________________________________\n"
     ]
    }
   ],
   "source": [
    "model = build_mlp(input_shape=x_train.shape[1:])\n",
    "model.summary()"
   ]
  },
  {
   "cell_type": "code",
   "execution_count": 8,
   "metadata": {},
   "outputs": [],
   "source": [
    "## 超參數設定\n",
    "LEARNING_RATE = 0.001\n",
    "EPOCHS = 100\n",
    "BATCH_SIZE = 256"
   ]
  },
  {
   "cell_type": "code",
   "execution_count": 9,
   "metadata": {},
   "outputs": [],
   "source": [
    "optimizer = keras.optimizers.Adam(lr=LEARNING_RATE)\n",
    "model.compile(loss=\"categorical_crossentropy\", metrics=[\"accuracy\"], optimizer=optimizer)"
   ]
  },
  {
   "cell_type": "code",
   "execution_count": 10,
   "metadata": {},
   "outputs": [
    {
     "name": "stdout",
     "output_type": "stream",
     "text": [
      "Train on 50000 samples, validate on 10000 samples\n",
      "Epoch 1/100\n",
      "50000/50000 [==============================] - 10s 197us/step - loss: 1.9403 - accuracy: 0.3031 - val_loss: 1.7881 - val_accuracy: 0.3513\n",
      "Epoch 2/100\n",
      "50000/50000 [==============================] - 8s 164us/step - loss: 1.7151 - accuracy: 0.3863 - val_loss: 1.6920 - val_accuracy: 0.3967\n",
      "Epoch 3/100\n",
      "50000/50000 [==============================] - 8s 153us/step - loss: 1.6281 - accuracy: 0.4183 - val_loss: 1.5770 - val_accuracy: 0.4357\n",
      "Epoch 4/100\n",
      "50000/50000 [==============================] - 8s 151us/step - loss: 1.5594 - accuracy: 0.4446 - val_loss: 1.5395 - val_accuracy: 0.4536\n",
      "Epoch 5/100\n",
      "50000/50000 [==============================] - 8s 156us/step - loss: 1.5125 - accuracy: 0.4617 - val_loss: 1.5221 - val_accuracy: 0.4581\n",
      "Epoch 6/100\n",
      "50000/50000 [==============================] - 8s 165us/step - loss: 1.4735 - accuracy: 0.4729 - val_loss: 1.4646 - val_accuracy: 0.4824\n",
      "Epoch 7/100\n",
      "50000/50000 [==============================] - 9s 182us/step - loss: 1.4412 - accuracy: 0.4864 - val_loss: 1.4620 - val_accuracy: 0.4798\n",
      "Epoch 8/100\n",
      "50000/50000 [==============================] - 9s 186us/step - loss: 1.4110 - accuracy: 0.4970 - val_loss: 1.4819 - val_accuracy: 0.4717\n",
      "Epoch 9/100\n",
      "50000/50000 [==============================] - 9s 176us/step - loss: 1.3820 - accuracy: 0.5092 - val_loss: 1.4456 - val_accuracy: 0.4836\n",
      "Epoch 10/100\n",
      "50000/50000 [==============================] - 8s 160us/step - loss: 1.3575 - accuracy: 0.5167 - val_loss: 1.4126 - val_accuracy: 0.4983\n",
      "Epoch 11/100\n",
      "50000/50000 [==============================] - 8s 157us/step - loss: 1.3266 - accuracy: 0.5282 - val_loss: 1.3896 - val_accuracy: 0.5050\n",
      "Epoch 12/100\n",
      "50000/50000 [==============================] - 9s 172us/step - loss: 1.2970 - accuracy: 0.5387 - val_loss: 1.3870 - val_accuracy: 0.5081\n",
      "Epoch 13/100\n",
      "50000/50000 [==============================] - 9s 186us/step - loss: 1.2717 - accuracy: 0.5462 - val_loss: 1.4100 - val_accuracy: 0.5058\n",
      "Epoch 14/100\n",
      "50000/50000 [==============================] - 9s 172us/step - loss: 1.2522 - accuracy: 0.5538 - val_loss: 1.3969 - val_accuracy: 0.5013\n",
      "Epoch 15/100\n",
      "50000/50000 [==============================] - 10s 191us/step - loss: 1.2270 - accuracy: 0.5634 - val_loss: 1.3936 - val_accuracy: 0.5035\n",
      "Epoch 16/100\n",
      "50000/50000 [==============================] - 8s 163us/step - loss: 1.2093 - accuracy: 0.5699 - val_loss: 1.3709 - val_accuracy: 0.5176\n",
      "Epoch 17/100\n",
      "50000/50000 [==============================] - 8s 156us/step - loss: 1.1912 - accuracy: 0.5744 - val_loss: 1.3780 - val_accuracy: 0.5219\n",
      "Epoch 18/100\n",
      "50000/50000 [==============================] - 8s 157us/step - loss: 1.1642 - accuracy: 0.5863 - val_loss: 1.3791 - val_accuracy: 0.5238\n",
      "Epoch 19/100\n",
      "50000/50000 [==============================] - 8s 158us/step - loss: 1.1381 - accuracy: 0.5953 - val_loss: 1.3925 - val_accuracy: 0.5173\n",
      "Epoch 20/100\n",
      "50000/50000 [==============================] - 8s 152us/step - loss: 1.1218 - accuracy: 0.6018 - val_loss: 1.3936 - val_accuracy: 0.5125\n",
      "Epoch 21/100\n",
      "50000/50000 [==============================] - 7s 147us/step - loss: 1.1066 - accuracy: 0.6070 - val_loss: 1.3945 - val_accuracy: 0.5134\n",
      "Epoch 22/100\n",
      "50000/50000 [==============================] - 7s 149us/step - loss: 1.0912 - accuracy: 0.6099 - val_loss: 1.3929 - val_accuracy: 0.5270\n",
      "Epoch 23/100\n",
      "50000/50000 [==============================] - 8s 157us/step - loss: 1.0706 - accuracy: 0.6206 - val_loss: 1.3969 - val_accuracy: 0.5190\n",
      "Epoch 24/100\n",
      "50000/50000 [==============================] - 8s 160us/step - loss: 1.0442 - accuracy: 0.6297 - val_loss: 1.4256 - val_accuracy: 0.5222\n",
      "Epoch 25/100\n",
      "50000/50000 [==============================] - 8s 167us/step - loss: 1.0348 - accuracy: 0.6303 - val_loss: 1.4211 - val_accuracy: 0.5214\n",
      "Epoch 26/100\n",
      "50000/50000 [==============================] - 8s 153us/step - loss: 1.0025 - accuracy: 0.6419 - val_loss: 1.4006 - val_accuracy: 0.5312\n",
      "Epoch 27/100\n",
      "50000/50000 [==============================] - 8s 155us/step - loss: 0.9888 - accuracy: 0.6461 - val_loss: 1.4219 - val_accuracy: 0.5208\n",
      "Epoch 28/100\n",
      "50000/50000 [==============================] - 8s 156us/step - loss: 0.9745 - accuracy: 0.6511 - val_loss: 1.4140 - val_accuracy: 0.5217\n",
      "Epoch 29/100\n",
      "50000/50000 [==============================] - 8s 154us/step - loss: 0.9564 - accuracy: 0.6603 - val_loss: 1.4482 - val_accuracy: 0.5245\n",
      "Epoch 30/100\n",
      "50000/50000 [==============================] - 8s 153us/step - loss: 0.9346 - accuracy: 0.6654 - val_loss: 1.4372 - val_accuracy: 0.5243\n",
      "Epoch 31/100\n",
      "50000/50000 [==============================] - 8s 151us/step - loss: 0.9165 - accuracy: 0.6711 - val_loss: 1.4570 - val_accuracy: 0.5288\n",
      "Epoch 32/100\n",
      "50000/50000 [==============================] - 9s 175us/step - loss: 0.8988 - accuracy: 0.6775 - val_loss: 1.4740 - val_accuracy: 0.5279\n",
      "Epoch 33/100\n",
      "50000/50000 [==============================] - 8s 164us/step - loss: 0.8869 - accuracy: 0.6839 - val_loss: 1.5242 - val_accuracy: 0.5156\n",
      "Epoch 34/100\n",
      "50000/50000 [==============================] - 8s 168us/step - loss: 0.8773 - accuracy: 0.6860 - val_loss: 1.5280 - val_accuracy: 0.5191\n",
      "Epoch 35/100\n",
      "50000/50000 [==============================] - 8s 163us/step - loss: 0.8561 - accuracy: 0.6903 - val_loss: 1.5229 - val_accuracy: 0.5216\n",
      "Epoch 36/100\n",
      "50000/50000 [==============================] - 8s 168us/step - loss: 0.8441 - accuracy: 0.6989 - val_loss: 1.5701 - val_accuracy: 0.5227\n",
      "Epoch 37/100\n",
      "50000/50000 [==============================] - 7s 143us/step - loss: 0.8145 - accuracy: 0.7082 - val_loss: 1.5342 - val_accuracy: 0.5273\n",
      "Epoch 38/100\n",
      "50000/50000 [==============================] - 7s 149us/step - loss: 0.7969 - accuracy: 0.7137 - val_loss: 1.5855 - val_accuracy: 0.5129\n",
      "Epoch 39/100\n",
      "50000/50000 [==============================] - 8s 164us/step - loss: 0.7816 - accuracy: 0.7211 - val_loss: 1.6200 - val_accuracy: 0.5071\n",
      "Epoch 40/100\n",
      "50000/50000 [==============================] - 8s 166us/step - loss: 0.7698 - accuracy: 0.7256 - val_loss: 1.6269 - val_accuracy: 0.5265\n",
      "Epoch 41/100\n",
      "50000/50000 [==============================] - 8s 162us/step - loss: 0.7672 - accuracy: 0.7253 - val_loss: 1.6170 - val_accuracy: 0.5224\n",
      "Epoch 42/100\n",
      "50000/50000 [==============================] - 8s 155us/step - loss: 0.7415 - accuracy: 0.7375 - val_loss: 1.6332 - val_accuracy: 0.5279\n",
      "Epoch 43/100\n",
      "50000/50000 [==============================] - 7s 148us/step - loss: 0.7179 - accuracy: 0.7421 - val_loss: 1.6920 - val_accuracy: 0.5180\n",
      "Epoch 44/100\n",
      "50000/50000 [==============================] - 8s 150us/step - loss: 0.6983 - accuracy: 0.7499 - val_loss: 1.7307 - val_accuracy: 0.5106\n",
      "Epoch 45/100\n",
      "50000/50000 [==============================] - 8s 151us/step - loss: 0.6849 - accuracy: 0.7566 - val_loss: 1.7371 - val_accuracy: 0.5146\n",
      "Epoch 46/100\n",
      "50000/50000 [==============================] - 7s 150us/step - loss: 0.6799 - accuracy: 0.7546 - val_loss: 1.7982 - val_accuracy: 0.5158\n",
      "Epoch 47/100\n",
      "50000/50000 [==============================] - 8s 151us/step - loss: 0.6674 - accuracy: 0.7624 - val_loss: 1.7565 - val_accuracy: 0.5159\n",
      "Epoch 48/100\n",
      "50000/50000 [==============================] - 7s 146us/step - loss: 0.6707 - accuracy: 0.7605 - val_loss: 1.7904 - val_accuracy: 0.5227\n",
      "Epoch 49/100\n",
      "50000/50000 [==============================] - 8s 151us/step - loss: 0.6371 - accuracy: 0.7725 - val_loss: 1.8190 - val_accuracy: 0.5172\n",
      "Epoch 50/100\n",
      "50000/50000 [==============================] - 7s 145us/step - loss: 0.6242 - accuracy: 0.7771 - val_loss: 1.8691 - val_accuracy: 0.5108\n",
      "Epoch 51/100\n",
      "50000/50000 [==============================] - 8s 154us/step - loss: 0.6199 - accuracy: 0.7769 - val_loss: 1.8722 - val_accuracy: 0.5125\n",
      "Epoch 52/100\n",
      "50000/50000 [==============================] - 8s 166us/step - loss: 0.6133 - accuracy: 0.7796 - val_loss: 1.8980 - val_accuracy: 0.5134\n",
      "Epoch 53/100\n",
      "50000/50000 [==============================] - 8s 153us/step - loss: 0.6015 - accuracy: 0.7853 - val_loss: 1.9275 - val_accuracy: 0.5057\n",
      "Epoch 54/100\n",
      "50000/50000 [==============================] - 8s 166us/step - loss: 0.5843 - accuracy: 0.7905 - val_loss: 1.9371 - val_accuracy: 0.5176\n",
      "Epoch 55/100\n"
     ]
    },
    {
     "name": "stdout",
     "output_type": "stream",
     "text": [
      "50000/50000 [==============================] - 9s 176us/step - loss: 0.5714 - accuracy: 0.7959 - val_loss: 1.9521 - val_accuracy: 0.5208\n",
      "Epoch 56/100\n",
      "50000/50000 [==============================] - 8s 167us/step - loss: 0.5510 - accuracy: 0.8034 - val_loss: 1.9941 - val_accuracy: 0.5182\n",
      "Epoch 57/100\n",
      "50000/50000 [==============================] - 8s 169us/step - loss: 0.5487 - accuracy: 0.8036 - val_loss: 2.0518 - val_accuracy: 0.5044\n",
      "Epoch 58/100\n",
      "50000/50000 [==============================] - 9s 184us/step - loss: 0.5576 - accuracy: 0.7990 - val_loss: 2.1227 - val_accuracy: 0.4975\n",
      "Epoch 59/100\n",
      "50000/50000 [==============================] - 8s 159us/step - loss: 0.5535 - accuracy: 0.8004 - val_loss: 2.0665 - val_accuracy: 0.5133\n",
      "Epoch 60/100\n",
      "50000/50000 [==============================] - 8s 160us/step - loss: 0.5111 - accuracy: 0.8163 - val_loss: 2.1594 - val_accuracy: 0.5068\n",
      "Epoch 61/100\n",
      "50000/50000 [==============================] - 8s 160us/step - loss: 0.5139 - accuracy: 0.8160 - val_loss: 2.1725 - val_accuracy: 0.5049\n",
      "Epoch 62/100\n",
      "50000/50000 [==============================] - 8s 157us/step - loss: 0.4986 - accuracy: 0.8195 - val_loss: 2.1713 - val_accuracy: 0.5131\n",
      "Epoch 63/100\n",
      "50000/50000 [==============================] - 8s 156us/step - loss: 0.5097 - accuracy: 0.8174 - val_loss: 2.2112 - val_accuracy: 0.5052\n",
      "Epoch 64/100\n",
      "50000/50000 [==============================] - 8s 160us/step - loss: 0.4885 - accuracy: 0.8254 - val_loss: 2.2098 - val_accuracy: 0.5168\n",
      "Epoch 65/100\n",
      "50000/50000 [==============================] - 8s 165us/step - loss: 0.4781 - accuracy: 0.8294 - val_loss: 2.2553 - val_accuracy: 0.5122\n",
      "Epoch 66/100\n",
      "50000/50000 [==============================] - 8s 155us/step - loss: 0.4549 - accuracy: 0.8387 - val_loss: 2.2756 - val_accuracy: 0.5190\n",
      "Epoch 67/100\n",
      "50000/50000 [==============================] - 9s 171us/step - loss: 0.4543 - accuracy: 0.8351 - val_loss: 2.2982 - val_accuracy: 0.5072\n",
      "Epoch 68/100\n",
      "50000/50000 [==============================] - 8s 157us/step - loss: 0.4527 - accuracy: 0.8379 - val_loss: 2.3994 - val_accuracy: 0.5044\n",
      "Epoch 69/100\n",
      "50000/50000 [==============================] - 8s 158us/step - loss: 0.4497 - accuracy: 0.8397 - val_loss: 2.3868 - val_accuracy: 0.5067\n",
      "Epoch 70/100\n",
      "50000/50000 [==============================] - 11s 212us/step - loss: 0.4395 - accuracy: 0.8418 - val_loss: 2.4614 - val_accuracy: 0.5084\n",
      "Epoch 71/100\n",
      "50000/50000 [==============================] - 8s 169us/step - loss: 0.4110 - accuracy: 0.8530 - val_loss: 2.4783 - val_accuracy: 0.5116\n",
      "Epoch 72/100\n",
      "50000/50000 [==============================] - 8s 167us/step - loss: 0.4390 - accuracy: 0.8414 - val_loss: 2.4644 - val_accuracy: 0.5080\n",
      "Epoch 73/100\n",
      "50000/50000 [==============================] - 9s 172us/step - loss: 0.4318 - accuracy: 0.8444 - val_loss: 2.4949 - val_accuracy: 0.5020\n",
      "Epoch 74/100\n",
      "50000/50000 [==============================] - 8s 156us/step - loss: 0.4040 - accuracy: 0.8570 - val_loss: 2.6028 - val_accuracy: 0.4961\n",
      "Epoch 75/100\n",
      "50000/50000 [==============================] - 8s 154us/step - loss: 0.3956 - accuracy: 0.8603 - val_loss: 2.5549 - val_accuracy: 0.5033\n",
      "Epoch 76/100\n",
      "50000/50000 [==============================] - 8s 153us/step - loss: 0.4009 - accuracy: 0.8560 - val_loss: 2.5386 - val_accuracy: 0.5081\n",
      "Epoch 77/100\n",
      "50000/50000 [==============================] - 8s 164us/step - loss: 0.4147 - accuracy: 0.8477 - val_loss: 2.5771 - val_accuracy: 0.5078\n",
      "Epoch 78/100\n",
      "50000/50000 [==============================] - 8s 162us/step - loss: 0.3780 - accuracy: 0.8646 - val_loss: 2.7360 - val_accuracy: 0.5075\n",
      "Epoch 79/100\n",
      "50000/50000 [==============================] - 8s 162us/step - loss: 0.3687 - accuracy: 0.8678 - val_loss: 2.7785 - val_accuracy: 0.4986\n",
      "Epoch 80/100\n",
      "50000/50000 [==============================] - 8s 163us/step - loss: 0.3670 - accuracy: 0.8688 - val_loss: 2.7597 - val_accuracy: 0.5086\n",
      "Epoch 81/100\n",
      "50000/50000 [==============================] - 8s 157us/step - loss: 0.3593 - accuracy: 0.8715 - val_loss: 2.7606 - val_accuracy: 0.4996\n",
      "Epoch 82/100\n",
      "50000/50000 [==============================] - 8s 158us/step - loss: 0.3681 - accuracy: 0.8689 - val_loss: 2.8024 - val_accuracy: 0.5005\n",
      "Epoch 83/100\n",
      "50000/50000 [==============================] - 8s 163us/step - loss: 0.3617 - accuracy: 0.8686 - val_loss: 2.8828 - val_accuracy: 0.5054\n",
      "Epoch 84/100\n",
      "50000/50000 [==============================] - 8s 160us/step - loss: 0.3493 - accuracy: 0.8750 - val_loss: 2.8252 - val_accuracy: 0.5041\n",
      "Epoch 85/100\n",
      "50000/50000 [==============================] - 8s 160us/step - loss: 0.3553 - accuracy: 0.8710 - val_loss: 2.9515 - val_accuracy: 0.4952\n",
      "Epoch 86/100\n",
      "50000/50000 [==============================] - 8s 163us/step - loss: 0.3400 - accuracy: 0.8776 - val_loss: 2.8903 - val_accuracy: 0.5054\n",
      "Epoch 87/100\n",
      "50000/50000 [==============================] - 8s 168us/step - loss: 0.3271 - accuracy: 0.8830 - val_loss: 3.0112 - val_accuracy: 0.4866\n",
      "Epoch 88/100\n",
      "50000/50000 [==============================] - 9s 172us/step - loss: 0.3284 - accuracy: 0.8846 - val_loss: 3.0419 - val_accuracy: 0.5021\n",
      "Epoch 89/100\n",
      "50000/50000 [==============================] - 8s 160us/step - loss: 0.3091 - accuracy: 0.8904 - val_loss: 3.1845 - val_accuracy: 0.4978\n",
      "Epoch 90/100\n",
      "50000/50000 [==============================] - 8s 159us/step - loss: 0.3234 - accuracy: 0.8823 - val_loss: 3.2919 - val_accuracy: 0.4945\n",
      "Epoch 91/100\n",
      "50000/50000 [==============================] - 8s 160us/step - loss: 0.3316 - accuracy: 0.8812 - val_loss: 3.0573 - val_accuracy: 0.4991\n",
      "Epoch 92/100\n",
      "50000/50000 [==============================] - 8s 165us/step - loss: 0.3085 - accuracy: 0.8886 - val_loss: 3.1203 - val_accuracy: 0.5053\n",
      "Epoch 93/100\n",
      "50000/50000 [==============================] - 8s 170us/step - loss: 0.2896 - accuracy: 0.8973 - val_loss: 3.1892 - val_accuracy: 0.5028\n",
      "Epoch 94/100\n",
      "50000/50000 [==============================] - 8s 160us/step - loss: 0.3062 - accuracy: 0.8907 - val_loss: 3.1352 - val_accuracy: 0.5037\n",
      "Epoch 95/100\n",
      "50000/50000 [==============================] - 8s 163us/step - loss: 0.3204 - accuracy: 0.8837 - val_loss: 3.2280 - val_accuracy: 0.4957\n",
      "Epoch 96/100\n",
      "50000/50000 [==============================] - 8s 157us/step - loss: 0.3024 - accuracy: 0.8924 - val_loss: 3.2887 - val_accuracy: 0.4982\n",
      "Epoch 97/100\n",
      "50000/50000 [==============================] - 8s 161us/step - loss: 0.3014 - accuracy: 0.8913 - val_loss: 3.3303 - val_accuracy: 0.5035\n",
      "Epoch 98/100\n",
      "50000/50000 [==============================] - 8s 163us/step - loss: 0.2906 - accuracy: 0.8957 - val_loss: 3.3473 - val_accuracy: 0.5023\n",
      "Epoch 99/100\n",
      "50000/50000 [==============================] - 8s 165us/step - loss: 0.2764 - accuracy: 0.9013 - val_loss: 3.3756 - val_accuracy: 0.5029\n",
      "Epoch 100/100\n",
      "50000/50000 [==============================] - 8s 167us/step - loss: 0.2930 - accuracy: 0.8957 - val_loss: 3.4398 - val_accuracy: 0.4953\n"
     ]
    },
    {
     "data": {
      "text/plain": [
       "<keras.callbacks.callbacks.History at 0x28cf30ed688>"
      ]
     },
     "execution_count": 10,
     "metadata": {},
     "output_type": "execute_result"
    }
   ],
   "source": [
    "model.fit(x_train, y_train, \n",
    "          epochs=EPOCHS, \n",
    "          batch_size=BATCH_SIZE, \n",
    "          validation_data=(x_test, y_test), \n",
    "          shuffle=True)"
   ]
  },
  {
   "cell_type": "code",
   "execution_count": 12,
   "metadata": {},
   "outputs": [
    {
     "data": {
      "image/png": "[encoded data removed]",
      "text/plain": [
       "<Figure size 432x288 with 1 Axes>"
      ]
     },
     "metadata": {
      "needs_background": "light"
     },
     "output_type": "display_data"
    },
    {
     "data": {
      "image/png": "[encoded data removed]",
      "text/plain": [
       "<Figure size 432x288 with 1 Axes>"
      ]
     },
     "metadata": {
      "needs_background": "light"
     },
     "output_type": "display_data"
    }
   ],
   "source": [
    "# 訓練模型並檢視驗證集的結果\n",
    "import matplotlib.pyplot as plt\n",
    "\n",
    "train_loss = model.history.history[\"loss\"]\n",
    "valid_loss = model.history.history[\"val_loss\"]\n",
    "\n",
    "train_acc = model.history.history[\"accuracy\"]\n",
    "valid_acc = model.history.history[\"val_accuracy\"]\n",
    "\n",
    "plt.plot(range(len(train_loss)), train_loss, label=\"train loss\")\n",
    "plt.plot(range(len(valid_loss)), valid_loss, label=\"valid loss\")\n",
    "plt.legend()\n",
    "plt.title(\"Loss\")\n",
    "plt.show()\n",
    "\n",
    "plt.plot(range(len(train_acc)), train_acc, label=\"train accuracy\")\n",
    "plt.plot(range(len(valid_acc)), valid_acc, label=\"valid accuracy\")\n",
    "plt.legend()\n",
    "plt.title(\"Accuracy\")\n",
    "plt.show()"
   ]
  },
  {
   "cell_type": "markdown",
   "metadata": {},
   "source": [
    "## Work\n",
    "1. 請嘗試將 preproc_x 替換成以每筆資料的 min/max 進行標準化至 -1 ~ 1 間，再進行訓練\n",
    "2. 請嘗試將 mlp 疊更深 (e.g 5~10 層)，進行訓練後觀察 learning curve 的走勢\n",
    "3. (optional) 請改用 GPU 進行訓練 (如果你有 GPU 的話)，比較使用 CPU 與 GPU 的訓練速度"
   ]
  }
 ],
 "metadata": {
  "kernelspec": {
   "display_name": "Python 3",
   "language": "python",
   "name": "python3"
  },
  "language_info": {
   "codemirror_mode": {
    "name": "ipython",
    "version": 3
   },
   "file_extension": ".py",
   "mimetype": "text/x-python",
   "name": "python",
   "nbconvert_exporter": "python",
   "pygments_lexer": "ipython3",
   "version": "3.7.7"
  }
 },
 "nbformat": 4,
 "nbformat_minor": 2
}
