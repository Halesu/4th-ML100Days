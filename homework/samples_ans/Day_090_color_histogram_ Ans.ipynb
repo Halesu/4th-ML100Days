{
 "cells": [
  {
   "cell_type": "code",
   "execution_count": null,
   "metadata": {},
   "outputs": [],
   "source": [
    "import os\n",
    "import keras\n",
    "os.environ[\"CUDA_VISIBLE_DEVICES\"] = \"\" # 使用 CPU\n",
    "\n",
    "import cv2 # 載入 cv2 套件\n",
    "import matplotlib.pyplot as plt\n",
    "\n",
    "train, test = keras.datasets.cifar10.load_data()"
   ]
  },
  {
   "cell_type": "code",
   "execution_count": null,
   "metadata": {},
   "outputs": [],
   "source": [
    "image = train[0][0] # 讀取圖片\n",
    "\n",
    "plt.imshow(image)\n",
    "plt.show()"
   ]
  },
  {
   "cell_type": "code",
   "execution_count": null,
   "metadata": {},
   "outputs": [],
   "source": [
    "# 把彩色的圖片轉為灰度圖\n",
    "gray = cv2.cvtColor(image, cv2.COLOR_RGB2GRAY)\n",
    "plt.imshow(gray)\n",
    "plt.show()"
   ]
  },
  {
   "cell_type": "markdown",
   "metadata": {},
   "source": [
    "通過調用 __cv2.calcHist(images, channels, mask, histSize, ranges)__ 函數來得到統計後的直方圖值\n",
    "\n",
    "* imaages (list of array)：要分析的圖片\n",
    "* channels：產生的直方圖類型。例：[0]→灰度圖，[0, 1, 2]→RGB三色。\n",
    "* mask：optional，若有提供則僅計算 mask 部份的直方圖。\n",
    "* histSize：要切分的像素強度值範圍，預設為256。每個channel皆可指定一個範圍。例如，[32,32,32] 表示RGB三個channels皆切分為32區段。\n",
    "* ranges：像素的範圍，預設為[0,256]，表示<256。"
   ]
  },
  {
   "cell_type": "code",
   "execution_count": null,
   "metadata": {},
   "outputs": [],
   "source": [
    "# 調用 cv2.calcHist 函數，回傳值就是 histogram\n",
    "hist = cv2.calcHist([gray], [0], None, [256], [0, 256])\n",
    "plt.figure()\n",
    "plt.title(\"Grayscale Histogram\")\n",
    "plt.xlabel(\"Bins\")\n",
    "plt.ylabel(\"# of Pixels\")\n",
    "plt.plot(hist)\n",
    "plt.xlim([0, 256])\n",
    "plt.show()"
   ]
  },
  {
   "cell_type": "code",
   "execution_count": null,
   "metadata": {},
   "outputs": [],
   "source": [
    "print(\"hist shape:\", hist.shape, \"\\n直方圖中前兩個值:\", hist[:2]) # 1 表示該灰度圖中，只有 1 個 pixel 的值是 0，0 個 pixel 的值是 1"
   ]
  },
  {
   "cell_type": "code",
   "execution_count": null,
   "metadata": {},
   "outputs": [],
   "source": [
    "chans = cv2.split(image) # 把圖像的 3 個 channel 切分出來\n",
    "colors = (\"r\", \"g\", \"b\")\n",
    "plt.figure()\n",
    "plt.title(\"'Flattened' Color Histogram\")\n",
    "plt.xlabel(\"Bins\")\n",
    "plt.ylabel(\"# of Pixels\")\n",
    "\n",
    "# 對於所有 channel\n",
    "for (chan, color) in zip(chans, colors):\n",
    "    # 計算該 channel 的直方圖\n",
    "    hist = cv2.calcHist([chan], [0], None, [256], [0, 256])\n",
    " \n",
    "    # 畫出該 channel 的直方圖\n",
    "    plt.plot(hist, color = color)\n",
    "    plt.xlim([0, 256])\n",
    "plt.show()"
   ]
  },
  {
   "cell_type": "markdown",
   "metadata": {},
   "source": [
    "## 作業\n",
    "畫出 16 個 bin 的顏色直方圖,並嘗試回答每個 channel 在 [16, 32] 這個 bin 中有多少個 pixel？"
   ]
  },
  {
   "cell_type": "code",
   "execution_count": null,
   "metadata": {},
   "outputs": [],
   "source": [
    "chans = cv2.split(image) # 把圖像的 3 個 channel 切分出來\n",
    "colors = (\"r\", \"g\", \"b\")\n",
    "plt.figure()\n",
    "plt.title(\"'Flattened' Color Histogram\")\n",
    "plt.xlabel(\"Bins\")\n",
    "plt.ylabel(\"# of Pixels\")\n",
    "\n",
    "# 對於所有 channel\n",
    "for (chan, color) in zip(chans, colors):\n",
    "    # 計算該 channel 的直方圖\n",
    "    hist = cv2.calcHist([chan], [0], None, [16], [0, 256])\n",
    "    print(\"顏色\",color, \"在 [16, 32] 這個 bin 中有：\", hist[1], \"個\")\n",
    "    # 畫出該 channel 的直方圖\n",
    "    plt.plot(hist, color = color)\n",
    "    plt.xlim([0, 16])\n",
    "plt.show()"
   ]
  }
 ],
 "metadata": {
  "kernelspec": {
   "display_name": "Python 3",
   "language": "python",
   "name": "python3"
  },
  "language_info": {
   "codemirror_mode": {
    "name": "ipython",
    "version": 3
   },
   "file_extension": ".py",
   "mimetype": "text/x-python",
   "name": "python",
   "nbconvert_exporter": "python",
   "pygments_lexer": "ipython3",
   "version": "3.6.1"
  }
 },
 "nbformat": 4,
 "nbformat_minor": 2
}
