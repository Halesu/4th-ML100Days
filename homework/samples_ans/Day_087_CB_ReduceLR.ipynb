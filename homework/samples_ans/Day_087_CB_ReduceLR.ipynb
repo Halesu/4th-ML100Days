{
 "cells": [
  {
   "cell_type": "markdown",
   "metadata": {},
   "source": [
    "## 範例重點\n",
    "* 學習如何在 keras 中加入 reduce learning rate\n",
    "* 知道如何設定 reduce_lr 的監控目標\n",
    "* 比較使用有無使用 reduce_lr 時的 performance"
   ]
  },
  {
   "cell_type": "code",
   "execution_count": 1,
   "metadata": {},
   "outputs": [],
   "source": [
    "import os\n",
    "import keras\n",
    "\n",
    "# 本範例不需使用 GPU, 將 GPU 設定為 \"無\"\n",
    "os.environ[\"CUDA_VISIBLE_DEVICES\"] = \"\""
   ]
  },
  {
   "cell_type": "code",
   "execution_count": 2,
   "metadata": {},
   "outputs": [],
   "source": [
    "train, test = keras.datasets.cifar10.load_data()"
   ]
  },
  {
   "cell_type": "code",
   "execution_count": 3,
   "metadata": {},
   "outputs": [],
   "source": [
    "## 資料前處理\n",
    "def preproc_x(x, flatten=True):\n",
    "    x = x / 255.\n",
    "    if flatten:\n",
    "        x = x.reshape((len(x), -1))\n",
    "    return x\n",
    "\n",
    "def preproc_y(y, num_classes=10):\n",
    "    if y.shape[-1] == 1:\n",
    "        y = keras.utils.to_categorical(y, num_classes)\n",
    "    return y    "
   ]
  },
  {
   "cell_type": "code",
   "execution_count": 4,
   "metadata": {},
   "outputs": [],
   "source": [
    "x_train, y_train = train\n",
    "x_test, y_test = test\n",
    "\n",
    "# 資料前處理 - X 標準化\n",
    "x_train = preproc_x(x_train)\n",
    "x_test = preproc_x(x_test)\n",
    "\n",
    "# 資料前處理 -Y 轉成 onehot\n",
    "y_train = preproc_y(y_train)\n",
    "y_test = preproc_y(y_test)"
   ]
  },
  {
   "cell_type": "code",
   "execution_count": 5,
   "metadata": {},
   "outputs": [],
   "source": [
    "from keras.layers import BatchNormalization\n",
    "\n",
    "\"\"\"\n",
    "建立神經網路，並加入 BN layer\n",
    "\"\"\"\n",
    "def build_mlp(input_shape, output_units=10, num_neurons=[512, 256, 128]):\n",
    "    input_layer = keras.layers.Input(input_shape)\n",
    "    \n",
    "    for i, n_units in enumerate(num_neurons):\n",
    "        if i == 0:\n",
    "            x = keras.layers.Dense(units=n_units, \n",
    "                                   activation=\"relu\", \n",
    "                                   name=\"hidden_layer\"+str(i+1))(input_layer)\n",
    "            x = BatchNormalization()(x)\n",
    "        else:\n",
    "            x = keras.layers.Dense(units=n_units, \n",
    "                                   activation=\"relu\", \n",
    "                                   name=\"hidden_layer\"+str(i+1))(x)\n",
    "            x = BatchNormalization()(x)\n",
    "    \n",
    "    out = keras.layers.Dense(units=output_units, activation=\"softmax\", name=\"output\")(x)\n",
    "    \n",
    "    model = keras.models.Model(inputs=[input_layer], outputs=[out])\n",
    "    return model"
   ]
  },
  {
   "cell_type": "code",
   "execution_count": 6,
   "metadata": {},
   "outputs": [],
   "source": [
    "## 超參數設定\n",
    "LEARNING_RATE = 1e-3\n",
    "EPOCHS = 50\n",
    "BATCH_SIZE = 1024\n",
    "MOMENTUM = 0.95"
   ]
  },
  {
   "cell_type": "code",
   "execution_count": 8,
   "metadata": {},
   "outputs": [],
   "source": [
    "\"\"\"\n",
    "# 載入 Callbacks, 並設定監控目標為 validation loss\n",
    "\"\"\"\n",
    "from keras.callbacks import ReduceLROnPlateau\n",
    "\n",
    "reduce_lr = ReduceLROnPlateau(factor=0.5, \n",
    "                              min_lr=1e-12, \n",
    "                              monitor='val_loss', \n",
    "                              patience=5, \n",
    "                              verbose=1)"
   ]
  },
  {
   "cell_type": "code",
   "execution_count": 9,
   "metadata": {
    "scrolled": true
   },
   "outputs": [
    {
     "name": "stdout",
     "output_type": "stream",
     "text": [
      "_________________________________________________________________\n",
      "Layer (type)                 Output Shape              Param #   \n",
      "=================================================================\n",
      "input_1 (InputLayer)         (None, 3072)              0         \n",
      "_________________________________________________________________\n",
      "hidden_layer1 (Dense)        (None, 512)               1573376   \n",
      "_________________________________________________________________\n",
      "batch_normalization_1 (Batch (None, 512)               2048      \n",
      "_________________________________________________________________\n",
      "hidden_layer2 (Dense)        (None, 256)               131328    \n",
      "_________________________________________________________________\n",
      "batch_normalization_2 (Batch (None, 256)               1024      \n",
      "_________________________________________________________________\n",
      "hidden_layer3 (Dense)        (None, 128)               32896     \n",
      "_________________________________________________________________\n",
      "batch_normalization_3 (Batch (None, 128)               512       \n",
      "_________________________________________________________________\n",
      "output (Dense)               (None, 10)                1290      \n",
      "=================================================================\n",
      "Total params: 1,742,474\n",
      "Trainable params: 1,740,682\n",
      "Non-trainable params: 1,792\n",
      "_________________________________________________________________\n",
      "Train on 50000 samples, validate on 10000 samples\n",
      "Epoch 1/50\n",
      "50000/50000 [==============================] - 4s 81us/step - loss: 2.2219 - acc: 0.2668 - val_loss: 2.0835 - val_acc: 0.3096\n",
      "Epoch 2/50\n",
      "50000/50000 [==============================] - 3s 57us/step - loss: 1.7444 - acc: 0.3919 - val_loss: 1.7652 - val_acc: 0.3869\n",
      "Epoch 3/50\n",
      "50000/50000 [==============================] - 3s 63us/step - loss: 1.6180 - acc: 0.4339 - val_loss: 1.6959 - val_acc: 0.4052\n",
      "Epoch 4/50\n",
      "50000/50000 [==============================] - 3s 67us/step - loss: 1.5429 - acc: 0.4594 - val_loss: 1.6354 - val_acc: 0.4234\n",
      "Epoch 5/50\n",
      "50000/50000 [==============================] - 3s 66us/step - loss: 1.4895 - acc: 0.4785 - val_loss: 1.5928 - val_acc: 0.4420\n",
      "Epoch 6/50\n",
      "50000/50000 [==============================] - 3s 63us/step - loss: 1.4428 - acc: 0.4950 - val_loss: 1.5725 - val_acc: 0.4470\n",
      "Epoch 7/50\n",
      "50000/50000 [==============================] - 3s 60us/step - loss: 1.4028 - acc: 0.5097 - val_loss: 1.5413 - val_acc: 0.4586\n",
      "Epoch 8/50\n",
      "50000/50000 [==============================] - 3s 63us/step - loss: 1.3672 - acc: 0.5230 - val_loss: 1.5366 - val_acc: 0.4660\n",
      "Epoch 9/50\n",
      "50000/50000 [==============================] - 3s 57us/step - loss: 1.3353 - acc: 0.5350 - val_loss: 1.5274 - val_acc: 0.4633\n",
      "Epoch 10/50\n",
      "50000/50000 [==============================] - 3s 64us/step - loss: 1.3033 - acc: 0.5462 - val_loss: 1.5123 - val_acc: 0.4728\n",
      "Epoch 11/50\n",
      "50000/50000 [==============================] - 3s 57us/step - loss: 1.2745 - acc: 0.5575 - val_loss: 1.4993 - val_acc: 0.4751\n",
      "Epoch 12/50\n",
      "50000/50000 [==============================] - 3s 58us/step - loss: 1.2471 - acc: 0.5666 - val_loss: 1.4816 - val_acc: 0.4810\n",
      "Epoch 13/50\n",
      "50000/50000 [==============================] - 3s 58us/step - loss: 1.2214 - acc: 0.5753 - val_loss: 1.4739 - val_acc: 0.4869\n",
      "Epoch 14/50\n",
      "50000/50000 [==============================] - 3s 62us/step - loss: 1.1954 - acc: 0.5865 - val_loss: 1.4659 - val_acc: 0.4888\n",
      "Epoch 15/50\n",
      "50000/50000 [==============================] - 3s 57us/step - loss: 1.1705 - acc: 0.5963 - val_loss: 1.4755 - val_acc: 0.4902\n",
      "Epoch 16/50\n",
      "50000/50000 [==============================] - 3s 56us/step - loss: 1.1496 - acc: 0.6036 - val_loss: 1.4572 - val_acc: 0.4950\n",
      "Epoch 17/50\n",
      "50000/50000 [==============================] - 3s 57us/step - loss: 1.1263 - acc: 0.6118 - val_loss: 1.4553 - val_acc: 0.4940\n",
      "Epoch 18/50\n",
      "50000/50000 [==============================] - 3s 56us/step - loss: 1.1030 - acc: 0.6212 - val_loss: 1.4530 - val_acc: 0.4961\n",
      "Epoch 19/50\n",
      "50000/50000 [==============================] - 3s 55us/step - loss: 1.0802 - acc: 0.6314 - val_loss: 1.4512 - val_acc: 0.4972\n",
      "Epoch 20/50\n",
      "50000/50000 [==============================] - 3s 63us/step - loss: 1.0597 - acc: 0.6387 - val_loss: 1.4549 - val_acc: 0.4990\n",
      "Epoch 21/50\n",
      "50000/50000 [==============================] - 3s 56us/step - loss: 1.0380 - acc: 0.6474 - val_loss: 1.4546 - val_acc: 0.4962\n",
      "Epoch 22/50\n",
      "50000/50000 [==============================] - 3s 54us/step - loss: 1.0173 - acc: 0.6555 - val_loss: 1.4562 - val_acc: 0.4983\n",
      "Epoch 23/50\n",
      "50000/50000 [==============================] - 3s 55us/step - loss: 0.9982 - acc: 0.6617 - val_loss: 1.4534 - val_acc: 0.4958\n",
      "Epoch 24/50\n",
      "50000/50000 [==============================] - 3s 55us/step - loss: 0.9763 - acc: 0.6713 - val_loss: 1.4565 - val_acc: 0.5042\n",
      "\n",
      "Epoch 00024: ReduceLROnPlateau reducing learning rate to 0.0005000000237487257.\n",
      "Epoch 25/50\n",
      "50000/50000 [==============================] - 3s 55us/step - loss: 0.9479 - acc: 0.6834 - val_loss: 1.4575 - val_acc: 0.5030\n",
      "Epoch 26/50\n",
      "50000/50000 [==============================] - 3s 62us/step - loss: 0.9302 - acc: 0.6911 - val_loss: 1.4527 - val_acc: 0.5002\n",
      "Epoch 27/50\n",
      "50000/50000 [==============================] - 3s 59us/step - loss: 0.9202 - acc: 0.6946 - val_loss: 1.4500 - val_acc: 0.5044\n",
      "Epoch 28/50\n",
      "50000/50000 [==============================] - 3s 55us/step - loss: 0.9099 - acc: 0.6988 - val_loss: 1.4550 - val_acc: 0.5026\n",
      "Epoch 29/50\n",
      "50000/50000 [==============================] - 3s 56us/step - loss: 0.8982 - acc: 0.7046 - val_loss: 1.4551 - val_acc: 0.5012\n",
      "Epoch 30/50\n",
      "50000/50000 [==============================] - 3s 55us/step - loss: 0.8880 - acc: 0.7080 - val_loss: 1.4651 - val_acc: 0.5019\n",
      "Epoch 31/50\n",
      "50000/50000 [==============================] - 3s 58us/step - loss: 0.8765 - acc: 0.7113 - val_loss: 1.4596 - val_acc: 0.5076\n",
      "Epoch 32/50\n",
      "50000/50000 [==============================] - 3s 60us/step - loss: 0.8676 - acc: 0.7155 - val_loss: 1.4675 - val_acc: 0.5030\n",
      "\n",
      "Epoch 00032: ReduceLROnPlateau reducing learning rate to 0.0002500000118743628.\n",
      "Epoch 33/50\n",
      "50000/50000 [==============================] - 3s 63us/step - loss: 0.8520 - acc: 0.7227 - val_loss: 1.4626 - val_acc: 0.5062\n",
      "Epoch 34/50\n",
      "50000/50000 [==============================] - 3s 62us/step - loss: 0.8426 - acc: 0.7259 - val_loss: 1.4630 - val_acc: 0.5019\n",
      "Epoch 35/50\n",
      "50000/50000 [==============================] - 3s 55us/step - loss: 0.8367 - acc: 0.7288 - val_loss: 1.4651 - val_acc: 0.5070\n",
      "Epoch 36/50\n",
      "50000/50000 [==============================] - 3s 56us/step - loss: 0.8306 - acc: 0.7304 - val_loss: 1.4667 - val_acc: 0.5015\n",
      "Epoch 37/50\n",
      "50000/50000 [==============================] - 3s 59us/step - loss: 0.8255 - acc: 0.7334 - val_loss: 1.4727 - val_acc: 0.5014\n",
      "\n",
      "Epoch 00037: ReduceLROnPlateau reducing learning rate to 0.0001250000059371814.\n",
      "Epoch 38/50\n",
      "50000/50000 [==============================] - 3s 56us/step - loss: 0.8182 - acc: 0.7359 - val_loss: 1.4700 - val_acc: 0.5044\n",
      "Epoch 39/50\n",
      "50000/50000 [==============================] - 3s 60us/step - loss: 0.8123 - acc: 0.7393 - val_loss: 1.4690 - val_acc: 0.5043\n",
      "Epoch 40/50\n",
      "50000/50000 [==============================] - 3s 54us/step - loss: 0.8114 - acc: 0.7382 - val_loss: 1.4713 - val_acc: 0.5036\n",
      "Epoch 41/50\n",
      "50000/50000 [==============================] - 3s 58us/step - loss: 0.8066 - acc: 0.7420 - val_loss: 1.4698 - val_acc: 0.5050\n",
      "Epoch 42/50\n",
      "50000/50000 [==============================] - 3s 56us/step - loss: 0.8044 - acc: 0.7423 - val_loss: 1.4735 - val_acc: 0.5038\n",
      "\n",
      "Epoch 00042: ReduceLROnPlateau reducing learning rate to 6.25000029685907e-05.\n",
      "Epoch 43/50\n",
      "50000/50000 [==============================] - 3s 56us/step - loss: 0.8007 - acc: 0.7441 - val_loss: 1.4712 - val_acc: 0.5065\n",
      "Epoch 44/50\n",
      "50000/50000 [==============================] - 3s 57us/step - loss: 0.7979 - acc: 0.7445 - val_loss: 1.4719 - val_acc: 0.5049\n",
      "Epoch 45/50\n",
      "50000/50000 [==============================] - 3s 57us/step - loss: 0.7956 - acc: 0.7453 - val_loss: 1.4723 - val_acc: 0.5056\n",
      "Epoch 46/50\n",
      "50000/50000 [==============================] - 3s 59us/step - loss: 0.7950 - acc: 0.7457 - val_loss: 1.4725 - val_acc: 0.5049\n",
      "Epoch 47/50\n",
      "50000/50000 [==============================] - 3s 60us/step - loss: 0.7932 - acc: 0.7481 - val_loss: 1.4734 - val_acc: 0.5053\n",
      "\n",
      "Epoch 00047: ReduceLROnPlateau reducing learning rate to 3.125000148429535e-05.\n",
      "Epoch 48/50\n",
      "50000/50000 [==============================] - 3s 63us/step - loss: 0.7911 - acc: 0.7490 - val_loss: 1.4734 - val_acc: 0.5056\n",
      "Epoch 49/50\n",
      "50000/50000 [==============================] - 3s 56us/step - loss: 0.7893 - acc: 0.7487 - val_loss: 1.4739 - val_acc: 0.5054\n",
      "Epoch 50/50\n",
      "50000/50000 [==============================] - 3s 54us/step - loss: 0.7888 - acc: 0.7487 - val_loss: 1.4736 - val_acc: 0.5068\n"
     ]
    }
   ],
   "source": [
    "model = build_mlp(input_shape=x_train.shape[1:])\n",
    "model.summary()\n",
    "optimizer = keras.optimizers.SGD(lr=LEARNING_RATE, nesterov=True, momentum=MOMENTUM)\n",
    "model.compile(loss=\"categorical_crossentropy\", metrics=[\"accuracy\"], optimizer=optimizer)\n",
    "\n",
    "model.fit(x_train, y_train, \n",
    "          epochs=EPOCHS, \n",
    "          batch_size=BATCH_SIZE, \n",
    "          validation_data=(x_test, y_test), \n",
    "          shuffle=True,\n",
    "          callbacks=[reduce_lr]\n",
    "         )\n",
    "\n",
    "# Collect results\n",
    "train_loss = model.history.history[\"loss\"]\n",
    "valid_loss = model.history.history[\"val_loss\"]\n",
    "train_acc = model.history.history[\"acc\"]\n",
    "valid_acc = model.history.history[\"val_acc\"]"
   ]
  },
  {
   "cell_type": "code",
   "execution_count": 11,
   "metadata": {},
   "outputs": [
    {
     "data": {
      "image/png": "[encoded data removed]",
      "text/plain": [
       "<Figure size 432x288 with 1 Axes>"
      ]
     },
     "metadata": {},
     "output_type": "display_data"
    },
    {
     "data": {
      "image/png": "[encoded data removed]",
      "text/plain": [
       "<Figure size 432x288 with 1 Axes>"
      ]
     },
     "metadata": {},
     "output_type": "display_data"
    }
   ],
   "source": [
    "import matplotlib.pyplot as plt\n",
    "%matplotlib inline\n",
    "\n",
    "plt.plot(range(len(train_loss)), train_loss, label=\"train loss\")\n",
    "plt.plot(range(len(valid_loss)), valid_loss, label=\"valid loss\")\n",
    "plt.legend()\n",
    "plt.title(\"Loss\")\n",
    "plt.show()\n",
    "\n",
    "plt.plot(range(len(train_acc)), train_acc, label=\"train accuracy\")\n",
    "plt.plot(range(len(valid_acc)), valid_acc, label=\"valid accuracy\")\n",
    "plt.legend()\n",
    "plt.title(\"Accuracy\")\n",
    "plt.show()"
   ]
  },
  {
   "cell_type": "markdown",
   "metadata": {},
   "source": [
    "## Work\n",
    "1. 請改變 reduce_lr 的 patience 和 factor 並比較不同設定下，對訓練/驗證集的影響\n",
    "2. 請將 optimizer 換成 Adam、RMSprop 搭配 reduce_lr 並比較訓練結果"
   ]
  }
 ],
 "metadata": {
  "kernelspec": {
   "display_name": "Python 3",
   "language": "python",
   "name": "python3"
  },
  "language_info": {
   "codemirror_mode": {
    "name": "ipython",
    "version": 3
   },
   "file_extension": ".py",
   "mimetype": "text/x-python",
   "name": "python",
   "nbconvert_exporter": "python",
   "pygments_lexer": "ipython3",
   "version": "3.7.7"
  }
 },
 "nbformat": 4,
 "nbformat_minor": 2
}
