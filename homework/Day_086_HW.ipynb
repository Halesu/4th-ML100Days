{
 "cells": [
  {
   "cell_type": "markdown",
   "metadata": {},
   "source": [
    "## Work\n",
    "1. 試比較 save_best_only 與否的差異\n",
    "2. 請僅存入將 save_weights_only 設定為 True, 並嘗試 reset ipynb 並將模型與權重重新建回並預測 x_test"
   ]
  },
  {
   "cell_type": "code",
   "execution_count": 1,
   "metadata": {},
   "outputs": [
    {
     "name": "stderr",
     "output_type": "stream",
     "text": [
      "Using TensorFlow backend.\n"
     ]
    }
   ],
   "source": [
    "import os\n",
    "import keras\n",
    "\n",
    "# Disable GPU\n",
    "os.environ[\"CUDA_VISIBLE_DEVICES\"] = \"-1\""
   ]
  },
  {
   "cell_type": "code",
   "execution_count": 2,
   "metadata": {},
   "outputs": [],
   "source": [
    "train, test = keras.datasets.cifar10.load_data()"
   ]
  },
  {
   "cell_type": "code",
   "execution_count": 3,
   "metadata": {},
   "outputs": [],
   "source": [
    "## 資料前處理\n",
    "def preproc_x(x, flatten=True):\n",
    "    x = x / 255.\n",
    "    if flatten:\n",
    "        x = x.reshape((len(x), -1))\n",
    "    return x\n",
    "\n",
    "def preproc_y(y, num_classes=10):\n",
    "    if y.shape[-1] == 1:\n",
    "        y = keras.utils.to_categorical(y, num_classes)\n",
    "    return y    "
   ]
  },
  {
   "cell_type": "code",
   "execution_count": 4,
   "metadata": {},
   "outputs": [],
   "source": [
    "x_train, y_train = train\n",
    "x_test, y_test = test\n",
    "\n",
    "# Preproc the inputs\n",
    "x_train = preproc_x(x_train)\n",
    "x_test = preproc_x(x_test)\n",
    "\n",
    "# Preprc the outputs\n",
    "y_train = preproc_y(y_train)\n",
    "y_test = preproc_y(y_test)"
   ]
  },
  {
   "cell_type": "code",
   "execution_count": 5,
   "metadata": {},
   "outputs": [],
   "source": [
    "from keras.layers import BatchNormalization\n",
    "\n",
    "def build_mlp(input_shape, output_units=10, num_neurons=[512, 256, 128]):\n",
    "    \"\"\"Code Here\n",
    "    建立你的神經網路\n",
    "    \"\"\"\n",
    "    input_layer = keras.layers.Input(input_shape)\n",
    "    \n",
    "    for i, n_units in enumerate(num_neurons):\n",
    "        if i == 0:\n",
    "            x = keras.layers.Dense(units=n_units, \n",
    "                                   activation=\"relu\", \n",
    "                                   name=\"hidden_layer\"+str(i+1))(input_layer)\n",
    "            x = BatchNormalization()(x)\n",
    "        else:\n",
    "            x = keras.layers.Dense(units=n_units, \n",
    "                                   activation=\"relu\", \n",
    "                                   name=\"hidden_layer\"+str(i+1))(x)\n",
    "            x = BatchNormalization()(x)\n",
    "    \n",
    "    out = keras.layers.Dense(units=output_units, activation=\"softmax\", name=\"output\")(x)\n",
    "    \n",
    "    model = keras.models.Model(inputs=[input_layer], outputs=[out])\n",
    "    return model"
   ]
  },
  {
   "cell_type": "code",
   "execution_count": 6,
   "metadata": {},
   "outputs": [],
   "source": [
    "\"\"\"Code Here\n",
    "設定超參數\n",
    "\"\"\"\n",
    "LEARNING_RATE = 1e-3\n",
    "EPOCHS = 50\n",
    "BATCH_SIZE = 1024\n",
    "MOMENTUM = 0.95\n",
    "SAVE = [True, False]"
   ]
  },
  {
   "cell_type": "code",
   "execution_count": 7,
   "metadata": {},
   "outputs": [
    {
     "name": "stdout",
     "output_type": "stream",
     "text": [
      "Model: \"model_1\"\n",
      "_________________________________________________________________\n",
      "Layer (type)                 Output Shape              Param #   \n",
      "=================================================================\n",
      "input_1 (InputLayer)         (None, 3072)              0         \n",
      "_________________________________________________________________\n",
      "hidden_layer1 (Dense)        (None, 512)               1573376   \n",
      "_________________________________________________________________\n",
      "batch_normalization_1 (Batch (None, 512)               2048      \n",
      "_________________________________________________________________\n",
      "hidden_layer2 (Dense)        (None, 256)               131328    \n",
      "_________________________________________________________________\n",
      "batch_normalization_2 (Batch (None, 256)               1024      \n",
      "_________________________________________________________________\n",
      "hidden_layer3 (Dense)        (None, 128)               32896     \n",
      "_________________________________________________________________\n",
      "batch_normalization_3 (Batch (None, 128)               512       \n",
      "_________________________________________________________________\n",
      "output (Dense)               (None, 10)                1290      \n",
      "=================================================================\n",
      "Total params: 1,742,474\n",
      "Trainable params: 1,740,682\n",
      "Non-trainable params: 1,792\n",
      "_________________________________________________________________\n",
      "Train on 50000 samples, validate on 10000 samples\n",
      "Epoch 1/50\n",
      "50000/50000 [==============================] - 4s 89us/step - loss: 2.2392 - accuracy: 0.2714 - val_loss: 2.1510 - val_accuracy: 0.2063\n",
      "Epoch 2/50\n",
      "50000/50000 [==============================] - 4s 81us/step - loss: 1.7538 - accuracy: 0.3911 - val_loss: 1.9553 - val_accuracy: 0.2945\n",
      "Epoch 3/50\n",
      "50000/50000 [==============================] - 4s 80us/step - loss: 1.6309 - accuracy: 0.4323 - val_loss: 1.8410 - val_accuracy: 0.3503\n",
      "Epoch 4/50\n",
      "50000/50000 [==============================] - 4s 79us/step - loss: 1.5581 - accuracy: 0.4574 - val_loss: 1.7250 - val_accuracy: 0.3909\n",
      "Epoch 5/50\n",
      "50000/50000 [==============================] - 4s 80us/step - loss: 1.5031 - accuracy: 0.4739 - val_loss: 1.6477 - val_accuracy: 0.4242\n",
      "Epoch 6/50\n",
      "50000/50000 [==============================] - 4s 80us/step - loss: 1.4583 - accuracy: 0.4917 - val_loss: 1.5830 - val_accuracy: 0.4489\n",
      "Epoch 7/50\n",
      "50000/50000 [==============================] - 4s 79us/step - loss: 1.4193 - accuracy: 0.5057 - val_loss: 1.5534 - val_accuracy: 0.4539\n",
      "Epoch 8/50\n",
      "50000/50000 [==============================] - 4s 80us/step - loss: 1.3827 - accuracy: 0.5190 - val_loss: 1.5341 - val_accuracy: 0.4618\n",
      "Epoch 9/50\n",
      "50000/50000 [==============================] - 4s 83us/step - loss: 1.3499 - accuracy: 0.5308 - val_loss: 1.5117 - val_accuracy: 0.4687\n",
      "Epoch 10/50\n",
      "50000/50000 [==============================] - 4s 82us/step - loss: 1.3203 - accuracy: 0.5408 - val_loss: 1.4894 - val_accuracy: 0.4775\n",
      "Epoch 11/50\n",
      "50000/50000 [==============================] - 4s 82us/step - loss: 1.2900 - accuracy: 0.5520 - val_loss: 1.4938 - val_accuracy: 0.4794\n",
      "Epoch 12/50\n",
      "50000/50000 [==============================] - 4s 83us/step - loss: 1.2641 - accuracy: 0.5608 - val_loss: 1.4750 - val_accuracy: 0.4833\n",
      "Epoch 13/50\n",
      "50000/50000 [==============================] - 4s 81us/step - loss: 1.2360 - accuracy: 0.5715 - val_loss: 1.4701 - val_accuracy: 0.4863\n",
      "Epoch 14/50\n",
      "50000/50000 [==============================] - 4s 81us/step - loss: 1.2113 - accuracy: 0.5825 - val_loss: 1.4741 - val_accuracy: 0.4863\n",
      "Epoch 15/50\n",
      "50000/50000 [==============================] - 4s 82us/step - loss: 1.1875 - accuracy: 0.5899 - val_loss: 1.4702 - val_accuracy: 0.4904\n",
      "Epoch 16/50\n",
      "50000/50000 [==============================] - 4s 84us/step - loss: 1.1633 - accuracy: 0.5993 - val_loss: 1.4751 - val_accuracy: 0.4867\n",
      "Epoch 17/50\n",
      "50000/50000 [==============================] - 4s 85us/step - loss: 1.1414 - accuracy: 0.6079 - val_loss: 1.4713 - val_accuracy: 0.4867\n",
      "Epoch 18/50\n",
      "50000/50000 [==============================] - 4s 84us/step - loss: 1.1199 - accuracy: 0.6162 - val_loss: 1.4592 - val_accuracy: 0.4900\n",
      "Epoch 19/50\n",
      "50000/50000 [==============================] - 4s 84us/step - loss: 1.0963 - accuracy: 0.6263 - val_loss: 1.4661 - val_accuracy: 0.4989\n",
      "Epoch 20/50\n",
      "50000/50000 [==============================] - 4s 85us/step - loss: 1.0759 - accuracy: 0.6326 - val_loss: 1.4530 - val_accuracy: 0.4926\n",
      "Epoch 21/50\n",
      "50000/50000 [==============================] - 4s 84us/step - loss: 1.0533 - accuracy: 0.6425 - val_loss: 1.4596 - val_accuracy: 0.4935\n",
      "Epoch 22/50\n",
      "50000/50000 [==============================] - 4s 83us/step - loss: 1.0328 - accuracy: 0.6479 - val_loss: 1.4561 - val_accuracy: 0.4931\n",
      "Epoch 23/50\n",
      "50000/50000 [==============================] - 4s 83us/step - loss: 1.0109 - accuracy: 0.6571 - val_loss: 1.4508 - val_accuracy: 0.4983\n",
      "Epoch 24/50\n",
      "50000/50000 [==============================] - 4s 85us/step - loss: 0.9888 - accuracy: 0.6671 - val_loss: 1.4736 - val_accuracy: 0.4928\n",
      "Epoch 25/50\n",
      "50000/50000 [==============================] - 4s 86us/step - loss: 0.9703 - accuracy: 0.6720 - val_loss: 1.4684 - val_accuracy: 0.4920\n",
      "Epoch 26/50\n",
      "50000/50000 [==============================] - 4s 86us/step - loss: 0.9488 - accuracy: 0.6821 - val_loss: 1.4697 - val_accuracy: 0.4924\n",
      "Epoch 27/50\n",
      "50000/50000 [==============================] - 4s 85us/step - loss: 0.9292 - accuracy: 0.6910 - val_loss: 1.4707 - val_accuracy: 0.4942\n",
      "Epoch 28/50\n",
      "50000/50000 [==============================] - 4s 86us/step - loss: 0.9081 - accuracy: 0.6971 - val_loss: 1.4781 - val_accuracy: 0.4963\n",
      "Epoch 29/50\n",
      "50000/50000 [==============================] - 4s 85us/step - loss: 0.8882 - accuracy: 0.7061 - val_loss: 1.4765 - val_accuracy: 0.4953\n",
      "Epoch 30/50\n",
      "50000/50000 [==============================] - 5s 96us/step - loss: 0.8679 - accuracy: 0.7155 - val_loss: 1.4906 - val_accuracy: 0.4953\n",
      "Epoch 31/50\n",
      "50000/50000 [==============================] - 4s 87us/step - loss: 0.8479 - accuracy: 0.7211 - val_loss: 1.4948 - val_accuracy: 0.4890\n",
      "Epoch 32/50\n",
      "50000/50000 [==============================] - 4s 84us/step - loss: 0.8292 - accuracy: 0.7293 - val_loss: 1.4926 - val_accuracy: 0.4962\n",
      "Epoch 33/50\n",
      "50000/50000 [==============================] - 4s 86us/step - loss: 0.8111 - accuracy: 0.7364 - val_loss: 1.4973 - val_accuracy: 0.4897\n",
      "Epoch 34/50\n",
      "50000/50000 [==============================] - 4s 86us/step - loss: 0.7894 - accuracy: 0.7455 - val_loss: 1.5163 - val_accuracy: 0.4914\n",
      "Epoch 35/50\n",
      "50000/50000 [==============================] - 4s 83us/step - loss: 0.7724 - accuracy: 0.7516 - val_loss: 1.5288 - val_accuracy: 0.4906\n",
      "Epoch 36/50\n",
      "50000/50000 [==============================] - 4s 85us/step - loss: 0.7529 - accuracy: 0.7585 - val_loss: 1.5291 - val_accuracy: 0.4957\n",
      "Epoch 37/50\n",
      "50000/50000 [==============================] - 4s 82us/step - loss: 0.7340 - accuracy: 0.7671 - val_loss: 1.5327 - val_accuracy: 0.4932\n",
      "Epoch 38/50\n",
      "50000/50000 [==============================] - 4s 85us/step - loss: 0.7151 - accuracy: 0.7741 - val_loss: 1.5434 - val_accuracy: 0.4913\n",
      "Epoch 39/50\n",
      "50000/50000 [==============================] - 4s 86us/step - loss: 0.6958 - accuracy: 0.7818 - val_loss: 1.5509 - val_accuracy: 0.4954\n",
      "Epoch 40/50\n",
      "50000/50000 [==============================] - 4s 90us/step - loss: 0.6790 - accuracy: 0.7889 - val_loss: 1.5618 - val_accuracy: 0.4902\n",
      "Epoch 41/50\n",
      "50000/50000 [==============================] - 5s 92us/step - loss: 0.6590 - accuracy: 0.7955 - val_loss: 1.5643 - val_accuracy: 0.4882\n",
      "Epoch 42/50\n",
      "50000/50000 [==============================] - 4s 87us/step - loss: 0.6414 - accuracy: 0.8039 - val_loss: 1.5706 - val_accuracy: 0.4951\n",
      "Epoch 43/50\n",
      "50000/50000 [==============================] - 4s 88us/step - loss: 0.6234 - accuracy: 0.8101 - val_loss: 1.6235 - val_accuracy: 0.4920\n",
      "Epoch 44/50\n",
      "50000/50000 [==============================] - 4s 87us/step - loss: 0.6055 - accuracy: 0.8185 - val_loss: 1.6134 - val_accuracy: 0.4927\n",
      "Epoch 45/50\n",
      "50000/50000 [==============================] - 4s 86us/step - loss: 0.5903 - accuracy: 0.8237 - val_loss: 1.6175 - val_accuracy: 0.4880\n",
      "Epoch 46/50\n"
     ]
    },
    {
     "name": "stdout",
     "output_type": "stream",
     "text": [
      "50000/50000 [==============================] - 4s 86us/step - loss: 0.5704 - accuracy: 0.8311 - val_loss: 1.6162 - val_accuracy: 0.4878\n",
      "Epoch 47/50\n",
      "50000/50000 [==============================] - 4s 86us/step - loss: 0.5536 - accuracy: 0.8390 - val_loss: 1.6281 - val_accuracy: 0.4866\n",
      "Epoch 48/50\n",
      "50000/50000 [==============================] - 4s 87us/step - loss: 0.5369 - accuracy: 0.8439 - val_loss: 1.6551 - val_accuracy: 0.4875\n",
      "Epoch 49/50\n",
      "50000/50000 [==============================] - 4s 84us/step - loss: 0.5204 - accuracy: 0.8516 - val_loss: 1.6601 - val_accuracy: 0.4899\n",
      "Epoch 50/50\n",
      "50000/50000 [==============================] - 4s 87us/step - loss: 0.5031 - accuracy: 0.8599 - val_loss: 1.6890 - val_accuracy: 0.4822\n",
      "Model: \"model_1\"\n",
      "_________________________________________________________________\n",
      "Layer (type)                 Output Shape              Param #   \n",
      "=================================================================\n",
      "input_1 (InputLayer)         (None, 3072)              0         \n",
      "_________________________________________________________________\n",
      "hidden_layer1 (Dense)        (None, 512)               1573376   \n",
      "_________________________________________________________________\n",
      "batch_normalization_1 (Batch (None, 512)               2048      \n",
      "_________________________________________________________________\n",
      "hidden_layer2 (Dense)        (None, 256)               131328    \n",
      "_________________________________________________________________\n",
      "batch_normalization_2 (Batch (None, 256)               1024      \n",
      "_________________________________________________________________\n",
      "hidden_layer3 (Dense)        (None, 128)               32896     \n",
      "_________________________________________________________________\n",
      "batch_normalization_3 (Batch (None, 128)               512       \n",
      "_________________________________________________________________\n",
      "output (Dense)               (None, 10)                1290      \n",
      "=================================================================\n",
      "Total params: 1,742,474\n",
      "Trainable params: 1,740,682\n",
      "Non-trainable params: 1,792\n",
      "_________________________________________________________________\n",
      "Train on 50000 samples, validate on 10000 samples\n",
      "Epoch 1/50\n",
      "50000/50000 [==============================] - 5s 90us/step - loss: 2.2262 - accuracy: 0.2735 - val_loss: 2.1268 - val_accuracy: 0.2296\n",
      "Epoch 2/50\n",
      "50000/50000 [==============================] - 4s 83us/step - loss: 1.7503 - accuracy: 0.3916 - val_loss: 1.9839 - val_accuracy: 0.2780\n",
      "Epoch 3/50\n",
      "50000/50000 [==============================] - 4s 83us/step - loss: 1.6252 - accuracy: 0.4318 - val_loss: 1.8485 - val_accuracy: 0.3397\n",
      "Epoch 4/50\n",
      "50000/50000 [==============================] - 4s 86us/step - loss: 1.5500 - accuracy: 0.4577 - val_loss: 1.7388 - val_accuracy: 0.3880\n",
      "Epoch 5/50\n",
      "50000/50000 [==============================] - 4s 83us/step - loss: 1.4932 - accuracy: 0.4790 - val_loss: 1.6532 - val_accuracy: 0.4208\n",
      "Epoch 6/50\n",
      "50000/50000 [==============================] - 4s 87us/step - loss: 1.4467 - accuracy: 0.4939 - val_loss: 1.5940 - val_accuracy: 0.4431\n",
      "Epoch 7/50\n",
      "50000/50000 [==============================] - 4s 85us/step - loss: 1.4070 - accuracy: 0.5110 - val_loss: 1.5517 - val_accuracy: 0.4520\n",
      "Epoch 8/50\n",
      "50000/50000 [==============================] - 4s 87us/step - loss: 1.3706 - accuracy: 0.5227 - val_loss: 1.5330 - val_accuracy: 0.4597\n",
      "Epoch 9/50\n",
      "50000/50000 [==============================] - 4s 88us/step - loss: 1.3367 - accuracy: 0.5361 - val_loss: 1.5091 - val_accuracy: 0.4659\n",
      "Epoch 10/50\n",
      "50000/50000 [==============================] - 4s 88us/step - loss: 1.3076 - accuracy: 0.5458 - val_loss: 1.4886 - val_accuracy: 0.4715\n",
      "Epoch 11/50\n",
      "50000/50000 [==============================] - 4s 86us/step - loss: 1.2777 - accuracy: 0.5558 - val_loss: 1.4811 - val_accuracy: 0.4708\n",
      "Epoch 12/50\n",
      "50000/50000 [==============================] - 4s 85us/step - loss: 1.2482 - accuracy: 0.5680 - val_loss: 1.4773 - val_accuracy: 0.4786\n",
      "Epoch 13/50\n",
      "50000/50000 [==============================] - 5s 91us/step - loss: 1.2239 - accuracy: 0.5780 - val_loss: 1.4704 - val_accuracy: 0.4819\n",
      "Epoch 14/50\n",
      "50000/50000 [==============================] - 4s 88us/step - loss: 1.2005 - accuracy: 0.5852 - val_loss: 1.4571 - val_accuracy: 0.4808\n",
      "Epoch 15/50\n",
      "50000/50000 [==============================] - 4s 86us/step - loss: 1.1726 - accuracy: 0.5963 - val_loss: 1.4688 - val_accuracy: 0.4821\n",
      "Epoch 16/50\n",
      "50000/50000 [==============================] - 4s 83us/step - loss: 1.1503 - accuracy: 0.6042 - val_loss: 1.4760 - val_accuracy: 0.4752\n",
      "Epoch 17/50\n",
      "50000/50000 [==============================] - 5s 99us/step - loss: 1.1276 - accuracy: 0.6120 - val_loss: 1.4673 - val_accuracy: 0.4842\n",
      "Epoch 18/50\n",
      "50000/50000 [==============================] - 6s 111us/step - loss: 1.1050 - accuracy: 0.6202 - val_loss: 1.4640 - val_accuracy: 0.4863\n",
      "Epoch 19/50\n",
      "50000/50000 [==============================] - 5s 91us/step - loss: 1.0825 - accuracy: 0.6293 - val_loss: 1.4587 - val_accuracy: 0.4903\n",
      "Epoch 20/50\n",
      "50000/50000 [==============================] - 4s 84us/step - loss: 1.0620 - accuracy: 0.6366 - val_loss: 1.4693 - val_accuracy: 0.4826\n",
      "Epoch 21/50\n",
      "50000/50000 [==============================] - 4s 89us/step - loss: 1.0412 - accuracy: 0.6456 - val_loss: 1.4657 - val_accuracy: 0.4930\n",
      "Epoch 22/50\n",
      "50000/50000 [==============================] - 4s 85us/step - loss: 1.0201 - accuracy: 0.6543 - val_loss: 1.4653 - val_accuracy: 0.4887\n",
      "Epoch 23/50\n",
      "50000/50000 [==============================] - 4s 86us/step - loss: 1.0006 - accuracy: 0.6619 - val_loss: 1.4704 - val_accuracy: 0.4896\n",
      "Epoch 24/50\n",
      "50000/50000 [==============================] - 4s 90us/step - loss: 0.9778 - accuracy: 0.6700 - val_loss: 1.4646 - val_accuracy: 0.4908\n",
      "Epoch 25/50\n",
      "50000/50000 [==============================] - 4s 85us/step - loss: 0.9565 - accuracy: 0.6788 - val_loss: 1.4718 - val_accuracy: 0.4947\n",
      "Epoch 26/50\n",
      "50000/50000 [==============================] - 5s 90us/step - loss: 0.9370 - accuracy: 0.6855 - val_loss: 1.4625 - val_accuracy: 0.4914\n",
      "Epoch 27/50\n",
      "50000/50000 [==============================] - 4s 86us/step - loss: 0.9176 - accuracy: 0.6937 - val_loss: 1.4784 - val_accuracy: 0.4967\n",
      "Epoch 28/50\n",
      "50000/50000 [==============================] - 4s 86us/step - loss: 0.8977 - accuracy: 0.7010 - val_loss: 1.4888 - val_accuracy: 0.4838\n",
      "Epoch 29/50\n",
      "50000/50000 [==============================] - 4s 85us/step - loss: 0.8768 - accuracy: 0.7101 - val_loss: 1.4771 - val_accuracy: 0.5005\n",
      "Epoch 30/50\n",
      "50000/50000 [==============================] - 4s 85us/step - loss: 0.8563 - accuracy: 0.7178 - val_loss: 1.4851 - val_accuracy: 0.4956\n",
      "Epoch 31/50\n",
      "50000/50000 [==============================] - 4s 84us/step - loss: 0.8389 - accuracy: 0.7241 - val_loss: 1.4756 - val_accuracy: 0.4957\n",
      "Epoch 32/50\n",
      "50000/50000 [==============================] - 4s 88us/step - loss: 0.8189 - accuracy: 0.7324 - val_loss: 1.4876 - val_accuracy: 0.4890\n",
      "Epoch 33/50\n",
      "50000/50000 [==============================] - 4s 86us/step - loss: 0.8002 - accuracy: 0.7396 - val_loss: 1.4966 - val_accuracy: 0.4963\n",
      "Epoch 34/50\n",
      "50000/50000 [==============================] - 4s 85us/step - loss: 0.7794 - accuracy: 0.7495 - val_loss: 1.5233 - val_accuracy: 0.4944\n",
      "Epoch 35/50\n",
      "50000/50000 [==============================] - 4s 83us/step - loss: 0.7622 - accuracy: 0.7551 - val_loss: 1.5202 - val_accuracy: 0.4902\n",
      "Epoch 36/50\n",
      "50000/50000 [==============================] - 4s 83us/step - loss: 0.7443 - accuracy: 0.7605 - val_loss: 1.5313 - val_accuracy: 0.4907\n",
      "Epoch 37/50\n",
      "50000/50000 [==============================] - 4s 83us/step - loss: 0.7245 - accuracy: 0.7695 - val_loss: 1.5348 - val_accuracy: 0.4983\n",
      "Epoch 38/50\n",
      "50000/50000 [==============================] - 4s 84us/step - loss: 0.7035 - accuracy: 0.7793 - val_loss: 1.5386 - val_accuracy: 0.4935\n",
      "Epoch 39/50\n",
      "50000/50000 [==============================] - 4s 84us/step - loss: 0.6843 - accuracy: 0.7853 - val_loss: 1.5415 - val_accuracy: 0.4942\n",
      "Epoch 40/50\n",
      "50000/50000 [==============================] - 4s 83us/step - loss: 0.6682 - accuracy: 0.7937 - val_loss: 1.5818 - val_accuracy: 0.4883\n",
      "Epoch 41/50\n"
     ]
    },
    {
     "name": "stdout",
     "output_type": "stream",
     "text": [
      "50000/50000 [==============================] - 4s 83us/step - loss: 0.6500 - accuracy: 0.7997 - val_loss: 1.5728 - val_accuracy: 0.4917\n",
      "Epoch 42/50\n",
      "50000/50000 [==============================] - 4s 87us/step - loss: 0.6313 - accuracy: 0.8068 - val_loss: 1.5752 - val_accuracy: 0.5017\n",
      "Epoch 43/50\n",
      "50000/50000 [==============================] - 4s 83us/step - loss: 0.6132 - accuracy: 0.8140 - val_loss: 1.5925 - val_accuracy: 0.4891\n",
      "Epoch 44/50\n",
      "50000/50000 [==============================] - 4s 83us/step - loss: 0.5958 - accuracy: 0.8212 - val_loss: 1.6155 - val_accuracy: 0.4937\n",
      "Epoch 45/50\n",
      "50000/50000 [==============================] - 4s 84us/step - loss: 0.5789 - accuracy: 0.8284 - val_loss: 1.6352 - val_accuracy: 0.4910\n",
      "Epoch 46/50\n",
      "50000/50000 [==============================] - 4s 83us/step - loss: 0.5607 - accuracy: 0.8374 - val_loss: 1.6228 - val_accuracy: 0.4889\n",
      "Epoch 47/50\n",
      "50000/50000 [==============================] - 4s 85us/step - loss: 0.5439 - accuracy: 0.8420 - val_loss: 1.6399 - val_accuracy: 0.4893\n",
      "Epoch 48/50\n",
      "50000/50000 [==============================] - 4s 84us/step - loss: 0.5254 - accuracy: 0.8505 - val_loss: 1.6528 - val_accuracy: 0.4921\n",
      "Epoch 49/50\n",
      "50000/50000 [==============================] - 4s 83us/step - loss: 0.5119 - accuracy: 0.8559 - val_loss: 1.6574 - val_accuracy: 0.4936\n",
      "Epoch 50/50\n",
      "50000/50000 [==============================] - 4s 85us/step - loss: 0.4960 - accuracy: 0.8620 - val_loss: 1.6821 - val_accuracy: 0.4903\n"
     ]
    }
   ],
   "source": [
    "# 載入 Callbacks\n",
    "\"\"\"Code Here\n",
    "設定 callbacks: model checkpoint\n",
    "\"\"\"\n",
    "from keras.callbacks import ModelCheckpoint\n",
    "\n",
    "results = {}\n",
    "\"\"\"Code Here\n",
    "撰寫你的訓練流程並將結果用 dictionary 紀錄\n",
    "\"\"\"\n",
    "for bSave in SAVE:\n",
    "    keras.backend.clear_session() # 把舊的 Graph 清掉\n",
    "    model = build_mlp(input_shape=x_train.shape[1:])\n",
    "    model.summary()\n",
    "    optimizer = keras.optimizers.SGD(lr=LEARNING_RATE, nesterov=True, momentum=MOMENTUM)\n",
    "    model.compile(loss=\"categorical_crossentropy\", metrics=[\"accuracy\"], optimizer=optimizer)\n",
    "\n",
    "    model_ckpt = ModelCheckpoint(filepath=\"./tmp_%s.h5\" % bSave, \n",
    "                                 monitor=\"val_loss\", \n",
    "                                 save_best_only=bSave)\n",
    "    \n",
    "    model.fit(x_train, y_train, \n",
    "              epochs=EPOCHS, \n",
    "              batch_size=BATCH_SIZE, \n",
    "              validation_data=(x_test, y_test), \n",
    "              shuffle=True,\n",
    "              callbacks=[model_ckpt]\n",
    "             )\n",
    "\n",
    "    # Collect results\n",
    "    train_loss = model.history.history[\"loss\"]\n",
    "    valid_loss = model.history.history[\"val_loss\"]\n",
    "    train_acc = model.history.history[\"accuracy\"]\n",
    "    valid_acc = model.history.history[\"val_accuracy\"]\n",
    "\n",
    "    exp_name_tag = \"exp-sb-%s\" % bSave\n",
    "    results[exp_name_tag] = {'train-loss': train_loss,\n",
    "                             'valid-loss': valid_loss,\n",
    "                             'train-acc': train_acc,\n",
    "                             'valid-acc': valid_acc}"
   ]
  },
  {
   "cell_type": "code",
   "execution_count": 15,
   "metadata": {
    "scrolled": true
   },
   "outputs": [
    {
     "name": "stdout",
     "output_type": "stream",
     "text": [
      "10000/10000 [==============================] - 1s 90us/step\n"
     ]
    },
    {
     "data": {
      "image/png": "[encoded data removed]",
      "text/plain": [
       "<Figure size 720x288 with 2 Axes>"
      ]
     },
     "metadata": {},
     "output_type": "display_data"
    },
    {
     "name": "stdout",
     "output_type": "stream",
     "text": [
      "10000/10000 [==============================] - 1s 98us/step\n"
     ]
    },
    {
     "data": {
      "image/png": "[encoded data removed]",
      "text/plain": [
       "<Figure size 720x288 with 2 Axes>"
      ]
     },
     "metadata": {},
     "output_type": "display_data"
    }
   ],
   "source": [
    "import matplotlib.pyplot as plt\n",
    "%matplotlib inline\n",
    "\"\"\"Code Here\n",
    "將結果繪出\n",
    "\"\"\"\n",
    "plt.style.use('ggplot')\n",
    "\n",
    "for i, cond in enumerate(results.keys()):\n",
    "    plt.figure(figsize=(10,4))\n",
    "    plt.subplot(121)\n",
    "    model = keras.models.load_model(\"./tmp_%s.h5\" % (not i))\n",
    "    loss_loadback, acc_loadback = model.evaluate(x_test, y_test)\n",
    "    \n",
    "    plt.plot(range(len(results[cond]['train-loss'])),results[cond]['train-loss'], label=\"train loss\")\n",
    "    plt.plot(range(len(results[cond]['valid-loss'])),results[cond]['valid-loss'], label=\"valid loss\")\n",
    "    plt.hlines(y=loss_loadback, xmin=0, xmax=len(results[cond]['train-loss']), colors='r', linestyles='--')\n",
    "    plt.title(\"save_best_only = %s \" % (not i))\n",
    "    plt.legend()\n",
    "\n",
    "    plt.subplot(122)\n",
    "    plt.plot(range(len(results[cond]['train-acc'])),results[cond]['train-acc'], label=\"train accuracy\")\n",
    "    plt.plot(range(len(results[cond]['valid-acc'])),results[cond]['valid-acc'], label=\"valid accuracy\")\n",
    "    plt.hlines(y=acc_loadback, xmin=0, xmax=len(results[cond]['train-acc']), colors='r', linestyles='--')\n",
    "    plt.title(\"save_best_only = %s \" % (not i))\n",
    "    plt.legend()\n",
    "    plt.show()\n"
   ]
  },
  {
   "cell_type": "code",
   "execution_count": 20,
   "metadata": {},
   "outputs": [
    {
     "name": "stdout",
     "output_type": "stream",
     "text": [
      "Model: \"model_6\"\n",
      "_________________________________________________________________\n",
      "Layer (type)                 Output Shape              Param #   \n",
      "=================================================================\n",
      "input_6 (InputLayer)         (None, 3072)              0         \n",
      "_________________________________________________________________\n",
      "hidden_layer1 (Dense)        (None, 512)               1573376   \n",
      "_________________________________________________________________\n",
      "batch_normalization_16 (Batc (None, 512)               2048      \n",
      "_________________________________________________________________\n",
      "hidden_layer2 (Dense)        (None, 256)               131328    \n",
      "_________________________________________________________________\n",
      "batch_normalization_17 (Batc (None, 256)               1024      \n",
      "_________________________________________________________________\n",
      "hidden_layer3 (Dense)        (None, 128)               32896     \n",
      "_________________________________________________________________\n",
      "batch_normalization_18 (Batc (None, 128)               512       \n",
      "_________________________________________________________________\n",
      "output (Dense)               (None, 10)                1290      \n",
      "=================================================================\n",
      "Total params: 1,742,474\n",
      "Trainable params: 1,740,682\n",
      "Non-trainable params: 1,792\n",
      "_________________________________________________________________\n"
     ]
    },
    {
     "data": {
      "text/plain": [
       "<keras.callbacks.callbacks.History at 0x27ae5a18fc8>"
      ]
     },
     "execution_count": 20,
     "metadata": {},
     "output_type": "execute_result"
    }
   ],
   "source": [
    "model1 = build_mlp(input_shape=x_train.shape[1:])\n",
    "model1.summary()\n",
    "optimizer = keras.optimizers.SGD(lr=LEARNING_RATE, nesterov=True, momentum=MOMENTUM)\n",
    "model1.compile(loss=\"categorical_crossentropy\", metrics=[\"accuracy\"], optimizer=optimizer)\n",
    "\n",
    "model_ckpt = ModelCheckpoint(filepath=\"./tmp.h5\", \n",
    "                             monitor=\"val_loss\", \n",
    "                             save_weights_only=True)\n",
    "\n",
    "model1.fit(x_train, y_train, \n",
    "          epochs=EPOCHS, \n",
    "          batch_size=BATCH_SIZE, \n",
    "          validation_data=(x_test, y_test), \n",
    "          shuffle=True,\n",
    "          callbacks=[model_ckpt],\n",
    "          verbose=0\n",
    "         )"
   ]
  },
  {
   "cell_type": "code",
   "execution_count": 21,
   "metadata": {},
   "outputs": [
    {
     "name": "stdout",
     "output_type": "stream",
     "text": [
      "5/5 [==============================] - 0s 598us/step\n",
      "test before load:  [2.770705223083496, 0.20000000298023224]\n"
     ]
    }
   ],
   "source": [
    "print('test before load: ', model1.evaluate(x_test[0:5],y_test[0:5]))"
   ]
  },
  {
   "cell_type": "code",
   "execution_count": 22,
   "metadata": {},
   "outputs": [
    {
     "name": "stdout",
     "output_type": "stream",
     "text": [
      "5/5 [==============================] - 0s 32ms/step\n",
      "test after load:  [2.770705223083496, 0.20000000298023224]\n"
     ]
    }
   ],
   "source": [
    "model2 = build_mlp(input_shape=x_train.shape[1:])\n",
    "optimizer = keras.optimizers.SGD(lr=LEARNING_RATE, nesterov=True, momentum=MOMENTUM)\n",
    "model2.compile(loss=\"categorical_crossentropy\", metrics=[\"accuracy\"], optimizer=optimizer)\n",
    "model2.load_weights('./tmp.h5')\n",
    "\n",
    "print('test after load: ', model2.evaluate(x_test[0:5],y_test[0:5]))"
   ]
  },
  {
   "cell_type": "code",
   "execution_count": 24,
   "metadata": {},
   "outputs": [
    {
     "name": "stdout",
     "output_type": "stream",
     "text": [
      "Model: \"model_7\"\n",
      "_________________________________________________________________\n",
      "Layer (type)                 Output Shape              Param #   \n",
      "=================================================================\n",
      "input_7 (InputLayer)         (None, 3072)              0         \n",
      "_________________________________________________________________\n",
      "hidden_layer1 (Dense)        (None, 512)               1573376   \n",
      "_________________________________________________________________\n",
      "batch_normalization_19 (Batc (None, 512)               2048      \n",
      "_________________________________________________________________\n",
      "hidden_layer2 (Dense)        (None, 256)               131328    \n",
      "_________________________________________________________________\n",
      "batch_normalization_20 (Batc (None, 256)               1024      \n",
      "_________________________________________________________________\n",
      "hidden_layer3 (Dense)        (None, 128)               32896     \n",
      "_________________________________________________________________\n",
      "batch_normalization_21 (Batc (None, 128)               512       \n",
      "_________________________________________________________________\n",
      "output (Dense)               (None, 10)                1290      \n",
      "=================================================================\n",
      "Total params: 1,742,474\n",
      "Trainable params: 1,740,682\n",
      "Non-trainable params: 1,792\n",
      "_________________________________________________________________\n"
     ]
    }
   ],
   "source": [
    "model2.summary()"
   ]
  },
  {
   "cell_type": "code",
   "execution_count": null,
   "metadata": {},
   "outputs": [],
   "source": []
  }
 ],
 "metadata": {
  "kernelspec": {
   "display_name": "Python 3",
   "language": "python",
   "name": "python3"
  },
  "language_info": {
   "codemirror_mode": {
    "name": "ipython",
    "version": 3
   },
   "file_extension": ".py",
   "mimetype": "text/x-python",
   "name": "python",
   "nbconvert_exporter": "python",
   "pygments_lexer": "ipython3",
   "version": "3.7.7"
  }
 },
 "nbformat": 4,
 "nbformat_minor": 2
}
