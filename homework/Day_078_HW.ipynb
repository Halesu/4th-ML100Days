{
 "cells": [
  {
   "cell_type": "markdown",
   "metadata": {},
   "source": [
    "## Work\n",
    "1. 請嘗試將 preproc_x 替換成以每筆資料的 min/max 進行標準化至 -1 ~ 1 間，再進行訓練\n",
    "2. 請嘗試將 mlp 疊更深 (e.g 5~10 層)，進行訓練後觀察 learning curve 的走勢\n",
    "3. (optional) 請改用 GPU 進行訓練 (如果你有 GPU 的話)，比較使用 CPU 與 GPU 的訓練速度"
   ]
  },
  {
   "cell_type": "code",
   "execution_count": 1,
   "metadata": {},
   "outputs": [
    {
     "name": "stdout",
     "output_type": "stream",
     "text": [
      "Tue Jun 16 12:18:29 2020       \n",
      "+-----------------------------------------------------------------------------+\n",
      "| NVIDIA-SMI 442.23       Driver Version: 442.23       CUDA Version: 10.2     |\n",
      "|-------------------------------+----------------------+----------------------+\n",
      "| GPU  Name            TCC/WDDM | Bus-Id        Disp.A | Volatile Uncorr. ECC |\n",
      "| Fan  Temp  Perf  Pwr:Usage/Cap|         Memory-Usage | GPU-Util  Compute M. |\n",
      "|===============================+======================+======================|\n",
      "|   0  GeForce MX250      WDDM  | 00000000:3C:00.0 Off |                  N/A |\n",
      "| N/A   60C    P0    N/A /  N/A |     64MiB /  2048MiB |      0%      Default |\n",
      "+-------------------------------+----------------------+----------------------+\n",
      "                                                                               \n",
      "+-----------------------------------------------------------------------------+\n",
      "| Processes:                                                       GPU Memory |\n",
      "|  GPU       PID   Type   Process name                             Usage      |\n",
      "|=============================================================================|\n",
      "|    0     10528      C   ...er\\Anaconda3\\envs\\tensorflow\\python.exe N/A      |\n",
      "|    0     16112      C   ...er\\Anaconda3\\envs\\tensorflow\\python.exe N/A      |\n",
      "|    0     18816      C   ...er\\Anaconda3\\envs\\tensorflow\\python.exe N/A      |\n",
      "+-----------------------------------------------------------------------------+\n"
     ]
    }
   ],
   "source": [
    "## \n",
    "\"\"\"\n",
    "Your code here (optional)\n",
    "確認硬體資源\n",
    "\"\"\"\n",
    "!nvidia-smi"
   ]
  },
  {
   "cell_type": "code",
   "execution_count": 2,
   "metadata": {},
   "outputs": [
    {
     "name": "stderr",
     "output_type": "stream",
     "text": [
      "Using TensorFlow backend.\n"
     ]
    }
   ],
   "source": [
    "import os\n",
    "import keras\n",
    "\n",
    "# 請嘗試設定 GPU：os.environ\n",
    "import tensorflow as tf\n",
    "gpu_devices = tf.config.experimental.list_physical_devices('GPU')\n",
    "tf.config.experimental.set_memory_growth(gpu_devices[0], True)"
   ]
  },
  {
   "cell_type": "code",
   "execution_count": 3,
   "metadata": {},
   "outputs": [],
   "source": [
    "train, test = keras.datasets.cifar10.load_data()"
   ]
  },
  {
   "cell_type": "code",
   "execution_count": 4,
   "metadata": {},
   "outputs": [],
   "source": [
    "## 資料前處理\n",
    "\"\"\"\n",
    "Your code here\n",
    "\"\"\"\n",
    "def preproc_x(x, flatten=True):\n",
    "    x = 2 * (x - x.min()) / (x.max() - x.min()) - 1\n",
    "    if flatten:\n",
    "        x = x.reshape(len(x),-1)\n",
    "    return x\n",
    "\n",
    "def preproc_y(y, num_classes=10):\n",
    "    if y.shape[-1] == 1:\n",
    "        y = keras.utils.to_categorical(y, num_classes)\n",
    "    return y    "
   ]
  },
  {
   "cell_type": "code",
   "execution_count": 5,
   "metadata": {},
   "outputs": [],
   "source": [
    "x_train, y_train = train\n",
    "x_test, y_test = test\n",
    "\n",
    "# Preproc the inputs\n",
    "x_train = preproc_x(x_train)\n",
    "x_test = preproc_x(x_test)\n",
    "\n",
    "# Preprc the outputs\n",
    "y_train = preproc_y(y_train)\n",
    "y_test = preproc_y(y_test)"
   ]
  },
  {
   "cell_type": "code",
   "execution_count": 6,
   "metadata": {},
   "outputs": [
    {
     "name": "stdout",
     "output_type": "stream",
     "text": [
      "Model: \"model_1\"\n",
      "_________________________________________________________________\n",
      "Layer (type)                 Output Shape              Param #   \n",
      "=================================================================\n",
      "input_1 (InputLayer)         (None, 3072)              0         \n",
      "_________________________________________________________________\n",
      "hidden_layer1 (Dense)        (None, 512)               1573376   \n",
      "_________________________________________________________________\n",
      "hidden_layer2 (Dense)        (None, 512)               262656    \n",
      "_________________________________________________________________\n",
      "hidden_layer3 (Dense)        (None, 256)               131328    \n",
      "_________________________________________________________________\n",
      "hidden_layer4 (Dense)        (None, 256)               65792     \n",
      "_________________________________________________________________\n",
      "hidden_layer5 (Dense)        (None, 128)               32896     \n",
      "_________________________________________________________________\n",
      "hidden_layer6 (Dense)        (None, 128)               16512     \n",
      "_________________________________________________________________\n",
      "hidden_layer7 (Dense)        (None, 128)               16512     \n",
      "_________________________________________________________________\n",
      "output (Dense)               (None, 10)                1290      \n",
      "=================================================================\n",
      "Total params: 2,100,362\n",
      "Trainable params: 2,100,362\n",
      "Non-trainable params: 0\n",
      "_________________________________________________________________\n"
     ]
    }
   ],
   "source": [
    "\"\"\"Code Here\n",
    "建立你的神經網路\n",
    "\"\"\"\n",
    "def build_mlp(input_shape, output_units=10, num_neurons=[512, 256, 128]):\n",
    "    input_layer = keras.layers.Input(input_shape)\n",
    "    \n",
    "    for i, n_units in enumerate(num_neurons):\n",
    "        if i == 0:\n",
    "            x = keras.layers.Dense(units=n_units, activation=\"relu\", name=\"hidden_layer\"+str(i+1))(input_layer)\n",
    "        else:\n",
    "            x = keras.layers.Dense(units=n_units, activation=\"relu\", name=\"hidden_layer\"+str(i+1))(x)\n",
    "            \n",
    "#         if i % 2:\n",
    "#             x = keras.layers.Dropout(0.1)(x)\n",
    "    \n",
    "    out = keras.layers.Dense(units=output_units, activation=\"softmax\", name=\"output\")(x)\n",
    "    \n",
    "    model = keras.models.Model(inputs=[input_layer], outputs=[out])\n",
    "    return model\n",
    "\n",
    "model = build_mlp(input_shape=x_train.shape[1:], num_neurons=[512, 512, 256, 256, 128, 128, 128])\n",
    "model.summary()"
   ]
  },
  {
   "cell_type": "code",
   "execution_count": 7,
   "metadata": {},
   "outputs": [],
   "source": [
    "## 超參數設定\n",
    "LEARNING_RATE = 0.001\n",
    "EPOCHS = 100\n",
    "BATCH_SIZE = 256"
   ]
  },
  {
   "cell_type": "code",
   "execution_count": 8,
   "metadata": {},
   "outputs": [],
   "source": [
    "optimizer = keras.optimizers.Adam(lr=LEARNING_RATE)\n",
    "model.compile(loss=\"categorical_crossentropy\", metrics=[\"accuracy\"], optimizer=optimizer)"
   ]
  },
  {
   "cell_type": "code",
   "execution_count": 9,
   "metadata": {},
   "outputs": [
    {
     "name": "stdout",
     "output_type": "stream",
     "text": [
      "Train on 50000 samples, validate on 10000 samples\n",
      "Epoch 1/100\n",
      "50000/50000 [==============================] - 5s 106us/step - loss: 2.2390 - accuracy: 0.1511 - val_loss: 2.2246 - val_accuracy: 0.1677\n",
      "Epoch 2/100\n",
      "50000/50000 [==============================] - 5s 96us/step - loss: 2.1341 - accuracy: 0.2106 - val_loss: 2.1174 - val_accuracy: 0.2144\n",
      "Epoch 3/100\n",
      "50000/50000 [==============================] - 5s 94us/step - loss: 2.0734 - accuracy: 0.2398 - val_loss: 2.0580 - val_accuracy: 0.2443\n",
      "Epoch 4/100\n",
      "50000/50000 [==============================] - 5s 99us/step - loss: 2.0215 - accuracy: 0.2624 - val_loss: 2.0339 - val_accuracy: 0.2612\n",
      "Epoch 5/100\n",
      "50000/50000 [==============================] - 11s 212us/step - loss: 1.9886 - accuracy: 0.2757 - val_loss: 2.0224 - val_accuracy: 0.2646\n",
      "Epoch 6/100\n",
      "50000/50000 [==============================] - 7s 147us/step - loss: 1.9548 - accuracy: 0.2927 - val_loss: 2.0139 - val_accuracy: 0.2664\n",
      "Epoch 7/100\n",
      "50000/50000 [==============================] - 7s 148us/step - loss: 1.9280 - accuracy: 0.2987 - val_loss: 1.9915 - val_accuracy: 0.2814\n",
      "Epoch 8/100\n",
      "50000/50000 [==============================] - 6s 117us/step - loss: 1.8934 - accuracy: 0.3134 - val_loss: 2.0178 - val_accuracy: 0.2734\n",
      "Epoch 9/100\n",
      "50000/50000 [==============================] - 6s 112us/step - loss: 1.8718 - accuracy: 0.3223 - val_loss: 2.0022 - val_accuracy: 0.2838\n",
      "Epoch 10/100\n",
      "50000/50000 [==============================] - 5s 100us/step - loss: 1.8460 - accuracy: 0.3345 - val_loss: 1.9718 - val_accuracy: 0.2873\n",
      "Epoch 11/100\n",
      "50000/50000 [==============================] - 5s 104us/step - loss: 1.8066 - accuracy: 0.3476 - val_loss: 1.9620 - val_accuracy: 0.2947\n",
      "Epoch 12/100\n",
      "50000/50000 [==============================] - 8s 157us/step - loss: 1.7802 - accuracy: 0.3580 - val_loss: 1.9676 - val_accuracy: 0.2971\n",
      "Epoch 13/100\n",
      "50000/50000 [==============================] - 6s 127us/step - loss: 1.7461 - accuracy: 0.3766 - val_loss: 1.9681 - val_accuracy: 0.3019\n",
      "Epoch 14/100\n",
      "50000/50000 [==============================] - 7s 132us/step - loss: 1.7154 - accuracy: 0.3823 - val_loss: 1.9771 - val_accuracy: 0.3067\n",
      "Epoch 15/100\n",
      "50000/50000 [==============================] - 6s 129us/step - loss: 1.6806 - accuracy: 0.3955 - val_loss: 2.0751 - val_accuracy: 0.2859\n",
      "Epoch 16/100\n",
      "50000/50000 [==============================] - 8s 152us/step - loss: 1.6526 - accuracy: 0.4092 - val_loss: 1.9861 - val_accuracy: 0.3038\n",
      "Epoch 17/100\n",
      "50000/50000 [==============================] - 7s 147us/step - loss: 1.6195 - accuracy: 0.4178 - val_loss: 2.0461 - val_accuracy: 0.3042\n",
      "Epoch 18/100\n",
      "50000/50000 [==============================] - 7s 141us/step - loss: 1.5791 - accuracy: 0.4367 - val_loss: 2.0215 - val_accuracy: 0.3077\n",
      "Epoch 19/100\n",
      "50000/50000 [==============================] - 7s 137us/step - loss: 1.5494 - accuracy: 0.4461 - val_loss: 2.0069 - val_accuracy: 0.3081\n",
      "Epoch 20/100\n",
      "50000/50000 [==============================] - 7s 145us/step - loss: 1.5134 - accuracy: 0.4563 - val_loss: 2.0366 - val_accuracy: 0.3126\n",
      "Epoch 21/100\n",
      "50000/50000 [==============================] - 7s 139us/step - loss: 1.4820 - accuracy: 0.4683 - val_loss: 2.0686 - val_accuracy: 0.3136\n",
      "Epoch 22/100\n",
      "50000/50000 [==============================] - 8s 154us/step - loss: 1.4520 - accuracy: 0.4806 - val_loss: 2.0799 - val_accuracy: 0.3104\n",
      "Epoch 23/100\n",
      "50000/50000 [==============================] - 7s 139us/step - loss: 1.4020 - accuracy: 0.4972 - val_loss: 2.1240 - val_accuracy: 0.3151\n",
      "Epoch 24/100\n",
      "50000/50000 [==============================] - 7s 132us/step - loss: 1.3568 - accuracy: 0.5136 - val_loss: 2.2201 - val_accuracy: 0.3011\n",
      "Epoch 25/100\n",
      "50000/50000 [==============================] - 6s 129us/step - loss: 1.3158 - accuracy: 0.5276 - val_loss: 2.2419 - val_accuracy: 0.3083\n",
      "Epoch 26/100\n",
      "50000/50000 [==============================] - 6s 118us/step - loss: 1.2888 - accuracy: 0.5373 - val_loss: 2.2312 - val_accuracy: 0.3013\n",
      "Epoch 27/100\n",
      "50000/50000 [==============================] - 5s 105us/step - loss: 1.2526 - accuracy: 0.5510 - val_loss: 2.2441 - val_accuracy: 0.3153\n",
      "Epoch 28/100\n",
      "50000/50000 [==============================] - 5s 108us/step - loss: 1.2047 - accuracy: 0.5658 - val_loss: 2.4363 - val_accuracy: 0.3032\n",
      "Epoch 29/100\n",
      "50000/50000 [==============================] - 5s 100us/step - loss: 1.1518 - accuracy: 0.5875 - val_loss: 2.4547 - val_accuracy: 0.3020\n",
      "Epoch 30/100\n",
      "50000/50000 [==============================] - 6s 114us/step - loss: 1.1075 - accuracy: 0.6013 - val_loss: 2.4628 - val_accuracy: 0.2995\n",
      "Epoch 31/100\n",
      "50000/50000 [==============================] - 7s 146us/step - loss: 1.0805 - accuracy: 0.6124 - val_loss: 2.5242 - val_accuracy: 0.3041\n",
      "Epoch 32/100\n",
      "50000/50000 [==============================] - 8s 160us/step - loss: 1.0340 - accuracy: 0.6259 - val_loss: 2.6820 - val_accuracy: 0.3033\n",
      "Epoch 33/100\n",
      "50000/50000 [==============================] - 6s 126us/step - loss: 1.0081 - accuracy: 0.6397 - val_loss: 2.7859 - val_accuracy: 0.2990\n",
      "Epoch 34/100\n",
      "50000/50000 [==============================] - 8s 158us/step - loss: 0.9754 - accuracy: 0.6496 - val_loss: 2.8743 - val_accuracy: 0.2923\n",
      "Epoch 35/100\n",
      "50000/50000 [==============================] - 7s 136us/step - loss: 0.9310 - accuracy: 0.6661 - val_loss: 2.8417 - val_accuracy: 0.3006\n",
      "Epoch 36/100\n",
      "50000/50000 [==============================] - 9s 184us/step - loss: 0.9039 - accuracy: 0.6761 - val_loss: 2.9550 - val_accuracy: 0.2943\n",
      "Epoch 37/100\n",
      "50000/50000 [==============================] - 8s 150us/step - loss: 0.8525 - accuracy: 0.6933 - val_loss: 3.1053 - val_accuracy: 0.2925\n",
      "Epoch 38/100\n",
      "50000/50000 [==============================] - 7s 150us/step - loss: 0.8197 - accuracy: 0.7050 - val_loss: 3.2418 - val_accuracy: 0.2918\n",
      "Epoch 39/100\n",
      "50000/50000 [==============================] - 10s 197us/step - loss: 0.8176 - accuracy: 0.7071 - val_loss: 3.2051 - val_accuracy: 0.2890\n",
      "Epoch 40/100\n",
      "50000/50000 [==============================] - 12s 249us/step - loss: 0.7402 - accuracy: 0.7361 - val_loss: 3.3347 - val_accuracy: 0.2824\n",
      "Epoch 41/100\n",
      "50000/50000 [==============================] - 13s 258us/step - loss: 0.7530 - accuracy: 0.7331 - val_loss: 3.5071 - val_accuracy: 0.2957\n",
      "Epoch 42/100\n",
      "50000/50000 [==============================] - 9s 171us/step - loss: 0.7043 - accuracy: 0.7489 - val_loss: 3.6889 - val_accuracy: 0.2915\n",
      "Epoch 43/100\n",
      "50000/50000 [==============================] - 18s 362us/step - loss: 0.6864 - accuracy: 0.7547 - val_loss: 3.6649 - val_accuracy: 0.2848\n",
      "Epoch 44/100\n",
      "50000/50000 [==============================] - 6s 115us/step - loss: 0.6452 - accuracy: 0.7686 - val_loss: 3.7610 - val_accuracy: 0.2915\n",
      "Epoch 45/100\n",
      "50000/50000 [==============================] - 5s 97us/step - loss: 0.6342 - accuracy: 0.7767 - val_loss: 3.8518 - val_accuracy: 0.2863\n",
      "Epoch 46/100\n",
      "50000/50000 [==============================] - 6s 119us/step - loss: 0.6152 - accuracy: 0.7811 - val_loss: 3.6758 - val_accuracy: 0.2744\n",
      "Epoch 47/100\n",
      "50000/50000 [==============================] - 5s 100us/step - loss: 0.5813 - accuracy: 0.7930 - val_loss: 4.0937 - val_accuracy: 0.2915\n",
      "Epoch 48/100\n",
      "50000/50000 [==============================] - 5s 95us/step - loss: 0.5732 - accuracy: 0.7951 - val_loss: 4.0303 - val_accuracy: 0.2878\n",
      "Epoch 49/100\n",
      "50000/50000 [==============================] - 5s 104us/step - loss: 0.5663 - accuracy: 0.8000 - val_loss: 4.0696 - val_accuracy: 0.2879\n",
      "Epoch 50/100\n",
      "50000/50000 [==============================] - 5s 103us/step - loss: 0.5273 - accuracy: 0.8113 - val_loss: 4.0137 - val_accuracy: 0.2846\n",
      "Epoch 51/100\n",
      "50000/50000 [==============================] - 6s 116us/step - loss: 0.5232 - accuracy: 0.8151 - val_loss: 4.3615 - val_accuracy: 0.2808\n",
      "Epoch 52/100\n",
      "50000/50000 [==============================] - 10s 205us/step - loss: 0.5053 - accuracy: 0.8220 - val_loss: 4.0653 - val_accuracy: 0.2924\n",
      "Epoch 53/100\n",
      "50000/50000 [==============================] - 8s 155us/step - loss: 0.4767 - accuracy: 0.8313 - val_loss: 4.5531 - val_accuracy: 0.2847\n",
      "Epoch 54/100\n",
      "50000/50000 [==============================] - 8s 167us/step - loss: 0.4503 - accuracy: 0.8413 - val_loss: 4.4464 - val_accuracy: 0.2903\n",
      "Epoch 55/100\n"
     ]
    },
    {
     "name": "stdout",
     "output_type": "stream",
     "text": [
      "50000/50000 [==============================] - 6s 128us/step - loss: 0.4441 - accuracy: 0.8434 - val_loss: 4.7060 - val_accuracy: 0.2793\n",
      "Epoch 56/100\n",
      "50000/50000 [==============================] - 6s 130us/step - loss: 0.4316 - accuracy: 0.8487 - val_loss: 4.5367 - val_accuracy: 0.2785\n",
      "Epoch 57/100\n",
      "50000/50000 [==============================] - 6s 123us/step - loss: 0.4320 - accuracy: 0.8491 - val_loss: 4.5379 - val_accuracy: 0.2755\n",
      "Epoch 58/100\n",
      "50000/50000 [==============================] - 7s 135us/step - loss: 0.4026 - accuracy: 0.8589 - val_loss: 4.8800 - val_accuracy: 0.2807\n",
      "Epoch 59/100\n",
      "50000/50000 [==============================] - 8s 151us/step - loss: 0.4317 - accuracy: 0.8494 - val_loss: 4.6642 - val_accuracy: 0.2841\n",
      "Epoch 60/100\n",
      "50000/50000 [==============================] - 7s 139us/step - loss: 0.3793 - accuracy: 0.8684 - val_loss: 5.1651 - val_accuracy: 0.2819\n",
      "Epoch 61/100\n",
      "50000/50000 [==============================] - 7s 132us/step - loss: 0.3672 - accuracy: 0.8716 - val_loss: 5.0295 - val_accuracy: 0.2818\n",
      "Epoch 62/100\n",
      "50000/50000 [==============================] - 6s 121us/step - loss: 0.3522 - accuracy: 0.8783 - val_loss: 5.0089 - val_accuracy: 0.2832\n",
      "Epoch 63/100\n",
      "50000/50000 [==============================] - 6s 113us/step - loss: 0.3649 - accuracy: 0.8723 - val_loss: 4.7640 - val_accuracy: 0.2839\n",
      "Epoch 64/100\n",
      "50000/50000 [==============================] - 9s 173us/step - loss: 0.3587 - accuracy: 0.8766 - val_loss: 5.2871 - val_accuracy: 0.2833\n",
      "Epoch 65/100\n",
      "50000/50000 [==============================] - 6s 125us/step - loss: 0.3370 - accuracy: 0.8836 - val_loss: 5.2837 - val_accuracy: 0.2866\n",
      "Epoch 66/100\n",
      "50000/50000 [==============================] - 9s 171us/step - loss: 0.3073 - accuracy: 0.8928 - val_loss: 5.4991 - val_accuracy: 0.2804\n",
      "Epoch 67/100\n",
      "50000/50000 [==============================] - 11s 229us/step - loss: 0.3138 - accuracy: 0.8917 - val_loss: 5.0683 - val_accuracy: 0.2798\n",
      "Epoch 68/100\n",
      "50000/50000 [==============================] - 8s 167us/step - loss: 0.3053 - accuracy: 0.8948 - val_loss: 5.5381 - val_accuracy: 0.2822\n",
      "Epoch 69/100\n",
      "50000/50000 [==============================] - 5s 108us/step - loss: 0.3369 - accuracy: 0.8842 - val_loss: 5.2479 - val_accuracy: 0.2805\n",
      "Epoch 70/100\n",
      "50000/50000 [==============================] - 5s 98us/step - loss: 0.3353 - accuracy: 0.8850 - val_loss: 4.6618 - val_accuracy: 0.2907\n",
      "Epoch 71/100\n",
      "50000/50000 [==============================] - 5s 97us/step - loss: 0.2766 - accuracy: 0.9046 - val_loss: 5.7975 - val_accuracy: 0.2796\n",
      "Epoch 72/100\n",
      "50000/50000 [==============================] - 5s 101us/step - loss: 0.3410 - accuracy: 0.8823 - val_loss: 4.6371 - val_accuracy: 0.2860\n",
      "Epoch 73/100\n",
      "50000/50000 [==============================] - 5s 108us/step - loss: 0.2469 - accuracy: 0.9181 - val_loss: 5.6621 - val_accuracy: 0.2836\n",
      "Epoch 74/100\n",
      "50000/50000 [==============================] - 7s 142us/step - loss: 0.2723 - accuracy: 0.9076 - val_loss: 5.7901 - val_accuracy: 0.2828\n",
      "Epoch 75/100\n",
      "50000/50000 [==============================] - 7s 145us/step - loss: 0.2709 - accuracy: 0.9064 - val_loss: 5.7175 - val_accuracy: 0.2892\n",
      "Epoch 76/100\n",
      "50000/50000 [==============================] - 7s 145us/step - loss: 0.2821 - accuracy: 0.9040 - val_loss: 5.0632 - val_accuracy: 0.2739\n",
      "Epoch 77/100\n",
      "50000/50000 [==============================] - 7s 142us/step - loss: 0.2344 - accuracy: 0.9215 - val_loss: 5.9984 - val_accuracy: 0.2785\n",
      "Epoch 78/100\n",
      "50000/50000 [==============================] - 7s 148us/step - loss: 0.2819 - accuracy: 0.9045 - val_loss: 5.3705 - val_accuracy: 0.2846\n",
      "Epoch 79/100\n",
      "50000/50000 [==============================] - 6s 130us/step - loss: 0.2423 - accuracy: 0.9190 - val_loss: 5.9628 - val_accuracy: 0.2774\n",
      "Epoch 80/100\n",
      "50000/50000 [==============================] - 7s 139us/step - loss: 0.2628 - accuracy: 0.9117 - val_loss: 5.3951 - val_accuracy: 0.2841\n",
      "Epoch 81/100\n",
      "50000/50000 [==============================] - 7s 145us/step - loss: 0.2254 - accuracy: 0.9216 - val_loss: 5.9219 - val_accuracy: 0.2848\n",
      "Epoch 82/100\n",
      "50000/50000 [==============================] - 7s 138us/step - loss: 0.2093 - accuracy: 0.9284 - val_loss: 6.0410 - val_accuracy: 0.2793\n",
      "Epoch 83/100\n",
      "50000/50000 [==============================] - 5s 104us/step - loss: 0.2686 - accuracy: 0.9080 - val_loss: 5.5487 - val_accuracy: 0.2827\n",
      "Epoch 84/100\n",
      "50000/50000 [==============================] - 5s 94us/step - loss: 0.2425 - accuracy: 0.9179 - val_loss: 5.6217 - val_accuracy: 0.2906\n",
      "Epoch 85/100\n",
      "50000/50000 [==============================] - 5s 92us/step - loss: 0.2254 - accuracy: 0.9234 - val_loss: 6.0598 - val_accuracy: 0.2830\n",
      "Epoch 86/100\n",
      "50000/50000 [==============================] - 5s 103us/step - loss: 0.2340 - accuracy: 0.9212 - val_loss: 5.8112 - val_accuracy: 0.2762\n",
      "Epoch 87/100\n",
      "50000/50000 [==============================] - 7s 147us/step - loss: 0.2224 - accuracy: 0.9247 - val_loss: 6.1444 - val_accuracy: 0.2865\n",
      "Epoch 88/100\n",
      "50000/50000 [==============================] - 8s 151us/step - loss: 0.2265 - accuracy: 0.9237 - val_loss: 5.9685 - val_accuracy: 0.2780\n",
      "Epoch 89/100\n",
      "50000/50000 [==============================] - 6s 112us/step - loss: 0.2384 - accuracy: 0.9178 - val_loss: 5.8204 - val_accuracy: 0.2853\n",
      "Epoch 90/100\n",
      "50000/50000 [==============================] - 5s 102us/step - loss: 0.1989 - accuracy: 0.9337 - val_loss: 6.2805 - val_accuracy: 0.2730\n",
      "Epoch 91/100\n",
      "50000/50000 [==============================] - 5s 95us/step - loss: 0.1962 - accuracy: 0.9335 - val_loss: 6.1476 - val_accuracy: 0.2841\n",
      "Epoch 92/100\n",
      "50000/50000 [==============================] - 5s 100us/step - loss: 0.2137 - accuracy: 0.9276 - val_loss: 6.1611 - val_accuracy: 0.2846\n",
      "Epoch 93/100\n",
      "50000/50000 [==============================] - 5s 107us/step - loss: 0.2023 - accuracy: 0.9333 - val_loss: 6.5154 - val_accuracy: 0.2787\n",
      "Epoch 94/100\n",
      "50000/50000 [==============================] - 7s 145us/step - loss: 0.2390 - accuracy: 0.9204 - val_loss: 5.9876 - val_accuracy: 0.2859\n",
      "Epoch 95/100\n",
      "50000/50000 [==============================] - 8s 153us/step - loss: 0.2147 - accuracy: 0.9278 - val_loss: 5.8779 - val_accuracy: 0.2853\n",
      "Epoch 96/100\n",
      "50000/50000 [==============================] - 7s 150us/step - loss: 0.1706 - accuracy: 0.9419 - val_loss: 6.6094 - val_accuracy: 0.2801\n",
      "Epoch 97/100\n",
      "50000/50000 [==============================] - 7s 139us/step - loss: 0.2056 - accuracy: 0.9313 - val_loss: 6.0344 - val_accuracy: 0.2822\n",
      "Epoch 98/100\n",
      "50000/50000 [==============================] - 5s 105us/step - loss: 0.1968 - accuracy: 0.9342 - val_loss: 6.2407 - val_accuracy: 0.2820\n",
      "Epoch 99/100\n",
      "50000/50000 [==============================] - 5s 109us/step - loss: 0.1936 - accuracy: 0.9345 - val_loss: 6.1047 - val_accuracy: 0.2865\n",
      "Epoch 100/100\n",
      "50000/50000 [==============================] - 5s 99us/step - loss: 0.1647 - accuracy: 0.9449 - val_loss: 6.4986 - val_accuracy: 0.2816\n"
     ]
    },
    {
     "data": {
      "text/plain": [
       "<keras.callbacks.callbacks.History at 0x1a8b5f57108>"
      ]
     },
     "execution_count": 9,
     "metadata": {},
     "output_type": "execute_result"
    }
   ],
   "source": [
    "model.fit(x_train, y_train, \n",
    "          epochs=EPOCHS, \n",
    "          batch_size=BATCH_SIZE, \n",
    "          validation_data=(x_test, y_test), \n",
    "          shuffle=True)"
   ]
  },
  {
   "cell_type": "code",
   "execution_count": 10,
   "metadata": {},
   "outputs": [
    {
     "data": {
      "image/png": "[encoded data removed]",
      "text/plain": [
       "<Figure size 432x288 with 1 Axes>"
      ]
     },
     "metadata": {
      "needs_background": "light"
     },
     "output_type": "display_data"
    },
    {
     "data": {
      "image/png": "[encoded data removed]",
      "text/plain": [
       "<Figure size 432x288 with 1 Axes>"
      ]
     },
     "metadata": {
      "needs_background": "light"
     },
     "output_type": "display_data"
    }
   ],
   "source": [
    "import matplotlib.pyplot as plt\n",
    "\n",
    "\n",
    "train_loss = model.history.history[\"loss\"]\n",
    "valid_loss = model.history.history[\"val_loss\"]\n",
    "\n",
    "train_acc = model.history.history[\"accuracy\"]\n",
    "valid_acc = model.history.history[\"val_accuracy\"]\n",
    "\n",
    "plt.plot(range(len(train_loss)), train_loss, label=\"train loss\")\n",
    "plt.plot(range(len(valid_loss)), valid_loss, label=\"valid loss\")\n",
    "plt.legend()\n",
    "plt.title(\"Loss\")\n",
    "plt.show()\n",
    "\n",
    "plt.plot(range(len(train_acc)), train_acc, label=\"train accuracy\")\n",
    "plt.plot(range(len(valid_acc)), valid_acc, label=\"valid accuracy\")\n",
    "plt.legend()\n",
    "plt.title(\"Accuracy\")\n",
    "plt.show()"
   ]
  }
 ],
 "metadata": {
  "kernelspec": {
   "display_name": "Python 3",
   "language": "python",
   "name": "python3"
  },
  "language_info": {
   "codemirror_mode": {
    "name": "ipython",
    "version": 3
   },
   "file_extension": ".py",
   "mimetype": "text/x-python",
   "name": "python",
   "nbconvert_exporter": "python",
   "pygments_lexer": "ipython3",
   "version": "3.7.7"
  }
 },
 "nbformat": 4,
 "nbformat_minor": 2
}
