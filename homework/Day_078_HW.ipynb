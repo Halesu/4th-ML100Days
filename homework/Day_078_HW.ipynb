{
 "cells": [
  {
   "cell_type": "markdown",
   "metadata": {},
   "source": [
    "## Work\n",
    "1. 請嘗試將 preproc_x 替換成以每筆資料的 min/max 進行標準化至 -1 ~ 1 間，再進行訓練\n",
    "2. 請嘗試將 mlp 疊更深 (e.g 5~10 層)，進行訓練後觀察 learning curve 的走勢\n",
    "3. (optional) 請改用 GPU 進行訓練 (如果你有 GPU 的話)，比較使用 CPU 與 GPU 的訓練速度"
   ]
  },
  {
   "cell_type": "code",
   "execution_count": 1,
   "metadata": {},
   "outputs": [
    {
     "name": "stdout",
     "output_type": "stream",
     "text": [
      "Tue Jun 16 11:42:20 2020       \n",
      "+-----------------------------------------------------------------------------+\n",
      "| NVIDIA-SMI 442.23       Driver Version: 442.23       CUDA Version: 10.2     |\n",
      "|-------------------------------+----------------------+----------------------+\n",
      "| GPU  Name            TCC/WDDM | Bus-Id        Disp.A | Volatile Uncorr. ECC |\n",
      "| Fan  Temp  Perf  Pwr:Usage/Cap|         Memory-Usage | GPU-Util  Compute M. |\n",
      "|===============================+======================+======================|\n",
      "|   0  GeForce MX250      WDDM  | 00000000:3C:00.0 Off |                  N/A |\n",
      "| N/A   57C    P8    N/A /  N/A |     64MiB /  2048MiB |      0%      Default |\n",
      "+-------------------------------+----------------------+----------------------+\n",
      "                                                                               \n",
      "+-----------------------------------------------------------------------------+\n",
      "| Processes:                                                       GPU Memory |\n",
      "|  GPU       PID   Type   Process name                             Usage      |\n",
      "|=============================================================================|\n",
      "|    0     10528      C   ...er\\Anaconda3\\envs\\tensorflow\\python.exe N/A      |\n",
      "|    0     16112      C   ...er\\Anaconda3\\envs\\tensorflow\\python.exe N/A      |\n",
      "|    0     18816      C   ...er\\Anaconda3\\envs\\tensorflow\\python.exe N/A      |\n",
      "+-----------------------------------------------------------------------------+\n"
     ]
    }
   ],
   "source": [
    "## \n",
    "\"\"\"\n",
    "Your code here (optional)\n",
    "確認硬體資源\n",
    "\"\"\"\n",
    "!nvidia-smi"
   ]
  },
  {
   "cell_type": "code",
   "execution_count": 2,
   "metadata": {},
   "outputs": [
    {
     "name": "stderr",
     "output_type": "stream",
     "text": [
      "Using TensorFlow backend.\n"
     ]
    }
   ],
   "source": [
    "import os\n",
    "import keras\n",
    "\n",
    "# 請嘗試設定 GPU：os.environ\n",
    "import tensorflow as tf\n",
    "gpu_devices = tf.config.experimental.list_physical_devices('GPU')\n",
    "tf.config.experimental.set_memory_growth(gpu_devices[0], True)"
   ]
  },
  {
   "cell_type": "code",
   "execution_count": 3,
   "metadata": {},
   "outputs": [],
   "source": [
    "train, test = keras.datasets.cifar10.load_data()"
   ]
  },
  {
   "cell_type": "code",
   "execution_count": 4,
   "metadata": {},
   "outputs": [],
   "source": [
    "## 資料前處理\n",
    "\"\"\"\n",
    "Your code here\n",
    "\"\"\"\n",
    "def preproc_x(x, flatten=True):\n",
    "    x = x * 2 / 255 - 1\n",
    "    if flatten:\n",
    "        x = x.reshape(len(x),-1)\n",
    "    return x\n",
    "\n",
    "def preproc_y(y, num_classes=10):\n",
    "    if y.shape[-1] == 1:\n",
    "        y = keras.utils.to_categorical(y, num_classes)\n",
    "    return y    "
   ]
  },
  {
   "cell_type": "code",
   "execution_count": 5,
   "metadata": {},
   "outputs": [],
   "source": [
    "x_train, y_train = train\n",
    "x_test, y_test = test\n",
    "\n",
    "# Preproc the inputs\n",
    "x_train = preproc_x(x_train)\n",
    "x_test = preproc_x(x_test)\n",
    "\n",
    "# Preprc the outputs\n",
    "y_train = preproc_y(y_train)\n",
    "y_test = preproc_y(y_test)"
   ]
  },
  {
   "cell_type": "code",
   "execution_count": 6,
   "metadata": {},
   "outputs": [
    {
     "name": "stdout",
     "output_type": "stream",
     "text": [
      "Model: \"model_1\"\n",
      "_________________________________________________________________\n",
      "Layer (type)                 Output Shape              Param #   \n",
      "=================================================================\n",
      "input_1 (InputLayer)         (None, 3072)              0         \n",
      "_________________________________________________________________\n",
      "hidden_layer1 (Dense)        (None, 512)               1573376   \n",
      "_________________________________________________________________\n",
      "hidden_layer2 (Dense)        (None, 512)               262656    \n",
      "_________________________________________________________________\n",
      "hidden_layer3 (Dense)        (None, 256)               131328    \n",
      "_________________________________________________________________\n",
      "hidden_layer4 (Dense)        (None, 256)               65792     \n",
      "_________________________________________________________________\n",
      "hidden_layer5 (Dense)        (None, 128)               32896     \n",
      "_________________________________________________________________\n",
      "hidden_layer6 (Dense)        (None, 128)               16512     \n",
      "_________________________________________________________________\n",
      "output (Dense)               (None, 10)                1290      \n",
      "=================================================================\n",
      "Total params: 2,083,850\n",
      "Trainable params: 2,083,850\n",
      "Non-trainable params: 0\n",
      "_________________________________________________________________\n"
     ]
    }
   ],
   "source": [
    "\"\"\"Code Here\n",
    "建立你的神經網路\n",
    "\"\"\"\n",
    "def build_mlp(input_shape, output_units=10, num_neurons=[512, 256, 128]):\n",
    "    input_layer = keras.layers.Input(input_shape)\n",
    "    \n",
    "    for i, n_units in enumerate(num_neurons):\n",
    "        if i == 0:\n",
    "            x = keras.layers.Dense(units=n_units, activation=\"relu\", name=\"hidden_layer\"+str(i+1))(input_layer)\n",
    "        else:\n",
    "            x = keras.layers.Dense(units=n_units, activation=\"relu\", name=\"hidden_layer\"+str(i+1))(x)\n",
    "            \n",
    "#         if i % 2:\n",
    "#             x = keras.layers.Dropout(0.2)(x)\n",
    "    \n",
    "    out = keras.layers.Dense(units=output_units, activation=\"softmax\", name=\"output\")(x)\n",
    "    \n",
    "    model = keras.models.Model(inputs=[input_layer], outputs=[out])\n",
    "    return model\n",
    "\n",
    "model = build_mlp(input_shape=x_train.shape[1:], num_neurons=[512, 512, 256, 256, 128, 128])\n",
    "model.summary()"
   ]
  },
  {
   "cell_type": "code",
   "execution_count": 7,
   "metadata": {},
   "outputs": [],
   "source": [
    "## 超參數設定\n",
    "LEARNING_RATE = 0.0005\n",
    "EPOCHS = 100\n",
    "BATCH_SIZE = 256"
   ]
  },
  {
   "cell_type": "code",
   "execution_count": 8,
   "metadata": {},
   "outputs": [],
   "source": [
    "optimizer = keras.optimizers.Adam(lr=LEARNING_RATE)\n",
    "model.compile(loss=\"categorical_crossentropy\", metrics=[\"accuracy\"], optimizer=optimizer)"
   ]
  },
  {
   "cell_type": "code",
   "execution_count": 9,
   "metadata": {},
   "outputs": [
    {
     "name": "stdout",
     "output_type": "stream",
     "text": [
      "Train on 50000 samples, validate on 10000 samples\n",
      "Epoch 1/100\n",
      "50000/50000 [==============================] - 5s 98us/step - loss: 2.2178 - accuracy: 0.1678 - val_loss: 2.1468 - val_accuracy: 0.2028\n",
      "Epoch 2/100\n",
      "50000/50000 [==============================] - 4s 84us/step - loss: 2.1129 - accuracy: 0.2258 - val_loss: 2.0904 - val_accuracy: 0.2271\n",
      "Epoch 3/100\n",
      "50000/50000 [==============================] - 4s 85us/step - loss: 2.0380 - accuracy: 0.2585 - val_loss: 2.0287 - val_accuracy: 0.2590\n",
      "Epoch 4/100\n",
      "50000/50000 [==============================] - 5s 90us/step - loss: 1.9851 - accuracy: 0.2804 - val_loss: 2.0093 - val_accuracy: 0.2648\n",
      "Epoch 5/100\n",
      "50000/50000 [==============================] - 5s 94us/step - loss: 1.9475 - accuracy: 0.2938 - val_loss: 1.9890 - val_accuracy: 0.2771\n",
      "Epoch 6/100\n",
      "50000/50000 [==============================] - 5s 102us/step - loss: 1.9106 - accuracy: 0.3124 - val_loss: 1.9911 - val_accuracy: 0.2849\n",
      "Epoch 7/100\n",
      "50000/50000 [==============================] - 6s 128us/step - loss: 1.8713 - accuracy: 0.3266 - val_loss: 1.9747 - val_accuracy: 0.2868\n",
      "Epoch 8/100\n",
      "50000/50000 [==============================] - 7s 136us/step - loss: 1.8360 - accuracy: 0.3416 - val_loss: 1.9703 - val_accuracy: 0.2920\n",
      "Epoch 9/100\n",
      "50000/50000 [==============================] - 7s 134us/step - loss: 1.8002 - accuracy: 0.3558 - val_loss: 1.9432 - val_accuracy: 0.3043\n",
      "Epoch 10/100\n",
      "50000/50000 [==============================] - 7s 137us/step - loss: 1.7593 - accuracy: 0.3709 - val_loss: 1.9583 - val_accuracy: 0.3034\n",
      "Epoch 11/100\n",
      "50000/50000 [==============================] - 6s 125us/step - loss: 1.7245 - accuracy: 0.3835 - val_loss: 1.9382 - val_accuracy: 0.3123\n",
      "Epoch 12/100\n",
      "50000/50000 [==============================] - 7s 137us/step - loss: 1.6859 - accuracy: 0.3964 - val_loss: 1.9537 - val_accuracy: 0.3103\n",
      "Epoch 13/100\n",
      "50000/50000 [==============================] - 9s 180us/step - loss: 1.6393 - accuracy: 0.4141 - val_loss: 1.9995 - val_accuracy: 0.3054\n",
      "Epoch 14/100\n",
      "50000/50000 [==============================] - 6s 123us/step - loss: 1.5954 - accuracy: 0.4321 - val_loss: 1.9550 - val_accuracy: 0.3110\n",
      "Epoch 15/100\n",
      "50000/50000 [==============================] - 5s 106us/step - loss: 1.5494 - accuracy: 0.4477 - val_loss: 1.9812 - val_accuracy: 0.3120\n",
      "Epoch 16/100\n",
      "50000/50000 [==============================] - 5s 98us/step - loss: 1.5040 - accuracy: 0.4644 - val_loss: 1.9944 - val_accuracy: 0.3237\n",
      "Epoch 17/100\n",
      "50000/50000 [==============================] - 5s 98us/step - loss: 1.4531 - accuracy: 0.4801 - val_loss: 2.0942 - val_accuracy: 0.3128\n",
      "Epoch 18/100\n",
      "50000/50000 [==============================] - 5s 101us/step - loss: 1.4062 - accuracy: 0.5022 - val_loss: 2.0438 - val_accuracy: 0.3227\n",
      "Epoch 19/100\n",
      "50000/50000 [==============================] - 6s 111us/step - loss: 1.3506 - accuracy: 0.5185 - val_loss: 2.1463 - val_accuracy: 0.3182\n",
      "Epoch 20/100\n",
      "50000/50000 [==============================] - 8s 168us/step - loss: 1.2920 - accuracy: 0.5404 - val_loss: 2.1568 - val_accuracy: 0.3229\n",
      "Epoch 21/100\n",
      "50000/50000 [==============================] - 13s 256us/step - loss: 1.2464 - accuracy: 0.5556 - val_loss: 2.2066 - val_accuracy: 0.3018\n",
      "Epoch 22/100\n",
      "50000/50000 [==============================] - 8s 153us/step - loss: 1.1848 - accuracy: 0.5779 - val_loss: 2.2109 - val_accuracy: 0.3166\n",
      "Epoch 23/100\n",
      "50000/50000 [==============================] - 7s 136us/step - loss: 1.1187 - accuracy: 0.5998 - val_loss: 2.3043 - val_accuracy: 0.3260\n",
      "Epoch 24/100\n",
      "50000/50000 [==============================] - 7s 148us/step - loss: 1.0738 - accuracy: 0.6153 - val_loss: 2.3584 - val_accuracy: 0.3107\n",
      "Epoch 25/100\n",
      "50000/50000 [==============================] - 5s 110us/step - loss: 1.0241 - accuracy: 0.6320 - val_loss: 2.5617 - val_accuracy: 0.3102\n",
      "Epoch 26/100\n",
      "50000/50000 [==============================] - 5s 99us/step - loss: 0.9607 - accuracy: 0.6583 - val_loss: 2.5361 - val_accuracy: 0.3074\n",
      "Epoch 27/100\n",
      "50000/50000 [==============================] - 5s 90us/step - loss: 0.8992 - accuracy: 0.6800 - val_loss: 2.6706 - val_accuracy: 0.3077\n",
      "Epoch 28/100\n",
      "50000/50000 [==============================] - 4s 88us/step - loss: 0.8620 - accuracy: 0.6931 - val_loss: 2.8076 - val_accuracy: 0.3163\n",
      "Epoch 29/100\n",
      "50000/50000 [==============================] - 5s 94us/step - loss: 0.7925 - accuracy: 0.7162 - val_loss: 2.9006 - val_accuracy: 0.3069\n",
      "Epoch 30/100\n",
      "50000/50000 [==============================] - 5s 96us/step - loss: 0.7584 - accuracy: 0.7279 - val_loss: 2.8917 - val_accuracy: 0.2997\n",
      "Epoch 31/100\n",
      "50000/50000 [==============================] - 5s 104us/step - loss: 0.7097 - accuracy: 0.7481 - val_loss: 3.1530 - val_accuracy: 0.3090\n",
      "Epoch 32/100\n",
      "50000/50000 [==============================] - 5s 97us/step - loss: 0.6489 - accuracy: 0.7687 - val_loss: 3.2366 - val_accuracy: 0.2964\n",
      "Epoch 33/100\n",
      "50000/50000 [==============================] - 5s 110us/step - loss: 0.5937 - accuracy: 0.7888 - val_loss: 3.4126 - val_accuracy: 0.2990\n",
      "Epoch 34/100\n",
      "50000/50000 [==============================] - 5s 102us/step - loss: 0.5600 - accuracy: 0.8015 - val_loss: 3.4682 - val_accuracy: 0.2984\n",
      "Epoch 35/100\n",
      "50000/50000 [==============================] - 6s 120us/step - loss: 0.5614 - accuracy: 0.8003 - val_loss: 3.5444 - val_accuracy: 0.3048\n",
      "Epoch 36/100\n",
      "50000/50000 [==============================] - 7s 143us/step - loss: 0.4719 - accuracy: 0.8332 - val_loss: 3.8442 - val_accuracy: 0.3043\n",
      "Epoch 37/100\n",
      "50000/50000 [==============================] - 8s 162us/step - loss: 0.4623 - accuracy: 0.8380 - val_loss: 3.9770 - val_accuracy: 0.2973\n",
      "Epoch 38/100\n",
      "50000/50000 [==============================] - 6s 121us/step - loss: 0.4339 - accuracy: 0.8453 - val_loss: 4.2067 - val_accuracy: 0.2990\n",
      "Epoch 39/100\n",
      "50000/50000 [==============================] - 5s 97us/step - loss: 0.4001 - accuracy: 0.8591 - val_loss: 4.3950 - val_accuracy: 0.3051\n",
      "Epoch 40/100\n",
      "50000/50000 [==============================] - 5s 94us/step - loss: 0.3772 - accuracy: 0.8675 - val_loss: 4.3948 - val_accuracy: 0.3041\n",
      "Epoch 41/100\n",
      "50000/50000 [==============================] - 5s 92us/step - loss: 0.3513 - accuracy: 0.8771 - val_loss: 4.5291 - val_accuracy: 0.3052\n",
      "Epoch 42/100\n",
      "50000/50000 [==============================] - 5s 94us/step - loss: 0.3328 - accuracy: 0.8853 - val_loss: 4.7920 - val_accuracy: 0.3110\n",
      "Epoch 43/100\n",
      "50000/50000 [==============================] - 5s 102us/step - loss: 0.3238 - accuracy: 0.8886 - val_loss: 4.7670 - val_accuracy: 0.3054\n",
      "Epoch 44/100\n",
      "50000/50000 [==============================] - 8s 153us/step - loss: 0.3025 - accuracy: 0.8955 - val_loss: 4.9139 - val_accuracy: 0.3027\n",
      "Epoch 45/100\n",
      "50000/50000 [==============================] - 7s 149us/step - loss: 0.2564 - accuracy: 0.9113 - val_loss: 4.9547 - val_accuracy: 0.2926\n",
      "Epoch 46/100\n",
      "50000/50000 [==============================] - 9s 183us/step - loss: 0.3235 - accuracy: 0.8882 - val_loss: 4.9934 - val_accuracy: 0.3059\n",
      "Epoch 47/100\n",
      "50000/50000 [==============================] - 6s 112us/step - loss: 0.2902 - accuracy: 0.8998 - val_loss: 4.9758 - val_accuracy: 0.3033\n",
      "Epoch 48/100\n",
      "50000/50000 [==============================] - 5s 97us/step - loss: 0.2131 - accuracy: 0.9262 - val_loss: 5.2919 - val_accuracy: 0.3005\n",
      "Epoch 49/100\n",
      "50000/50000 [==============================] - 5s 92us/step - loss: 0.2223 - accuracy: 0.9234 - val_loss: 5.2425 - val_accuracy: 0.2965\n",
      "Epoch 50/100\n",
      "50000/50000 [==============================] - 5s 98us/step - loss: 0.2137 - accuracy: 0.9276 - val_loss: 5.8237 - val_accuracy: 0.3042\n",
      "Epoch 51/100\n",
      "50000/50000 [==============================] - 7s 149us/step - loss: 0.2001 - accuracy: 0.9309 - val_loss: 5.5499 - val_accuracy: 0.2973\n",
      "Epoch 52/100\n",
      "50000/50000 [==============================] - 7s 149us/step - loss: 0.2451 - accuracy: 0.9154 - val_loss: 5.4460 - val_accuracy: 0.3078\n",
      "Epoch 53/100\n",
      "50000/50000 [==============================] - 5s 101us/step - loss: 0.1731 - accuracy: 0.9433 - val_loss: 5.7258 - val_accuracy: 0.2995\n",
      "Epoch 54/100\n",
      "50000/50000 [==============================] - 5s 97us/step - loss: 0.2329 - accuracy: 0.9196 - val_loss: 5.4941 - val_accuracy: 0.3069\n",
      "Epoch 55/100\n"
     ]
    },
    {
     "name": "stdout",
     "output_type": "stream",
     "text": [
      "50000/50000 [==============================] - 5s 96us/step - loss: 0.1627 - accuracy: 0.9441 - val_loss: 5.8489 - val_accuracy: 0.3090\n",
      "Epoch 56/100\n",
      "50000/50000 [==============================] - 5s 106us/step - loss: 0.1951 - accuracy: 0.9339 - val_loss: 5.9433 - val_accuracy: 0.3032\n",
      "Epoch 57/100\n",
      "50000/50000 [==============================] - 6s 126us/step - loss: 0.1500 - accuracy: 0.9503 - val_loss: 5.8935 - val_accuracy: 0.2942\n",
      "Epoch 58/100\n",
      "50000/50000 [==============================] - 7s 134us/step - loss: 0.2090 - accuracy: 0.9284 - val_loss: 5.9482 - val_accuracy: 0.2970\n",
      "Epoch 59/100\n",
      "50000/50000 [==============================] - 6s 114us/step - loss: 0.1394 - accuracy: 0.9534 - val_loss: 6.1485 - val_accuracy: 0.2994\n",
      "Epoch 60/100\n",
      "50000/50000 [==============================] - 6s 111us/step - loss: 0.1975 - accuracy: 0.9316 - val_loss: 5.8889 - val_accuracy: 0.2972\n",
      "Epoch 61/100\n",
      "50000/50000 [==============================] - 6s 125us/step - loss: 0.1638 - accuracy: 0.9448 - val_loss: 6.3590 - val_accuracy: 0.3007\n",
      "Epoch 62/100\n",
      "50000/50000 [==============================] - 7s 132us/step - loss: 0.1515 - accuracy: 0.9476 - val_loss: 6.3492 - val_accuracy: 0.2919\n",
      "Epoch 63/100\n",
      "50000/50000 [==============================] - 8s 151us/step - loss: 0.1462 - accuracy: 0.9517 - val_loss: 6.6588 - val_accuracy: 0.3048\n",
      "Epoch 64/100\n",
      "50000/50000 [==============================] - 7s 130us/step - loss: 0.1700 - accuracy: 0.9431 - val_loss: 6.4034 - val_accuracy: 0.2967\n",
      "Epoch 65/100\n",
      "50000/50000 [==============================] - 6s 122us/step - loss: 0.1525 - accuracy: 0.9481 - val_loss: 6.5686 - val_accuracy: 0.3005\n",
      "Epoch 66/100\n",
      "50000/50000 [==============================] - 5s 109us/step - loss: 0.1514 - accuracy: 0.9480 - val_loss: 6.1891 - val_accuracy: 0.2945\n",
      "Epoch 67/100\n",
      "50000/50000 [==============================] - 6s 119us/step - loss: 0.1663 - accuracy: 0.9438 - val_loss: 6.2701 - val_accuracy: 0.2959\n",
      "Epoch 68/100\n",
      "50000/50000 [==============================] - 6s 115us/step - loss: 0.1328 - accuracy: 0.9551 - val_loss: 6.5098 - val_accuracy: 0.2983\n",
      "Epoch 69/100\n",
      "50000/50000 [==============================] - 9s 172us/step - loss: 0.1282 - accuracy: 0.9561 - val_loss: 6.6349 - val_accuracy: 0.3042\n",
      "Epoch 70/100\n",
      "50000/50000 [==============================] - 9s 175us/step - loss: 0.1792 - accuracy: 0.9396 - val_loss: 5.9328 - val_accuracy: 0.3010\n",
      "Epoch 71/100\n",
      "50000/50000 [==============================] - 6s 123us/step - loss: 0.1286 - accuracy: 0.9563 - val_loss: 6.5076 - val_accuracy: 0.3075\n",
      "Epoch 72/100\n",
      "50000/50000 [==============================] - 9s 178us/step - loss: 0.0922 - accuracy: 0.9691 - val_loss: 6.8081 - val_accuracy: 0.30680s\n",
      "Epoch 73/100\n",
      "50000/50000 [==============================] - 7s 147us/step - loss: 0.1717 - accuracy: 0.9422 - val_loss: 6.4799 - val_accuracy: 0.3015\n",
      "Epoch 74/100\n",
      "50000/50000 [==============================] - 6s 114us/step - loss: 0.0968 - accuracy: 0.9672 - val_loss: 6.8087 - val_accuracy: 0.3032\n",
      "Epoch 75/100\n",
      "50000/50000 [==============================] - 7s 136us/step - loss: 0.1075 - accuracy: 0.9630 - val_loss: 6.5261 - val_accuracy: 0.3044\n",
      "Epoch 76/100\n",
      "50000/50000 [==============================] - 6s 125us/step - loss: 0.1865 - accuracy: 0.9375 - val_loss: 6.2182 - val_accuracy: 0.3017\n",
      "Epoch 77/100\n",
      "50000/50000 [==============================] - 7s 136us/step - loss: 0.0536 - accuracy: 0.9836 - val_loss: 6.9712 - val_accuracy: 0.3031\n",
      "Epoch 78/100\n",
      "50000/50000 [==============================] - 7s 139us/step - loss: 0.1634 - accuracy: 0.9463 - val_loss: 6.4550 - val_accuracy: 0.2945\n",
      "Epoch 79/100\n",
      "50000/50000 [==============================] - 7s 145us/step - loss: 0.1148 - accuracy: 0.9609 - val_loss: 6.5656 - val_accuracy: 0.2985\n",
      "Epoch 80/100\n",
      "50000/50000 [==============================] - 7s 136us/step - loss: 0.1204 - accuracy: 0.9591 - val_loss: 6.7900 - val_accuracy: 0.2997\n",
      "Epoch 81/100\n",
      "50000/50000 [==============================] - 5s 106us/step - loss: 0.0968 - accuracy: 0.9665 - val_loss: 6.9141 - val_accuracy: 0.2911\n",
      "Epoch 82/100\n",
      "50000/50000 [==============================] - 5s 104us/step - loss: 0.1860 - accuracy: 0.9363 - val_loss: 6.1310 - val_accuracy: 0.2972\n",
      "Epoch 83/100\n",
      "50000/50000 [==============================] - 5s 96us/step - loss: 0.1074 - accuracy: 0.9645 - val_loss: 6.8419 - val_accuracy: 0.3019\n",
      "Epoch 84/100\n",
      "50000/50000 [==============================] - 5s 93us/step - loss: 0.1351 - accuracy: 0.9540 - val_loss: 6.4269 - val_accuracy: 0.3072\n",
      "Epoch 85/100\n",
      "50000/50000 [==============================] - 5s 97us/step - loss: 0.0734 - accuracy: 0.9763 - val_loss: 7.0313 - val_accuracy: 0.2979\n",
      "Epoch 86/100\n",
      "50000/50000 [==============================] - 5s 96us/step - loss: 0.1380 - accuracy: 0.9526 - val_loss: 6.5267 - val_accuracy: 0.3078\n",
      "Epoch 87/100\n",
      "50000/50000 [==============================] - 5s 100us/step - loss: 0.0987 - accuracy: 0.9672 - val_loss: 6.8090 - val_accuracy: 0.3065\n",
      "Epoch 88/100\n",
      "50000/50000 [==============================] - 6s 124us/step - loss: 0.1254 - accuracy: 0.9579 - val_loss: 6.5165 - val_accuracy: 0.3029\n",
      "Epoch 89/100\n",
      "50000/50000 [==============================] - 7s 148us/step - loss: 0.0988 - accuracy: 0.9681 - val_loss: 6.8846 - val_accuracy: 0.3118\n",
      "Epoch 90/100\n",
      "50000/50000 [==============================] - 7s 143us/step - loss: 0.0656 - accuracy: 0.9778 - val_loss: 6.9311 - val_accuracy: 0.2923\n",
      "Epoch 91/100\n",
      "50000/50000 [==============================] - 7s 134us/step - loss: 0.1707 - accuracy: 0.9440 - val_loss: 6.2964 - val_accuracy: 0.3027\n",
      "Epoch 92/100\n",
      "50000/50000 [==============================] - 7s 136us/step - loss: 0.0956 - accuracy: 0.9690 - val_loss: 6.8408 - val_accuracy: 0.3018\n",
      "Epoch 93/100\n",
      "50000/50000 [==============================] - 6s 122us/step - loss: 0.1167 - accuracy: 0.9598 - val_loss: 6.6751 - val_accuracy: 0.2984\n",
      "Epoch 94/100\n",
      "50000/50000 [==============================] - 5s 98us/step - loss: 0.0756 - accuracy: 0.9753 - val_loss: 6.9323 - val_accuracy: 0.2982\n",
      "Epoch 95/100\n",
      "50000/50000 [==============================] - 5s 92us/step - loss: 0.1071 - accuracy: 0.9647 - val_loss: 6.6975 - val_accuracy: 0.3016\n",
      "Epoch 96/100\n",
      "50000/50000 [==============================] - 5s 90us/step - loss: 0.1051 - accuracy: 0.9645 - val_loss: 7.1863 - val_accuracy: 0.3010\n",
      "Epoch 97/100\n",
      "50000/50000 [==============================] - 5s 96us/step - loss: 0.1016 - accuracy: 0.9664 - val_loss: 6.7639 - val_accuracy: 0.3037\n",
      "Epoch 98/100\n",
      "50000/50000 [==============================] - 5s 105us/step - loss: 0.0717 - accuracy: 0.9768 - val_loss: 6.8613 - val_accuracy: 0.2938\n",
      "Epoch 99/100\n",
      "50000/50000 [==============================] - 6s 120us/step - loss: 0.1336 - accuracy: 0.9549 - val_loss: 6.6863 - val_accuracy: 0.3051\n",
      "Epoch 100/100\n",
      "50000/50000 [==============================] - 8s 167us/step - loss: 0.0555 - accuracy: 0.9819 - val_loss: 7.3320 - val_accuracy: 0.3071\n"
     ]
    },
    {
     "data": {
      "text/plain": [
       "<keras.callbacks.callbacks.History at 0x1b9157d5548>"
      ]
     },
     "execution_count": 9,
     "metadata": {},
     "output_type": "execute_result"
    }
   ],
   "source": [
    "model.fit(x_train, y_train, \n",
    "          epochs=EPOCHS, \n",
    "          batch_size=BATCH_SIZE, \n",
    "          validation_data=(x_test, y_test), \n",
    "          shuffle=True)"
   ]
  },
  {
   "cell_type": "code",
   "execution_count": 10,
   "metadata": {},
   "outputs": [
    {
     "data": {
      "image/png": "[encoded data removed]",
      "text/plain": [
       "<Figure size 432x288 with 1 Axes>"
      ]
     },
     "metadata": {
      "needs_background": "light"
     },
     "output_type": "display_data"
    },
    {
     "data": {
      "image/png": "[encoded data removed]",
      "text/plain": [
       "<Figure size 432x288 with 1 Axes>"
      ]
     },
     "metadata": {
      "needs_background": "light"
     },
     "output_type": "display_data"
    }
   ],
   "source": [
    "import matplotlib.pyplot as plt\n",
    "\n",
    "\n",
    "train_loss = model.history.history[\"loss\"]\n",
    "valid_loss = model.history.history[\"val_loss\"]\n",
    "\n",
    "train_acc = model.history.history[\"accuracy\"]\n",
    "valid_acc = model.history.history[\"val_accuracy\"]\n",
    "\n",
    "plt.plot(range(len(train_loss)), train_loss, label=\"train loss\")\n",
    "plt.plot(range(len(valid_loss)), valid_loss, label=\"valid loss\")\n",
    "plt.legend()\n",
    "plt.title(\"Loss\")\n",
    "plt.show()\n",
    "\n",
    "plt.plot(range(len(train_acc)), train_acc, label=\"train accuracy\")\n",
    "plt.plot(range(len(valid_acc)), valid_acc, label=\"valid accuracy\")\n",
    "plt.legend()\n",
    "plt.title(\"Accuracy\")\n",
    "plt.show()"
   ]
  }
 ],
 "metadata": {
  "kernelspec": {
   "display_name": "Python 3",
   "language": "python",
   "name": "python3"
  },
  "language_info": {
   "codemirror_mode": {
    "name": "ipython",
    "version": 3
   },
   "file_extension": ".py",
   "mimetype": "text/x-python",
   "name": "python",
   "nbconvert_exporter": "python",
   "pygments_lexer": "ipython3",
   "version": "3.7.7"
  }
 },
 "nbformat": 4,
 "nbformat_minor": 2
}
