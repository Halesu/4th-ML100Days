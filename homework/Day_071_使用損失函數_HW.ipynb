{
 "cells": [
  {
   "cell_type": "markdown",
   "metadata": {
    "colab_type": "text",
    "id": "cj4tE8e8iUtO"
   },
   "source": [
    "#   \n",
    "\n",
    "# 作業目標:\n",
    "\n",
    "    1. 藉由固定的 dataset, 來驗證不同loss function\n",
    "    2. Dataset 的特性跟我們選用的loss function 對accrancy 的影響\n",
    "    \n",
    "    \n",
    "# 作業重點: \n",
    "    請分別選用 \"MSE\", \"binary _crossentropy\"\n",
    "    查看Train/test accurancy and loss rate\n",
    "    "
   ]
  },
  {
   "cell_type": "markdown",
   "metadata": {
    "colab_type": "text",
    "id": "R51J4KyyiUsL"
   },
   "source": [
    "# 導入必要的函數"
   ]
  },
  {
   "cell_type": "code",
   "execution_count": 1,
   "metadata": {},
   "outputs": [],
   "source": [
    "import tensorflow as tf\n",
    "physical_devices = tf.config.list_physical_devices('GPU')\n",
    "tf.config.experimental.set_memory_growth(physical_devices[0], True)"
   ]
  },
  {
   "cell_type": "code",
   "execution_count": 2,
   "metadata": {
    "colab": {},
    "colab_type": "code",
    "id": "Qd68OQjciUsM"
   },
   "outputs": [
    {
     "name": "stderr",
     "output_type": "stream",
     "text": [
      "Using TensorFlow backend.\n"
     ]
    }
   ],
   "source": [
    "from keras.datasets import cifar10\n",
    "import numpy as np\n",
    "np.random.seed(10)"
   ]
  },
  {
   "cell_type": "markdown",
   "metadata": {
    "colab_type": "text",
    "id": "GxKuzQLQiUsP"
   },
   "source": [
    "# 資料準備"
   ]
  },
  {
   "cell_type": "code",
   "execution_count": 3,
   "metadata": {
    "colab": {},
    "colab_type": "code",
    "id": "MIbFZdTCiUsQ"
   },
   "outputs": [],
   "source": [
    "#取得Keras Dataset\n",
    "(x_img_train,y_label_train),(x_img_test,y_label_test)=cifar10.load_data()"
   ]
  },
  {
   "cell_type": "code",
   "execution_count": 4,
   "metadata": {
    "colab": {},
    "colab_type": "code",
    "id": "J8CJVjNOiUsS"
   },
   "outputs": [
    {
     "name": "stdout",
     "output_type": "stream",
     "text": [
      "train data: images: (50000, 32, 32, 3)  labels: (50000, 1)\n",
      "test  data: images: (10000, 32, 32, 3)  labels: (10000, 1)\n"
     ]
    }
   ],
   "source": [
    "#確認 CIFAR10 Dataset 資料維度\n",
    "print(\"train data:\",'images:',x_img_train.shape,\n",
    "      \" labels:\",y_label_train.shape) \n",
    "print(\"test  data:\",'images:',x_img_test.shape ,\n",
    "      \" labels:\",y_label_test.shape) "
   ]
  },
  {
   "cell_type": "code",
   "execution_count": 5,
   "metadata": {
    "colab": {},
    "colab_type": "code",
    "id": "V3P6P4DXiUsV"
   },
   "outputs": [],
   "source": [
    "#資料正規化\n",
    "x_img_train_normalize = x_img_train.astype('float32') / 255.0\n",
    "x_img_test_normalize = x_img_test.astype('float32') / 255.0"
   ]
  },
  {
   "cell_type": "code",
   "execution_count": 6,
   "metadata": {
    "colab": {},
    "colab_type": "code",
    "id": "vsDyjKYliUsX"
   },
   "outputs": [
    {
     "data": {
      "text/plain": [
       "(10000, 10)"
      ]
     },
     "execution_count": 6,
     "metadata": {},
     "output_type": "execute_result"
    }
   ],
   "source": [
    "#針對Label 做 ONE HOT ENCODE\n",
    "from keras.utils import np_utils\n",
    "y_label_train_OneHot = np_utils.to_categorical(y_label_train)\n",
    "y_label_test_OneHot = np_utils.to_categorical(y_label_test)\n",
    "y_label_test_OneHot.shape"
   ]
  },
  {
   "cell_type": "markdown",
   "metadata": {
    "colab_type": "text",
    "id": "RutW2OtgiUsZ"
   },
   "source": [
    "# 建立模型"
   ]
  },
  {
   "cell_type": "code",
   "execution_count": 7,
   "metadata": {
    "colab": {},
    "colab_type": "code",
    "id": "aHz592aXiUsa"
   },
   "outputs": [],
   "source": [
    "from keras.models import Sequential\n",
    "from keras.layers import Dense, Dropout, Activation, Flatten\n",
    "from keras.layers import Conv2D, MaxPooling2D, ZeroPadding2D"
   ]
  },
  {
   "cell_type": "code",
   "execution_count": 8,
   "metadata": {
    "colab": {},
    "colab_type": "code",
    "id": "hslqrIp0iUse"
   },
   "outputs": [
    {
     "name": "stdout",
     "output_type": "stream",
     "text": [
      "Model: \"sequential_1\"\n",
      "_________________________________________________________________\n",
      "Layer (type)                 Output Shape              Param #   \n",
      "=================================================================\n",
      "conv2d_1 (Conv2D)            (None, 32, 32, 32)        896       \n",
      "_________________________________________________________________\n",
      "dropout_1 (Dropout)          (None, 32, 32, 32)        0         \n",
      "_________________________________________________________________\n",
      "max_pooling2d_1 (MaxPooling2 (None, 16, 16, 32)        0         \n",
      "_________________________________________________________________\n",
      "conv2d_2 (Conv2D)            (None, 16, 16, 64)        18496     \n",
      "_________________________________________________________________\n",
      "dropout_2 (Dropout)          (None, 16, 16, 64)        0         \n",
      "_________________________________________________________________\n",
      "max_pooling2d_2 (MaxPooling2 (None, 8, 8, 64)          0         \n",
      "_________________________________________________________________\n",
      "flatten_1 (Flatten)          (None, 4096)              0         \n",
      "_________________________________________________________________\n",
      "dropout_3 (Dropout)          (None, 4096)              0         \n",
      "_________________________________________________________________\n",
      "dense_1 (Dense)              (None, 1024)              4195328   \n",
      "_________________________________________________________________\n",
      "dropout_4 (Dropout)          (None, 1024)              0         \n",
      "_________________________________________________________________\n",
      "dense_2 (Dense)              (None, 10)                10250     \n",
      "=================================================================\n",
      "Total params: 4,224,970\n",
      "Trainable params: 4,224,970\n",
      "Non-trainable params: 0\n",
      "_________________________________________________________________\n",
      "None\n"
     ]
    }
   ],
   "source": [
    "model1 = Sequential()\n",
    "\n",
    "#卷積層1\n",
    "model1.add(Conv2D(filters=32,kernel_size=(3,3),\n",
    "                 input_shape=(32, 32,3), \n",
    "                 activation='relu', \n",
    "                 padding='same'))\n",
    "model1.add(Dropout(rate=0.25))\n",
    "model1.add(MaxPooling2D(pool_size=(2, 2)))\n",
    "\n",
    "#卷積層2與池化層2\n",
    "model1.add(Conv2D(filters=64, kernel_size=(3, 3), \n",
    "                 activation='relu', padding='same'))\n",
    "model1.add(Dropout(0.25))\n",
    "model1.add(MaxPooling2D(pool_size=(2, 2)))\n",
    "\n",
    "#建立神經網路(平坦層、隱藏層、輸出層)\n",
    "model1.add(Flatten())\n",
    "model1.add(Dropout(rate=0.25))\n",
    "model1.add(Dense(1024, activation='relu'))\n",
    "model1.add(Dropout(rate=0.25))\n",
    "model1.add(Dense(10, activation='softmax'))\n",
    "\n",
    "#檢查model 的STACK\n",
    "print(model1.summary())"
   ]
  },
  {
   "cell_type": "markdown",
   "metadata": {
    "colab_type": "text",
    "id": "QJCtpJM0iUtJ"
   },
   "source": [
    "# 載入之前訓練的模型"
   ]
  },
  {
   "cell_type": "code",
   "execution_count": 9,
   "metadata": {
    "colab": {},
    "colab_type": "code",
    "id": "JU3A6NzQiUtK"
   },
   "outputs": [
    {
     "name": "stdout",
     "output_type": "stream",
     "text": [
      "載入模型失敗!開始訓練一個新模型\n"
     ]
    }
   ],
   "source": [
    "try:\n",
    "    model1.load_weights(\"SaveModel/cifarCnnModel.h5\")\n",
    "    print(\"載入模型成功!繼續訓練模型\")\n",
    "except :    \n",
    "    print(\"載入模型失敗!開始訓練一個新模型\")"
   ]
  },
  {
   "cell_type": "markdown",
   "metadata": {
    "colab_type": "text",
    "id": "qBbCuziziUtM"
   },
   "source": [
    "# 訓練模型"
   ]
  },
  {
   "cell_type": "code",
   "execution_count": 10,
   "metadata": {
    "colab": {},
    "colab_type": "code",
    "id": "Q6BiBcseiUtP"
   },
   "outputs": [
    {
     "data": {
      "text/plain": [
       "'\\n作業:\\n請分別選用 \"MSE\", \"binary_crossentropy\"\\n查看Train/test accurancy and loss rate\\n'"
      ]
     },
     "execution_count": 10,
     "metadata": {},
     "output_type": "execute_result"
    }
   ],
   "source": [
    "import keras\n",
    "model2= keras.models.clone_model(model1)\n",
    "model3= keras.models.clone_model(model1)\n",
    "\n",
    "model1.compile(loss='categorical_crossentropy', optimizer='sgd', metrics=['accuracy'])\n",
    "model2.compile(loss='MSE', optimizer='sgd', metrics=['accuracy'])\n",
    "model3.compile(loss='binary_crossentropy', optimizer='sgd', metrics=['accuracy'])\n",
    "\n",
    "'''\n",
    "作業:\n",
    "請分別選用 \"MSE\", \"binary_crossentropy\"\n",
    "查看Train/test accurancy and loss rate\n",
    "'''"
   ]
  },
  {
   "cell_type": "code",
   "execution_count": 49,
   "metadata": {},
   "outputs": [],
   "source": [
    "import matplotlib.pyplot as plt\n",
    "%matplotlib inline\n",
    "\n",
    "#定義一個繪圖函數\n",
    "def show_train_history(history, para1, para2, para3=None, para4=None):\n",
    "    if para3 == None or para4 == None:\n",
    "        plt.figure(figsize=(6,4))\n",
    "    else:\n",
    "        plt.figure(figsize=(10,4))\n",
    "        plt.subplot(121)\n",
    "    plt.plot(history.history[para1])\n",
    "    plt.plot(history.history[para2])\n",
    "    plt.title('Train History')\n",
    "    plt.ylabel(para1)\n",
    "    plt.xlabel('Epoch')\n",
    "    plt.legend([para1, para2], loc='upper left')\n",
    "    if para3 == None or para4 == None:\n",
    "        plt.show()\n",
    "    else:\n",
    "        plt.subplot(122)\n",
    "        plt.plot(history.history[para3])\n",
    "        plt.plot(history.history[para4])\n",
    "        plt.title('Train History')\n",
    "        plt.ylabel(para3)\n",
    "        plt.xlabel('Epoch')\n",
    "        plt.legend([para3, para4], loc='upper left')\n",
    "        plt.subplots_adjust(wspace =0.3, hspace =0)\n",
    "        plt.show()"
   ]
  },
  {
   "cell_type": "code",
   "execution_count": 13,
   "metadata": {
    "colab": {},
    "colab_type": "code",
    "id": "4-GdDgmQiUtS"
   },
   "outputs": [
    {
     "name": "stdout",
     "output_type": "stream",
     "text": [
      "Train on 37500 samples, validate on 12500 samples\n",
      "Epoch 1/12\n",
      "37500/37500 [==============================] - 13s 336us/step - loss: 1.3192 - accuracy: 0.5299 - val_loss: 1.4010 - val_accuracy: 0.5456\n",
      "Epoch 2/12\n",
      "37500/37500 [==============================] - 13s 336us/step - loss: 1.2973 - accuracy: 0.5370 - val_loss: 1.3877 - val_accuracy: 0.5458\n",
      "Epoch 3/12\n",
      "37500/37500 [==============================] - 13s 341us/step - loss: 1.2779 - accuracy: 0.5443 - val_loss: 1.3335 - val_accuracy: 0.5600\n",
      "Epoch 4/12\n",
      "37500/37500 [==============================] - 13s 350us/step - loss: 1.2645 - accuracy: 0.5506 - val_loss: 1.3120 - val_accuracy: 0.5737\n",
      "Epoch 5/12\n",
      "37500/37500 [==============================] - 13s 355us/step - loss: 1.2384 - accuracy: 0.5588 - val_loss: 1.3027 - val_accuracy: 0.5714\n",
      "Epoch 6/12\n",
      "37500/37500 [==============================] - 14s 367us/step - loss: 1.2220 - accuracy: 0.5636 - val_loss: 1.2817 - val_accuracy: 0.5813\n",
      "Epoch 7/12\n",
      "37500/37500 [==============================] - 14s 379us/step - loss: 1.2083 - accuracy: 0.5694 - val_loss: 1.2717 - val_accuracy: 0.5801\n",
      "Epoch 8/12\n",
      "37500/37500 [==============================] - 14s 373us/step - loss: 1.1925 - accuracy: 0.5778 - val_loss: 1.2704 - val_accuracy: 0.5858\n",
      "Epoch 9/12\n",
      "37500/37500 [==============================] - 15s 407us/step - loss: 1.1766 - accuracy: 0.5829 - val_loss: 1.2342 - val_accuracy: 0.6042\n",
      "Epoch 10/12\n",
      "37500/37500 [==============================] - 15s 400us/step - loss: 1.1669 - accuracy: 0.5845 - val_loss: 1.2595 - val_accuracy: 0.5955\n",
      "Epoch 11/12\n",
      "37500/37500 [==============================] - 15s 400us/step - loss: 1.1543 - accuracy: 0.5912 - val_loss: 1.2217 - val_accuracy: 0.6136\n",
      "Epoch 12/12\n",
      "37500/37500 [==============================] - 15s 395us/step - loss: 1.1354 - accuracy: 0.5972 - val_loss: 1.2174 - val_accuracy: 0.6070\n",
      "10000/10000 [==============================] - 1s 144us/step\n",
      "Train on 37500 samples, validate on 12500 samples\n",
      "Epoch 1/12\n",
      "37500/37500 [==============================] - 15s 399us/step - loss: 0.0903 - accuracy: 0.1059 - val_loss: 0.0899 - val_accuracy: 0.1270\n",
      "Epoch 2/12\n",
      "37500/37500 [==============================] - 15s 390us/step - loss: 0.0901 - accuracy: 0.1098 - val_loss: 0.0898 - val_accuracy: 0.1357\n",
      "Epoch 3/12\n",
      "37500/37500 [==============================] - 15s 388us/step - loss: 0.0900 - accuracy: 0.1165 - val_loss: 0.0897 - val_accuracy: 0.1450\n",
      "Epoch 4/12\n",
      "37500/37500 [==============================] - 15s 391us/step - loss: 0.0898 - accuracy: 0.1254 - val_loss: 0.0897 - val_accuracy: 0.1533\n",
      "Epoch 5/12\n",
      "37500/37500 [==============================] - 15s 388us/step - loss: 0.0897 - accuracy: 0.1325 - val_loss: 0.0896 - val_accuracy: 0.1630\n",
      "Epoch 6/12\n",
      "37500/37500 [==============================] - 15s 389us/step - loss: 0.0896 - accuracy: 0.1395 - val_loss: 0.0895 - val_accuracy: 0.1718\n",
      "Epoch 7/12\n",
      "37500/37500 [==============================] - 15s 390us/step - loss: 0.0895 - accuracy: 0.1427 - val_loss: 0.0894 - val_accuracy: 0.1781\n",
      "Epoch 8/12\n",
      "37500/37500 [==============================] - 15s 393us/step - loss: 0.0893 - accuracy: 0.1509 - val_loss: 0.0893 - val_accuracy: 0.1871\n",
      "Epoch 9/12\n",
      "37500/37500 [==============================] - 15s 389us/step - loss: 0.0892 - accuracy: 0.1567 - val_loss: 0.0893 - val_accuracy: 0.1970\n",
      "Epoch 10/12\n",
      "37500/37500 [==============================] - 15s 397us/step - loss: 0.0890 - accuracy: 0.1630 - val_loss: 0.0892 - val_accuracy: 0.1998\n",
      "Epoch 11/12\n",
      "37500/37500 [==============================] - 15s 390us/step - loss: 0.0889 - accuracy: 0.1630 - val_loss: 0.0891 - val_accuracy: 0.2072\n",
      "Epoch 12/12\n",
      "37500/37500 [==============================] - 15s 412us/step - loss: 0.0888 - accuracy: 0.1694 - val_loss: 0.0889 - val_accuracy: 0.2129\n",
      "10000/10000 [==============================] - 1s 141us/step\n",
      "Train on 37500 samples, validate on 12500 samples\n",
      "Epoch 1/12\n",
      "37500/37500 [==============================] - 23s 610us/step - loss: 0.3260 - accuracy: 0.9000 - val_loss: 0.3222 - val_accuracy: 0.9000\n",
      "Epoch 2/12\n",
      "37500/37500 [==============================] - 18s 474us/step - loss: 0.3206 - accuracy: 0.9000 - val_loss: 0.3195 - val_accuracy: 0.9000\n",
      "Epoch 3/12\n",
      "37500/37500 [==============================] - 15s 401us/step - loss: 0.3162 - accuracy: 0.9000 - val_loss: 0.3159 - val_accuracy: 0.9000\n",
      "Epoch 4/12\n",
      "37500/37500 [==============================] - 16s 414us/step - loss: 0.3107 - accuracy: 0.9000 - val_loss: 0.3112 - val_accuracy: 0.9000\n",
      "Epoch 5/12\n",
      "37500/37500 [==============================] - 15s 406us/step - loss: 0.3049 - accuracy: 0.9000 - val_loss: 0.3062 - val_accuracy: 0.9000\n",
      "Epoch 6/12\n",
      "37500/37500 [==============================] - 15s 408us/step - loss: 0.2990 - accuracy: 0.9001 - val_loss: 0.3016 - val_accuracy: 0.9000\n",
      "Epoch 7/12\n",
      "37500/37500 [==============================] - 15s 395us/step - loss: 0.2949 - accuracy: 0.9002 - val_loss: 0.2980 - val_accuracy: 0.9000\n",
      "Epoch 8/12\n",
      "37500/37500 [==============================] - 15s 397us/step - loss: 0.2917 - accuracy: 0.9003 - val_loss: 0.2952 - val_accuracy: 0.9000\n",
      "Epoch 9/12\n",
      "37500/37500 [==============================] - 15s 398us/step - loss: 0.2887 - accuracy: 0.9005 - val_loss: 0.2929 - val_accuracy: 0.9000\n",
      "Epoch 10/12\n",
      "37500/37500 [==============================] - 16s 436us/step - loss: 0.2867 - accuracy: 0.9006 - val_loss: 0.2912 - val_accuracy: 0.9000\n",
      "Epoch 11/12\n",
      "37500/37500 [==============================] - 15s 396us/step - loss: 0.2847 - accuracy: 0.9007 - val_loss: 0.2892 - val_accuracy: 0.9001\n",
      "Epoch 12/12\n",
      "37500/37500 [==============================] - 15s 397us/step - loss: 0.2828 - accuracy: 0.9008 - val_loss: 0.2874 - val_accuracy: 0.9001\n",
      "10000/10000 [==============================] - 1s 128us/step\n"
     ]
    }
   ],
   "source": [
    "#模型訓練, \"Train_History\" 把訓練過程所得到的數值存起來\n",
    "train_history = [None]*3\n",
    "test_history = [None]*3\n",
    "\n",
    "for i, model in enumerate([model1, model2, model3]):\n",
    "    train_history[i] = model.fit(x_img_train_normalize, y_label_train_OneHot,\n",
    "                        validation_split=0.25,\n",
    "                        epochs=12, batch_size=128, verbose=1)     \n",
    "    test_history[i] = model.evaluate(x_img_test_normalize, y_label_test_OneHot, batch_size=128, verbose=1, sample_weight=None)\n",
    "    "
   ]
  },
  {
   "cell_type": "code",
   "execution_count": 50,
   "metadata": {},
   "outputs": [
    {
     "name": "stdout",
     "output_type": "stream",
     "text": [
      "Loss function : categorical_crossentropy\n"
     ]
    },
    {
     "data": {
      "image/png": "[encoded data removed]",
      "text/plain": [
       "<Figure size 720x288 with 2 Axes>"
      ]
     },
     "metadata": {
      "needs_background": "light"
     },
     "output_type": "display_data"
    },
    {
     "name": "stdout",
     "output_type": "stream",
     "text": [
      "Test loss : 1.2076721593856812\n",
      "Test acc  : 0.6022999882698059\n",
      "\n",
      "\n",
      "Loss function : MSE\n"
     ]
    },
    {
     "data": {
      "image/png": "[encoded data removed]",
      "text/plain": [
       "<Figure size 720x288 with 2 Axes>"
      ]
     },
     "metadata": {
      "needs_background": "light"
     },
     "output_type": "display_data"
    },
    {
     "name": "stdout",
     "output_type": "stream",
     "text": [
      "Test loss : 0.08895017013549805\n",
      "Test acc  : 0.2150000035762787\n",
      "\n",
      "\n",
      "Loss function : binary_crossentropy\n"
     ]
    },
    {
     "data": {
      "image/png": "[encoded data removed]",
      "text/plain": [
       "<Figure size 720x288 with 2 Axes>"
      ]
     },
     "metadata": {
      "needs_background": "light"
     },
     "output_type": "display_data"
    },
    {
     "name": "stdout",
     "output_type": "stream",
     "text": [
      "Test loss : 0.28625667715072634\n",
      "Test acc  : 0.900080680847168\n",
      "\n",
      "\n"
     ]
    }
   ],
   "source": [
    "loss_f = [\"categorical_crossentropy\", \"MSE\", \"binary_crossentropy\"]\n",
    "\n",
    "for i, name in enumerate(loss_f):\n",
    "    print(f\"Loss function : {name}\")\n",
    "    show_train_history(train_history[i],'accuracy','val_accuracy','loss','val_loss')\n",
    "    #show_train_history(train_history[i],'loss','val_loss')   \n",
    "    print(f\"Test loss : {test_history[i][0]}\")\n",
    "    print(f\"Test acc  : {test_history[i][1]}\")\n",
    "    print(\"\\n\")"
   ]
  },
  {
   "cell_type": "code",
   "execution_count": null,
   "metadata": {},
   "outputs": [],
   "source": []
  }
 ],
 "metadata": {
  "colab": {
   "name": "Day71-使用損失函數_HW.ipynb",
   "provenance": [],
   "version": "0.3.2"
  },
  "kernelspec": {
   "display_name": "Python 3",
   "language": "python",
   "name": "python3"
  },
  "language_info": {
   "codemirror_mode": {
    "name": "ipython",
    "version": 3
   },
   "file_extension": ".py",
   "mimetype": "text/x-python",
   "name": "python",
   "nbconvert_exporter": "python",
   "pygments_lexer": "ipython3",
   "version": "3.7.7"
  }
 },
 "nbformat": 4,
 "nbformat_minor": 1
}
