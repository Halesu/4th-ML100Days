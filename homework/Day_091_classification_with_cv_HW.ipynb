{
 "cells": [
  {
   "cell_type": "markdown",
   "metadata": {},
   "source": [
    "## 作業目標\n",
    "* 嘗試比較用 color histogram 和 HOG 特徵來訓練的 SVM 分類器在 cifar10 training 和 testing data 上準確度的差別"
   ]
  },
  {
   "cell_type": "code",
   "execution_count": 1,
   "metadata": {},
   "outputs": [
    {
     "name": "stderr",
     "output_type": "stream",
     "text": [
      "Using TensorFlow backend.\n"
     ]
    }
   ],
   "source": [
    "import os\n",
    "import keras\n",
    "import tensorflow as tf\n",
    "# Disable GPU\n",
    "os.environ[\"CUDA_VISIBLE_DEVICES\"] = \"\"\n",
    "gpu_devices = tf.config.experimental.list_physical_devices('GPU')\n",
    "tf.config.experimental.set_memory_growth(gpu_devices[0], True)\n",
    "\n",
    "import numpy as np\n",
    "import cv2 # 載入 cv2 套件\n",
    "import matplotlib.pyplot as plt\n",
    "\n",
    "train, test = keras.datasets.cifar10.load_data()"
   ]
  },
  {
   "cell_type": "code",
   "execution_count": 2,
   "metadata": {},
   "outputs": [],
   "source": [
    "x_train, y_train = train\n",
    "x_test, y_test = test\n",
    "y_train = y_train.astype(int)\n",
    "y_test = y_test.astype(int)"
   ]
  },
  {
   "cell_type": "markdown",
   "metadata": {},
   "source": [
    "#### 產生直方圖特徵的訓練資料"
   ]
  },
  {
   "cell_type": "code",
   "execution_count": 3,
   "metadata": {},
   "outputs": [],
   "source": [
    "x_train_histogram = []\n",
    "x_test_histogram = []\n",
    "\n",
    "# 對於所有訓練資料\n",
    "for i in range(len(x_train)):\n",
    "    chans = cv2.split(x_train[i]) # 把圖像的 3 個 channel 切分出來\n",
    "    # 對於所有 channel\n",
    "    hist_feature = []\n",
    "    for chan in chans:\n",
    "        # 計算該 channel 的直方圖\n",
    "        hist = cv2.calcHist([chan], [0], None, [16], [0, 256]) # 切成 16 個 bin\n",
    "        hist_feature.extend(hist.flatten())\n",
    "    # 把計算的直方圖特徵收集起來\n",
    "    x_train_histogram.append(hist_feature)\n",
    "\n",
    "# 對於所有測試資料也做一樣的處理\n",
    "for i in range(len(x_test)):\n",
    "    chans = cv2.split(x_test[i]) # 把圖像的 3 個 channel 切分出來\n",
    "    # 對於所有 channel\n",
    "    hist_feature = []\n",
    "    for chan in chans:\n",
    "        # 計算該 channel 的直方圖\n",
    "        hist = cv2.calcHist([chan], [0], None, [16], [0, 256]) # 切成 16 個 bin\n",
    "        hist_feature.extend(hist.flatten())\n",
    "    x_test_histogram.append(hist_feature)\n",
    "\n",
    "x_train_histogram = np.array(x_train_histogram)\n",
    "x_test_histogram = np.array(x_test_histogram)\n"
   ]
  },
  {
   "cell_type": "markdown",
   "metadata": {},
   "source": [
    "#### 產生 HOG 特徵的訓練資料\n",
    "* HOG 特徵通過計算和統計圖像局部區域的梯度方向直方圖來構建特徵，具體細節不在我們涵蓋的範圍裡面，有興趣的同學請參考[補充資料](https://www.cnblogs.com/zyly/p/9651261.html)哦"
   ]
  },
  {
   "cell_type": "code",
   "execution_count": 4,
   "metadata": {},
   "outputs": [],
   "source": [
    "# SZ=20\n",
    "bin_n = 16 # Number of bins\n",
    "\n",
    "def hog(img):\n",
    "    img = cv2.cvtColor(img, cv2.COLOR_RGB2GRAY)\n",
    "    gx = cv2.Sobel(img, cv2.CV_32F, 1, 0)\n",
    "    gy = cv2.Sobel(img, cv2.CV_32F, 0, 1)\n",
    "    mag, ang = cv2.cartToPolar(gx, gy)\n",
    "    bins = np.int32(bin_n*ang/(2*np.pi))    # quantizing binvalues in (0...16)\n",
    "    bin_cells = bins[:10,:10], bins[10:,:10], bins[:10,10:], bins[10:,10:]\n",
    "    mag_cells = mag[:10,:10], mag[10:,:10], mag[:10,10:], mag[10:,10:]\n",
    "    hists = [np.bincount(b.ravel(), m.ravel(), bin_n) for b, m in zip(bin_cells, mag_cells)]\n",
    "    hist = np.hstack(hists)     # hist is a 64 bit vector\n",
    "    return hist.astype(np.float32)\n",
    "\n",
    "x_train_hog = np.array([hog(x) for x in x_train])\n",
    "x_test_hog = np.array([hog(x) for x in x_test])"
   ]
  },
  {
   "cell_type": "markdown",
   "metadata": {},
   "source": [
    "#### SVM model\n",
    "* SVM 是機器學習中一個經典的分類算法，具體細節有興趣可以參考 [該知乎上的解釋](https://www.zhihu.com/question/21094489)，我們這裡直接調用 opencv 中實現好的函數"
   ]
  },
  {
   "cell_type": "markdown",
   "metadata": {},
   "source": [
    "#### 用 histogram 特徵訓練 SVM 模型\n",
    "* 訓練過程可能會花點時間，請等他一下"
   ]
  },
  {
   "cell_type": "code",
   "execution_count": 5,
   "metadata": {},
   "outputs": [],
   "source": [
    "SVM_hist = cv2.ml.SVM_create()\n",
    "SVM_hist.setKernel(cv2.ml.SVM_LINEAR)\n",
    "SVM_hist.setGamma(5.383)\n",
    "SVM_hist.setType(cv2.ml.SVM_C_SVC)\n",
    "SVM_hist.setC(2.67)\n",
    "\n",
    "#training\n",
    "SVM_hist.train(x_train_histogram, cv2.ml.ROW_SAMPLE, y_train)\n",
    "\n",
    "# prediction\n",
    "_, y_hist_train = SVM_hist.predict(x_train_histogram)\n",
    "_, y_hist_test = SVM_hist.predict(x_test_histogram)"
   ]
  },
  {
   "cell_type": "markdown",
   "metadata": {},
   "source": [
    "#### 用 HOG 特徵訓練 SVM 模型\n",
    "* 訓練過程可能會花點時間，請等他一下"
   ]
  },
  {
   "cell_type": "code",
   "execution_count": 6,
   "metadata": {},
   "outputs": [],
   "source": [
    "SVM_hog = cv2.ml.SVM_create()\n",
    "SVM_hog.setKernel(cv2.ml.SVM_LINEAR)\n",
    "SVM_hog.setGamma(5.383)\n",
    "SVM_hog.setType(cv2.ml.SVM_C_SVC)\n",
    "SVM_hog.setC(2.67)\n",
    "\n",
    "#training\n",
    "SVM_hog.train(x_train_hog, cv2.ml.ROW_SAMPLE, y_train)\n",
    "\n",
    "# prediction\n",
    "_, y_hog_train = SVM_hog.predict(x_train_hog)\n",
    "_, y_hog_test = SVM_hog.predict(x_test_hog)"
   ]
  },
  {
   "cell_type": "code",
   "execution_count": 7,
   "metadata": {},
   "outputs": [],
   "source": [
    "acc_hist_train = (sum(y_hist_train == y_train) / len(y_hist_train))[0] * 100\n",
    "acc_hog_train = (sum(y_hog_train == y_train) / len(y_hog_train))[0] * 100\n",
    "acc_hist_test = (sum(y_hist_test == y_test) / len(y_hist_test))[0] * 100\n",
    "acc_hog_test = (sum(y_hog_test == y_test) / len(y_hog_test))[0] * 100"
   ]
  },
  {
   "cell_type": "code",
   "execution_count": 11,
   "metadata": {},
   "outputs": [
    {
     "data": {
      "image/png": "[encoded data removed]",
      "text/plain": [
       "<Figure size 432x288 with 1 Axes>"
      ]
     },
     "metadata": {
      "needs_background": "light"
     },
     "output_type": "display_data"
    }
   ],
   "source": [
    "import numpy as np\n",
    "\n",
    "labels = ['training', 'testing']\n",
    "men_means = [acc_hist_train, acc_hist_test]\n",
    "women_means = [acc_hog_train, acc_hog_test]\n",
    "\n",
    "x = np.arange(len(labels))  # the label locations\n",
    "width = 0.35  # the width of the bars\n",
    "\n",
    "fig, ax = plt.subplots()\n",
    "rects1 = ax.bar(x - width/2, men_means, width, label='histogram')\n",
    "rects2 = ax.bar(x + width/2, women_means, width, label='HOG')\n",
    "\n",
    "# Add some text for labels, title and custom x-axis tick labels, etc.\n",
    "ax.set_ylabel('accuracy %')\n",
    "ax.set_title('cifar10 with SVM')\n",
    "ax.set_ylim(0,30)\n",
    "ax.set_xticks(x)\n",
    "ax.set_xticklabels(labels)\n",
    "ax.legend()\n",
    "\n",
    "\n",
    "def autolabel(rects):\n",
    "    \"\"\"Attach a text label above each bar in *rects*, displaying its height.\"\"\"\n",
    "    for rect in rects:\n",
    "        height = rect.get_height()\n",
    "        ax.annotate('{0:.3f}'.format(height),\n",
    "                    xy=(rect.get_x() + rect.get_width() / 2, height),\n",
    "                    xytext=(0, 3),  # 3 points vertical offset\n",
    "                    textcoords=\"offset points\",\n",
    "                    ha='center', va='bottom')\n",
    "\n",
    "\n",
    "autolabel(rects1)\n",
    "autolabel(rects2)\n",
    "\n",
    "fig.tight_layout()\n",
    "\n",
    "plt.show()"
   ]
  },
  {
   "cell_type": "code",
   "execution_count": null,
   "metadata": {},
   "outputs": [],
   "source": []
  }
 ],
 "metadata": {
  "kernelspec": {
   "display_name": "Python 3",
   "language": "python",
   "name": "python3"
  },
  "language_info": {
   "codemirror_mode": {
    "name": "ipython",
    "version": 3
   },
   "file_extension": ".py",
   "mimetype": "text/x-python",
   "name": "python",
   "nbconvert_exporter": "python",
   "pygments_lexer": "ipython3",
   "version": "3.7.7"
  }
 },
 "nbformat": 4,
 "nbformat_minor": 2
}
