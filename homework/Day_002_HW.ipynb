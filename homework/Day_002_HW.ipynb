{
 "cells": [
  {
   "cell_type": "markdown",
   "metadata": {},
   "source": [
    "## [作業目標]\n",
    "了解機器學習適合應用的領域與範疇。"
   ]
  },
  {
   "cell_type": "markdown",
   "metadata": {},
   "source": [
    "## [作業重點]\n",
    "透過瞭解機器學習的運作方式，找出非常適用機器學習應用的領域及其原因"
   ]
  },
  {
   "cell_type": "markdown",
   "metadata": {},
   "source": [
    "## 作業\n",
    "請找出一個你認為機器學習可以發光發熱的領域並闡述原因? "
   ]
  },
  {
   "cell_type": "markdown",
   "metadata": {},
   "source": [
    "* 天際預報和異常氣候預警\n",
    "\n",
    ">目前的傳統的氣象預報，溫度和降雨量都不是很準確，颱風路徑、龍捲風、熱浪、地震等也沒有準確模型\n",
    ">\n",
    ">利用傳統大量的監測資料結合衛星觀測資料，利用多個時間模型進行回歸學習\n",
    ">\n",
    ">怒Train一波\n",
    ">\n",
    ">當然需要專業背景知識進行神經網路設計和損失函數評估\n",
    ">\n",
    ">至於可否於有限時間內計算出瞬息萬變的天氣\n",
    ">\n",
    ">在硬體和軟體上都是個挑戰\n",
    "\n",
    "* 智慧型號誌燈\n",
    "\n",
    ">一般紅綠燈都有尖峰離峰變換時間設定\n",
    ">\n",
    ">讓號誌燈根據交通塞賭狀況、行人密度、天氣因素、路口距離、危險路口等等資料\n",
    ">\n",
    ">自動進行微調變換時間以達全局最少壅塞\n",
    ">\n",
    ">可以減少通勤時間和汽車停等時間並減少空氣汙染\n",
    "\n"
   ]
  },
  {
   "cell_type": "code",
   "execution_count": null,
   "metadata": {},
   "outputs": [],
   "source": []
  }
 ],
 "metadata": {
  "kernelspec": {
   "display_name": "Python 3",
   "language": "python",
   "name": "python3"
  },
  "language_info": {
   "codemirror_mode": {
    "name": "ipython",
    "version": 3
   },
   "file_extension": ".py",
   "mimetype": "text/x-python",
   "name": "python",
   "nbconvert_exporter": "python",
   "pygments_lexer": "ipython3",
   "version": "3.6.7"
  }
 },
 "nbformat": 4,
 "nbformat_minor": 2
}
