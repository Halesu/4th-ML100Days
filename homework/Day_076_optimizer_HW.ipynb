{
 "cells": [
  {
   "cell_type": "markdown",
   "metadata": {},
   "source": [
    "# 作業重點:\n",
    "\n",
    "(1)以, Adam, 為例, 調整 batch_size, epoch , 觀察accurancy, loss 的變化\n",
    "\n",
    "(2)以同一模型, 分別驗證 SGD, Adam, Rmsprop 的 accurancy"
   ]
  },
  {
   "cell_type": "markdown",
   "metadata": {},
   "source": [
    "# 作業目標:\n",
    "    \n",
    "    取得各種優化器的運算結果"
   ]
  },
  {
   "cell_type": "code",
   "execution_count": 1,
   "metadata": {},
   "outputs": [
    {
     "name": "stderr",
     "output_type": "stream",
     "text": [
      "Using TensorFlow backend.\n"
     ]
    }
   ],
   "source": [
    "from __future__ import print_function\n",
    "import keras\n",
    "from keras.datasets import cifar10\n",
    "from keras.preprocessing.image import ImageDataGenerator\n",
    "from keras.models import Sequential\n",
    "from keras.layers import Dense, Dropout, Activation, Flatten\n",
    "from keras.layers import Conv2D, MaxPooling2D\n",
    "import os\n",
    "from keras import optimizers\n"
   ]
  },
  {
   "cell_type": "code",
   "execution_count": 2,
   "metadata": {},
   "outputs": [],
   "source": [
    "#Blas GEMM launch failed , 避免動態分配GPU / CPU, 出現問題\n",
    "import tensorflow as tf\n",
    "\n",
    "# presious version 1.x\n",
    "# gpu_options = tf.GPUOptions(per_process_gpu_memory_fraction=0.333)\n",
    "# sess = tf.Session(config=tf.ConfigProto(gpu_options=gpu_options))\n",
    "\n",
    "# For Tensorflow version 2.0 and 2.1\n",
    "gpu_devices = tf.config.experimental.list_physical_devices('GPU')\n",
    "tf.config.experimental.set_memory_growth(gpu_devices[0], True)\n"
   ]
  },
  {
   "cell_type": "code",
   "execution_count": 11,
   "metadata": {},
   "outputs": [],
   "source": [
    "\n",
    "'''\n",
    "   宣告並設定\n",
    "   batch_size：對總的樣本數進行分組，每組包含的樣本數量\n",
    "   epochs ：訓練次數\n",
    "   \n",
    "''' \n",
    "\n",
    "batch_size = 32\n",
    "num_classes = 10\n",
    "epochs = 20\n",
    "data_augmentation = True\n",
    "num_predictions = 20\n",
    "save_dir = os.path.join(os.getcwd(), 'saved_models')\n",
    "model_name = 'keras_cifar10_trained_model.h5'\n"
   ]
  },
  {
   "cell_type": "code",
   "execution_count": 12,
   "metadata": {},
   "outputs": [
    {
     "name": "stdout",
     "output_type": "stream",
     "text": [
      "x_train shape: (50000, 32, 32, 3)\n",
      "50000 train samples\n",
      "10000 test samples\n"
     ]
    }
   ],
   "source": [
    "\n",
    "# The data, split between train and test sets:\n",
    "(x_train, y_train), (x_test, y_test) = cifar10.load_data()\n",
    "print('x_train shape:', x_train.shape)\n",
    "print(x_train.shape[0], 'train samples')\n",
    "print(x_test.shape[0], 'test samples')\n",
    "\n",
    "# Convert class vectors to binary class matrices.\n",
    "y_train = keras.utils.to_categorical(y_train, num_classes)\n",
    "y_test = keras.utils.to_categorical(y_test, num_classes)"
   ]
  },
  {
   "cell_type": "code",
   "execution_count": 13,
   "metadata": {},
   "outputs": [],
   "source": [
    "#    第一步：選擇模型, 順序模型是多個網絡層的線性堆疊\n",
    " \n",
    "model = Sequential()\n",
    "\n",
    "#   第二步：構建網絡層\n",
    "model.add(Conv2D(32, (3, 3), padding='same',\n",
    "                 input_shape=x_train.shape[1:]))\n",
    "model.add(Activation('relu'))\n",
    "model.add(Conv2D(32, (3, 3)))\n",
    "model.add(Activation('relu'))\n",
    "model.add(MaxPooling2D(pool_size=(2, 2)))\n",
    "model.add(Dropout(0.25))\n",
    "\n",
    "model.add(Conv2D(64, (3, 3), padding='same'))\n",
    "model.add(Activation('relu'))\n",
    "model.add(Conv2D(64, (3, 3)))\n",
    "model.add(Activation('relu'))\n",
    "model.add(MaxPooling2D(pool_size=(2, 2)))\n",
    "model.add(Dropout(0.25))\n",
    "\n",
    "model.add(Flatten())\n",
    "model.add(Dense(512))\n",
    "model.add(Activation('relu'))\n",
    "model.add(Dropout(0.5))\n",
    "\n",
    "model.add(Dense( 10)) # 輸出結果是10個類別，所以維度是10   \n",
    "model.add(Activation('softmax')) # 最後一層用softmax作為激活函數"
   ]
  },
  {
   "cell_type": "code",
   "execution_count": 14,
   "metadata": {},
   "outputs": [
    {
     "name": "stdout",
     "output_type": "stream",
     "text": [
      "Total Parameters：1250858\n"
     ]
    }
   ],
   "source": [
    "# 模型建立完成後，統計參數總量\n",
    "print(\"Total Parameters：%d\" % model.count_params())"
   ]
  },
  {
   "cell_type": "code",
   "execution_count": 15,
   "metadata": {},
   "outputs": [
    {
     "name": "stdout",
     "output_type": "stream",
     "text": [
      "Model: \"sequential_2\"\n",
      "_________________________________________________________________\n",
      "Layer (type)                 Output Shape              Param #   \n",
      "=================================================================\n",
      "conv2d_5 (Conv2D)            (None, 32, 32, 32)        896       \n",
      "_________________________________________________________________\n",
      "activation_7 (Activation)    (None, 32, 32, 32)        0         \n",
      "_________________________________________________________________\n",
      "conv2d_6 (Conv2D)            (None, 30, 30, 32)        9248      \n",
      "_________________________________________________________________\n",
      "activation_8 (Activation)    (None, 30, 30, 32)        0         \n",
      "_________________________________________________________________\n",
      "max_pooling2d_3 (MaxPooling2 (None, 15, 15, 32)        0         \n",
      "_________________________________________________________________\n",
      "dropout_4 (Dropout)          (None, 15, 15, 32)        0         \n",
      "_________________________________________________________________\n",
      "conv2d_7 (Conv2D)            (None, 15, 15, 64)        18496     \n",
      "_________________________________________________________________\n",
      "activation_9 (Activation)    (None, 15, 15, 64)        0         \n",
      "_________________________________________________________________\n",
      "conv2d_8 (Conv2D)            (None, 13, 13, 64)        36928     \n",
      "_________________________________________________________________\n",
      "activation_10 (Activation)   (None, 13, 13, 64)        0         \n",
      "_________________________________________________________________\n",
      "max_pooling2d_4 (MaxPooling2 (None, 6, 6, 64)          0         \n",
      "_________________________________________________________________\n",
      "dropout_5 (Dropout)          (None, 6, 6, 64)          0         \n",
      "_________________________________________________________________\n",
      "flatten_2 (Flatten)          (None, 2304)              0         \n",
      "_________________________________________________________________\n",
      "dense_3 (Dense)              (None, 512)               1180160   \n",
      "_________________________________________________________________\n",
      "activation_11 (Activation)   (None, 512)               0         \n",
      "_________________________________________________________________\n",
      "dropout_6 (Dropout)          (None, 512)               0         \n",
      "_________________________________________________________________\n",
      "dense_4 (Dense)              (None, 10)                5130      \n",
      "_________________________________________________________________\n",
      "activation_12 (Activation)   (None, 10)                0         \n",
      "=================================================================\n",
      "Total params: 1,250,858\n",
      "Trainable params: 1,250,858\n",
      "Non-trainable params: 0\n",
      "_________________________________________________________________\n"
     ]
    }
   ],
   "source": [
    "# 輸出模型摘要資訊\n",
    "model.summary()"
   ]
  },
  {
   "cell_type": "code",
   "execution_count": 16,
   "metadata": {},
   "outputs": [],
   "source": [
    "#第三步編譯\n",
    "'''\n",
    " SGD(隨機梯度下降) - Arguments\n",
    "lr: float >= 0. Learning rate.\n",
    "momentum: float >= 0. Parameter that accelerates SGD in the relevant direction and dampens oscillations.\n",
    "decay: float >= 0. Learning rate decay over each update.\n",
    "nesterov: boolean. Whether to apply Nesterov momentum.\n",
    "'''\n",
    "\n",
    "'''\n",
    "RMSprop- Arguments\n",
    "lr: float >= 0. Learning rate.\n",
    "rho: float >= 0.\n",
    "epsilon: float >= 0. Fuzz factor. If None, defaults to K.epsilon().\n",
    "decay: float >= 0. Learning rate decay over each update.\n",
    "'''\n",
    "\n",
    "'''\n",
    "Example:\n",
    "opt = optimizers.SGD(lr=0.01, decay=1e-6, momentum=0.9, nesterov=True)\n",
    "\n",
    "'''\n",
    "model_SGD = keras.models.clone_model(model)\n",
    "opt = optimizers.SGD(lr=0.01, decay=1e-6, momentum=0.9, nesterov=True)\n",
    "model_SGD.compile(optimizer = opt, loss = 'categorical_crossentropy', metrics = ['accuracy'])\n",
    "\n",
    "model_RMS = keras.models.clone_model(model)\n",
    "opt = optimizers.RMSprop(lr=0.001)\n",
    "model_RMS.compile(optimizer = opt, loss = 'categorical_crossentropy', metrics = ['accuracy'])\n"
   ]
  },
  {
   "cell_type": "code",
   "execution_count": 17,
   "metadata": {},
   "outputs": [],
   "source": [
    "# 資料正規化\n",
    "x_train = x_train.astype('float32')\n",
    "x_test = x_test.astype('float32')\n",
    "x_train /= 255\n",
    "x_test /= 255\n"
   ]
  },
  {
   "cell_type": "code",
   "execution_count": 18,
   "metadata": {},
   "outputs": [
    {
     "name": "stdout",
     "output_type": "stream",
     "text": [
      "Using real-time data augmentation.\n",
      "\n",
      "Train on 50000 samples, validate on 10000 samples\n",
      "Epoch 1/20\n",
      "50000/50000 [==============================] - 25s 492us/step - loss: 1.7486 - accuracy: 0.3551 - val_loss: 1.4197 - val_accuracy: 0.4911\n",
      "Epoch 2/20\n",
      "50000/50000 [==============================] - 24s 485us/step - loss: 1.3650 - accuracy: 0.5072 - val_loss: 1.1682 - val_accuracy: 0.5844\n",
      "Epoch 3/20\n",
      "50000/50000 [==============================] - 26s 510us/step - loss: 1.1924 - accuracy: 0.5745 - val_loss: 1.0050 - val_accuracy: 0.6484\n",
      "Epoch 4/20\n",
      "50000/50000 [==============================] - 27s 530us/step - loss: 1.0702 - accuracy: 0.6238 - val_loss: 0.9587 - val_accuracy: 0.6621\n",
      "Epoch 5/20\n",
      "50000/50000 [==============================] - 27s 532us/step - loss: 0.9791 - accuracy: 0.6551 - val_loss: 0.8772 - val_accuracy: 0.6980\n",
      "Epoch 6/20\n",
      "50000/50000 [==============================] - 27s 534us/step - loss: 0.9055 - accuracy: 0.6815 - val_loss: 0.8309 - val_accuracy: 0.7099\n",
      "Epoch 7/20\n",
      "50000/50000 [==============================] - 27s 536us/step - loss: 0.8590 - accuracy: 0.7012 - val_loss: 0.8242 - val_accuracy: 0.7145\n",
      "Epoch 8/20\n",
      "50000/50000 [==============================] - 27s 530us/step - loss: 0.8220 - accuracy: 0.7145 - val_loss: 0.7807 - val_accuracy: 0.7331\n",
      "Epoch 9/20\n",
      "50000/50000 [==============================] - 26s 527us/step - loss: 0.7950 - accuracy: 0.7226 - val_loss: 0.7434 - val_accuracy: 0.7460\n",
      "Epoch 10/20\n",
      "50000/50000 [==============================] - 26s 528us/step - loss: 0.7652 - accuracy: 0.7324 - val_loss: 0.7299 - val_accuracy: 0.7447\n",
      "Epoch 11/20\n",
      "50000/50000 [==============================] - 27s 531us/step - loss: 0.7501 - accuracy: 0.7379 - val_loss: 0.7659 - val_accuracy: 0.7384\n",
      "Epoch 12/20\n",
      "50000/50000 [==============================] - 27s 533us/step - loss: 0.7315 - accuracy: 0.7456 - val_loss: 0.7404 - val_accuracy: 0.7490\n",
      "Epoch 13/20\n",
      "50000/50000 [==============================] - 27s 537us/step - loss: 0.7129 - accuracy: 0.7507 - val_loss: 0.7329 - val_accuracy: 0.7506\n",
      "Epoch 14/20\n",
      "50000/50000 [==============================] - 27s 544us/step - loss: 0.7052 - accuracy: 0.7557 - val_loss: 0.7223 - val_accuracy: 0.7495\n",
      "Epoch 15/20\n",
      "50000/50000 [==============================] - 33s 663us/step - loss: 0.6886 - accuracy: 0.7621 - val_loss: 0.7421 - val_accuracy: 0.7482\n",
      "Epoch 16/20\n",
      "50000/50000 [==============================] - 52s 1ms/step - loss: 0.6768 - accuracy: 0.7663 - val_loss: 0.7032 - val_accuracy: 0.7627\n",
      "Epoch 17/20\n",
      "50000/50000 [==============================] - 36s 721us/step - loss: 0.6642 - accuracy: 0.7683 - val_loss: 0.7010 - val_accuracy: 0.7639\n",
      "Epoch 18/20\n",
      "50000/50000 [==============================] - 41s 825us/step - loss: 0.6570 - accuracy: 0.7718 - val_loss: 0.7139 - val_accuracy: 0.7644\n",
      "Epoch 19/20\n",
      "50000/50000 [==============================] - 37s 745us/step - loss: 0.6524 - accuracy: 0.7735 - val_loss: 0.7646 - val_accuracy: 0.7456\n",
      "Epoch 20/20\n",
      "50000/50000 [==============================] - 36s 725us/step - loss: 0.6439 - accuracy: 0.7775 - val_loss: 0.6944 - val_accuracy: 0.7697\n",
      "Using real-time data augmentation.\n",
      "\n",
      "Train on 50000 samples, validate on 10000 samples\n",
      "Epoch 1/20\n",
      "50000/50000 [==============================] - 34s 688us/step - loss: 1.5565 - accuracy: 0.4386 - val_loss: 1.6279 - val_accuracy: 0.4745\n",
      "Epoch 2/20\n",
      "50000/50000 [==============================] - 47s 931us/step - loss: 1.1494 - accuracy: 0.5974 - val_loss: 1.0149 - val_accuracy: 0.6545\n",
      "Epoch 3/20\n",
      "50000/50000 [==============================] - 43s 860us/step - loss: 1.0258 - accuracy: 0.6450 - val_loss: 1.0071 - val_accuracy: 0.6515\n",
      "Epoch 4/20\n",
      "50000/50000 [==============================] - 33s 656us/step - loss: 0.9843 - accuracy: 0.6654 - val_loss: 0.9396 - val_accuracy: 0.6824\n",
      "Epoch 5/20\n",
      "50000/50000 [==============================] - 33s 660us/step - loss: 0.9842 - accuracy: 0.6702 - val_loss: 0.9321 - val_accuracy: 0.7039\n",
      "Epoch 6/20\n",
      "50000/50000 [==============================] - 39s 779us/step - loss: 1.0019 - accuracy: 0.6692 - val_loss: 1.1706 - val_accuracy: 0.6463\n",
      "Epoch 7/20\n",
      "50000/50000 [==============================] - 35s 704us/step - loss: 1.0164 - accuracy: 0.6666 - val_loss: 1.0042 - val_accuracy: 0.6615\n",
      "Epoch 8/20\n",
      "50000/50000 [==============================] - 29s 576us/step - loss: 1.0308 - accuracy: 0.6639 - val_loss: 0.8786 - val_accuracy: 0.7044\n",
      "Epoch 9/20\n",
      "50000/50000 [==============================] - 29s 590us/step - loss: 1.0459 - accuracy: 0.6605 - val_loss: 1.1734 - val_accuracy: 0.6508\n",
      "Epoch 10/20\n",
      "50000/50000 [==============================] - 31s 613us/step - loss: 1.0833 - accuracy: 0.6531 - val_loss: 0.9109 - val_accuracy: 0.6948\n",
      "Epoch 11/20\n",
      "50000/50000 [==============================] - 35s 704us/step - loss: 1.1078 - accuracy: 0.6443 - val_loss: 1.2577 - val_accuracy: 0.6143\n",
      "Epoch 12/20\n",
      "50000/50000 [==============================] - 39s 777us/step - loss: 1.1416 - accuracy: 0.6367 - val_loss: 1.2528 - val_accuracy: 0.6091\n",
      "Epoch 13/20\n",
      "50000/50000 [==============================] - 37s 739us/step - loss: 1.1788 - accuracy: 0.6244 - val_loss: 1.0727 - val_accuracy: 0.6440\n",
      "Epoch 14/20\n",
      "50000/50000 [==============================] - 43s 864us/step - loss: 1.2489 - accuracy: 0.6080 - val_loss: 1.0487 - val_accuracy: 0.6358\n",
      "Epoch 15/20\n",
      "50000/50000 [==============================] - 33s 660us/step - loss: 1.3060 - accuracy: 0.5886 - val_loss: 1.2857 - val_accuracy: 0.5672\n",
      "Epoch 16/20\n",
      "50000/50000 [==============================] - 39s 780us/step - loss: 1.3451 - accuracy: 0.5731 - val_loss: 1.2622 - val_accuracy: 0.5684\n",
      "Epoch 17/20\n",
      "50000/50000 [==============================] - 38s 767us/step - loss: 1.3869 - accuracy: 0.5594 - val_loss: 1.3603 - val_accuracy: 0.6162\n",
      "Epoch 18/20\n",
      "50000/50000 [==============================] - 41s 826us/step - loss: 1.4545 - accuracy: 0.5397 - val_loss: 1.3156 - val_accuracy: 0.5594\n",
      "Epoch 19/20\n",
      "50000/50000 [==============================] - 30s 597us/step - loss: 1.4985 - accuracy: 0.5227 - val_loss: 1.4399 - val_accuracy: 0.5392\n",
      "Epoch 20/20\n",
      "50000/50000 [==============================] - 30s 592us/step - loss: 1.5025 - accuracy: 0.5114 - val_loss: 1.3417 - val_accuracy: 0.5606\n"
     ]
    },
    {
     "data": {
      "text/plain": [
       "'\\n   第四步：訓練\\n   .fit的一些參數\\n   batch_size：對總的樣本數進行分組，每組包含的樣本數量\\n   epochs ：訓練次數\\n   shuffle：是否把數據隨機打亂之後再進行訓練\\n   validation_split：拿出百分之多少用來做交叉驗證\\n   verbose：屏顯模式 - 0：不輸出, 1：輸出進度, 2：輸出每次的訓練結果\\n'"
      ]
     },
     "execution_count": 18,
     "metadata": {},
     "output_type": "execute_result"
    }
   ],
   "source": [
    "history = []\n",
    "for model in [model_SGD, model_RMS]:\n",
    "# 是否要做資料處理\n",
    "    if not data_augmentation:\n",
    "        print('Not using data augmentation.')\n",
    "        history=model.fit(x_train, y_train,\n",
    "              batch_size=batch_size,\n",
    "              epochs=epochs,\n",
    "              validation_data=(x_test, y_test),\n",
    "              shuffle=True)\n",
    "    else:\n",
    "        print('Using real-time data augmentation.')\n",
    "        print('')\n",
    "        \n",
    "    # This will do preprocessing and realtime data augmentation:\n",
    "        datagen = ImageDataGenerator(\n",
    "            featurewise_center=False,  # set input mean to 0 over the dataset\n",
    "            samplewise_center=False,  # set each sample mean to 0\n",
    "            featurewise_std_normalization=False,  # divide inputs by std of the dataset\n",
    "            samplewise_std_normalization=False,  # divide each input by its std\n",
    "            zca_whitening=False,  # apply ZCA whitening\n",
    "            zca_epsilon=1e-06,  # epsilon for ZCA whitening\n",
    "            rotation_range=0,  # randomly rotate images in the range (degrees, 0 to 180)\n",
    "            # randomly shift images horizontally (fraction of total width)\n",
    "            width_shift_range=0.1,\n",
    "            # randomly shift images vertically (fraction of total height)\n",
    "            height_shift_range=0.1,\n",
    "            shear_range=0.,  # set range for random shear\n",
    "            zoom_range=0.,  # set range for random zoom\n",
    "            channel_shift_range=0.,  # set range for random channel shifts\n",
    "            # set mode for filling points outside the input boundaries\n",
    "            fill_mode='nearest',\n",
    "            cval=0.,  # value used for fill_mode = \"constant\"\n",
    "            horizontal_flip=True,  # randomly flip images\n",
    "            vertical_flip=False,  # randomly flip images\n",
    "            # set rescaling factor (applied before any other transformation)\n",
    "            rescale=None,\n",
    "            # set function that will be applied on each input\n",
    "            preprocessing_function=None,\n",
    "            # image data format, either \"channels_first\" or \"channels_last\"\n",
    "            data_format=None,\n",
    "            # fraction of images reserved for validation (strictly between 0 and 1)\n",
    "            validation_split=0.0)\n",
    "\n",
    "        # Compute quantities required for feature-wise normalization\n",
    "        # (std, mean, and principal components if ZCA whitening is applied).\n",
    "        datagen.fit(x_train)\n",
    "        history.append(model.fit(x_train, y_train,\n",
    "                  batch_size=batch_size,\n",
    "                  epochs=epochs,\n",
    "                  validation_data=(x_test, y_test),\n",
    "                  shuffle=True))   \n",
    "\n",
    "'''\n",
    "   第四步：訓練\n",
    "   .fit的一些參數\n",
    "   batch_size：對總的樣本數進行分組，每組包含的樣本數量\n",
    "   epochs ：訓練次數\n",
    "   shuffle：是否把數據隨機打亂之後再進行訓練\n",
    "   validation_split：拿出百分之多少用來做交叉驗證\n",
    "   verbose：屏顯模式 - 0：不輸出, 1：輸出進度, 2：輸出每次的訓練結果\n",
    "''' \n",
    "    "
   ]
  },
  {
   "cell_type": "code",
   "execution_count": 25,
   "metadata": {},
   "outputs": [
    {
     "data": {
      "image/png": "[encoded data removed]",
      "text/plain": [
       "<Figure size 720x288 with 2 Axes>"
      ]
     },
     "metadata": {
      "needs_background": "light"
     },
     "output_type": "display_data"
    },
    {
     "data": {
      "image/png": "[encoded data removed]",
      "text/plain": [
       "<Figure size 720x288 with 2 Axes>"
      ]
     },
     "metadata": {
      "needs_background": "light"
     },
     "output_type": "display_data"
    }
   ],
   "source": [
    "import matplotlib.pyplot as plt\n",
    "%matplotlib inline\n",
    "\n",
    "for i, name in zip([0,1], [\"SGD\",\"RMSProp\"]):\n",
    "    plt.figure(figsize=(10,4))\n",
    "    plt.subplot(121)\n",
    "    # Plot training & validation accuracy values\n",
    "    plt.plot(history[i].history['accuracy'])\n",
    "    plt.plot(history[i].history['val_accuracy'])\n",
    "    plt.title('%s accuracy' % (name))\n",
    "    plt.ylabel('Accuracy')\n",
    "    plt.xlabel('Epoch')\n",
    "    plt.legend(['Train', 'Valiidation'], loc='best')\n",
    "    #plt.show()\n",
    "    plt.subplot(122)\n",
    "    # Plot training & validation loss values\n",
    "    plt.plot(history[i].history['loss'])\n",
    "    plt.plot(history[i].history['val_loss'])\n",
    "    plt.title('%s loss' % (name))\n",
    "    plt.ylabel('Loss')\n",
    "    plt.xlabel('Epoch')\n",
    "    plt.legend(['Train', 'Valiidation'], loc='best')\n",
    "    plt.show()"
   ]
  },
  {
   "cell_type": "code",
   "execution_count": null,
   "metadata": {},
   "outputs": [],
   "source": []
  }
 ],
 "metadata": {
  "kernelspec": {
   "display_name": "Python 3",
   "language": "python",
   "name": "python3"
  },
  "language_info": {
   "codemirror_mode": {
    "name": "ipython",
    "version": 3
   },
   "file_extension": ".py",
   "mimetype": "text/x-python",
   "name": "python",
   "nbconvert_exporter": "python",
   "pygments_lexer": "ipython3",
   "version": "3.7.7"
  }
 },
 "nbformat": 4,
 "nbformat_minor": 2
}
