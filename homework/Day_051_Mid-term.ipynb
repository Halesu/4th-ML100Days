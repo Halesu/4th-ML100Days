{
 "cells": [
  {
   "cell_type": "markdown",
   "metadata": {},
   "source": [
    "### 資料讀取"
   ]
  },
  {
   "cell_type": "code",
   "execution_count": 1,
   "metadata": {},
   "outputs": [],
   "source": [
    "import pandas as pd\n",
    "import numpy as np\n",
    "import warnings\n",
    "warnings.filterwarnings('ignore')\n",
    "from IPython.display import display\n",
    "from sklearn.metrics import accuracy_score\n",
    "from sklearn.model_selection import cross_val_score, KFold, GridSearchCV\n",
    "from sklearn.linear_model import LogisticRegression\n",
    "from sklearn.ensemble import GradientBoostingClassifier, RandomForestClassifier\n",
    "from sklearn.preprocessing import LabelEncoder\n",
    "\n",
    "data_path = \"data/ml100/\"\n",
    "df_train = pd.read_csv(data_path + 'train_data.csv')\n",
    "df_test = pd.read_csv(data_path + 'test_features.csv')"
   ]
  },
  {
   "cell_type": "markdown",
   "metadata": {},
   "source": [
    "### 資料瀏覽"
   ]
  },
  {
   "cell_type": "code",
   "execution_count": 2,
   "metadata": {},
   "outputs": [
    {
     "name": "stdout",
     "output_type": "stream",
     "text": [
      "<class 'pandas.core.frame.DataFrame'>\n",
      "RangeIndex: 113 entries, 0 to 112\n",
      "Data columns (total 22 columns):\n",
      " #   Column                     Non-Null Count  Dtype  \n",
      "---  ------                     --------------  -----  \n",
      " 0   name                       113 non-null    object \n",
      " 1   bonus                      61 non-null     float64\n",
      " 2   deferral_payments          28 non-null     float64\n",
      " 3   deferred_income            34 non-null     float64\n",
      " 4   director_fees              13 non-null     float64\n",
      " 5   email_address              83 non-null     object \n",
      " 6   exercised_stock_options    81 non-null     float64\n",
      " 7   expenses                   73 non-null     float64\n",
      " 8   from_messages              65 non-null     float64\n",
      " 9   from_poi_to_this_person    65 non-null     float64\n",
      " 10  from_this_person_to_poi    65 non-null     float64\n",
      " 11  loan_advances              2 non-null      float64\n",
      " 12  long_term_incentive        49 non-null     float64\n",
      " 13  other                      69 non-null     float64\n",
      " 14  poi                        113 non-null    bool   \n",
      " 15  restricted_stock           82 non-null     float64\n",
      " 16  restricted_stock_deferred  10 non-null     float64\n",
      " 17  salary                     73 non-null     float64\n",
      " 18  shared_receipt_with_poi    65 non-null     float64\n",
      " 19  to_messages                65 non-null     float64\n",
      " 20  total_payments             96 non-null     float64\n",
      " 21  total_stock_value          98 non-null     float64\n",
      "dtypes: bool(1), float64(19), object(2)\n",
      "memory usage: 18.8+ KB\n"
     ]
    }
   ],
   "source": [
    "df_train.info()"
   ]
  },
  {
   "cell_type": "code",
   "execution_count": 3,
   "metadata": {},
   "outputs": [
    {
     "data": {
      "text/html": [
       "<div>\n",
       "<style scoped>\n",
       "    .dataframe tbody tr th:only-of-type {\n",
       "        vertical-align: middle;\n",
       "    }\n",
       "\n",
       "    .dataframe tbody tr th {\n",
       "        vertical-align: top;\n",
       "    }\n",
       "\n",
       "    .dataframe thead th {\n",
       "        text-align: right;\n",
       "    }\n",
       "</style>\n",
       "<table border=\"1\" class=\"dataframe\">\n",
       "  <thead>\n",
       "    <tr style=\"text-align: right;\">\n",
       "      <th></th>\n",
       "      <th>bonus</th>\n",
       "      <th>deferral_payments</th>\n",
       "      <th>deferred_income</th>\n",
       "      <th>director_fees</th>\n",
       "      <th>exercised_stock_options</th>\n",
       "      <th>expenses</th>\n",
       "      <th>from_messages</th>\n",
       "      <th>from_poi_to_this_person</th>\n",
       "      <th>from_this_person_to_poi</th>\n",
       "      <th>loan_advances</th>\n",
       "      <th>long_term_incentive</th>\n",
       "      <th>other</th>\n",
       "      <th>restricted_stock</th>\n",
       "      <th>restricted_stock_deferred</th>\n",
       "      <th>salary</th>\n",
       "      <th>shared_receipt_with_poi</th>\n",
       "      <th>to_messages</th>\n",
       "      <th>total_payments</th>\n",
       "      <th>total_stock_value</th>\n",
       "    </tr>\n",
       "  </thead>\n",
       "  <tbody>\n",
       "    <tr>\n",
       "      <th>count</th>\n",
       "      <td>6.100000e+01</td>\n",
       "      <td>2.800000e+01</td>\n",
       "      <td>3.400000e+01</td>\n",
       "      <td>13.000000</td>\n",
       "      <td>8.100000e+01</td>\n",
       "      <td>73.000000</td>\n",
       "      <td>65.000000</td>\n",
       "      <td>65.000000</td>\n",
       "      <td>65.000000</td>\n",
       "      <td>2.000000e+00</td>\n",
       "      <td>4.900000e+01</td>\n",
       "      <td>6.900000e+01</td>\n",
       "      <td>8.200000e+01</td>\n",
       "      <td>10.000000</td>\n",
       "      <td>7.300000e+01</td>\n",
       "      <td>65.000000</td>\n",
       "      <td>65.000000</td>\n",
       "      <td>9.600000e+01</td>\n",
       "      <td>9.800000e+01</td>\n",
       "    </tr>\n",
       "    <tr>\n",
       "      <th>mean</th>\n",
       "      <td>1.147436e+06</td>\n",
       "      <td>6.344374e+05</td>\n",
       "      <td>-4.625664e+05</td>\n",
       "      <td>89397.846154</td>\n",
       "      <td>2.985081e+06</td>\n",
       "      <td>51040.547945</td>\n",
       "      <td>711.323077</td>\n",
       "      <td>64.800000</td>\n",
       "      <td>40.092308</td>\n",
       "      <td>4.096250e+07</td>\n",
       "      <td>7.926171e+05</td>\n",
       "      <td>4.471774e+05</td>\n",
       "      <td>1.294855e+06</td>\n",
       "      <td>-221885.700000</td>\n",
       "      <td>2.739025e+05</td>\n",
       "      <td>1111.369231</td>\n",
       "      <td>2156.061538</td>\n",
       "      <td>2.590977e+06</td>\n",
       "      <td>3.527136e+06</td>\n",
       "    </tr>\n",
       "    <tr>\n",
       "      <th>std</th>\n",
       "      <td>1.505189e+06</td>\n",
       "      <td>8.603646e+05</td>\n",
       "      <td>8.095392e+05</td>\n",
       "      <td>41143.391399</td>\n",
       "      <td>6.004174e+06</td>\n",
       "      <td>47596.682104</td>\n",
       "      <td>2074.497628</td>\n",
       "      <td>91.863214</td>\n",
       "      <td>88.901407</td>\n",
       "      <td>5.736404e+07</td>\n",
       "      <td>9.504645e+05</td>\n",
       "      <td>1.341564e+06</td>\n",
       "      <td>2.498335e+06</td>\n",
       "      <td>205191.374121</td>\n",
       "      <td>1.716647e+05</td>\n",
       "      <td>1165.852016</td>\n",
       "      <td>2811.676718</td>\n",
       "      <td>1.056645e+07</td>\n",
       "      <td>7.182997e+06</td>\n",
       "    </tr>\n",
       "    <tr>\n",
       "      <th>min</th>\n",
       "      <td>7.000000e+04</td>\n",
       "      <td>-1.025000e+05</td>\n",
       "      <td>-3.504386e+06</td>\n",
       "      <td>3285.000000</td>\n",
       "      <td>3.285000e+03</td>\n",
       "      <td>148.000000</td>\n",
       "      <td>12.000000</td>\n",
       "      <td>0.000000</td>\n",
       "      <td>0.000000</td>\n",
       "      <td>4.000000e+05</td>\n",
       "      <td>7.102300e+04</td>\n",
       "      <td>2.000000e+00</td>\n",
       "      <td>4.409300e+04</td>\n",
       "      <td>-560222.000000</td>\n",
       "      <td>4.770000e+02</td>\n",
       "      <td>2.000000</td>\n",
       "      <td>57.000000</td>\n",
       "      <td>1.480000e+02</td>\n",
       "      <td>-4.409300e+04</td>\n",
       "    </tr>\n",
       "    <tr>\n",
       "      <th>25%</th>\n",
       "      <td>4.500000e+05</td>\n",
       "      <td>7.656750e+04</td>\n",
       "      <td>-5.527032e+05</td>\n",
       "      <td>101250.000000</td>\n",
       "      <td>4.004780e+05</td>\n",
       "      <td>18834.000000</td>\n",
       "      <td>19.000000</td>\n",
       "      <td>10.000000</td>\n",
       "      <td>0.000000</td>\n",
       "      <td>2.068125e+07</td>\n",
       "      <td>2.750000e+05</td>\n",
       "      <td>9.720000e+02</td>\n",
       "      <td>2.689220e+05</td>\n",
       "      <td>-389621.750000</td>\n",
       "      <td>2.061210e+05</td>\n",
       "      <td>178.000000</td>\n",
       "      <td>517.000000</td>\n",
       "      <td>3.024025e+05</td>\n",
       "      <td>4.211518e+05</td>\n",
       "    </tr>\n",
       "    <tr>\n",
       "      <th>50%</th>\n",
       "      <td>7.500000e+05</td>\n",
       "      <td>1.951900e+05</td>\n",
       "      <td>-1.175340e+05</td>\n",
       "      <td>108579.000000</td>\n",
       "      <td>8.500100e+05</td>\n",
       "      <td>41953.000000</td>\n",
       "      <td>45.000000</td>\n",
       "      <td>28.000000</td>\n",
       "      <td>7.000000</td>\n",
       "      <td>4.096250e+07</td>\n",
       "      <td>4.221580e+05</td>\n",
       "      <td>5.238200e+04</td>\n",
       "      <td>4.628225e+05</td>\n",
       "      <td>-139856.500000</td>\n",
       "      <td>2.516540e+05</td>\n",
       "      <td>599.000000</td>\n",
       "      <td>1088.000000</td>\n",
       "      <td>1.106740e+06</td>\n",
       "      <td>9.979710e+05</td>\n",
       "    </tr>\n",
       "    <tr>\n",
       "      <th>75%</th>\n",
       "      <td>1.000000e+06</td>\n",
       "      <td>8.342052e+05</td>\n",
       "      <td>-2.708325e+04</td>\n",
       "      <td>112492.000000</td>\n",
       "      <td>2.165172e+06</td>\n",
       "      <td>59175.000000</td>\n",
       "      <td>215.000000</td>\n",
       "      <td>88.000000</td>\n",
       "      <td>27.000000</td>\n",
       "      <td>6.124375e+07</td>\n",
       "      <td>8.318090e+05</td>\n",
       "      <td>3.620960e+05</td>\n",
       "      <td>9.664905e+05</td>\n",
       "      <td>-77953.250000</td>\n",
       "      <td>2.885890e+05</td>\n",
       "      <td>1902.000000</td>\n",
       "      <td>2649.000000</td>\n",
       "      <td>1.985668e+06</td>\n",
       "      <td>2.493616e+06</td>\n",
       "    </tr>\n",
       "    <tr>\n",
       "      <th>max</th>\n",
       "      <td>8.000000e+06</td>\n",
       "      <td>2.964506e+06</td>\n",
       "      <td>-1.042000e+03</td>\n",
       "      <td>125034.000000</td>\n",
       "      <td>3.434838e+07</td>\n",
       "      <td>228763.000000</td>\n",
       "      <td>14368.000000</td>\n",
       "      <td>528.000000</td>\n",
       "      <td>411.000000</td>\n",
       "      <td>8.152500e+07</td>\n",
       "      <td>5.145434e+06</td>\n",
       "      <td>1.035973e+07</td>\n",
       "      <td>1.476169e+07</td>\n",
       "      <td>44093.000000</td>\n",
       "      <td>1.111258e+06</td>\n",
       "      <td>4527.000000</td>\n",
       "      <td>15149.000000</td>\n",
       "      <td>1.035598e+08</td>\n",
       "      <td>4.911008e+07</td>\n",
       "    </tr>\n",
       "  </tbody>\n",
       "</table>\n",
       "</div>"
      ],
      "text/plain": [
       "              bonus  deferral_payments  deferred_income  director_fees  \\\n",
       "count  6.100000e+01       2.800000e+01     3.400000e+01      13.000000   \n",
       "mean   1.147436e+06       6.344374e+05    -4.625664e+05   89397.846154   \n",
       "std    1.505189e+06       8.603646e+05     8.095392e+05   41143.391399   \n",
       "min    7.000000e+04      -1.025000e+05    -3.504386e+06    3285.000000   \n",
       "25%    4.500000e+05       7.656750e+04    -5.527032e+05  101250.000000   \n",
       "50%    7.500000e+05       1.951900e+05    -1.175340e+05  108579.000000   \n",
       "75%    1.000000e+06       8.342052e+05    -2.708325e+04  112492.000000   \n",
       "max    8.000000e+06       2.964506e+06    -1.042000e+03  125034.000000   \n",
       "\n",
       "       exercised_stock_options       expenses  from_messages  \\\n",
       "count             8.100000e+01      73.000000      65.000000   \n",
       "mean              2.985081e+06   51040.547945     711.323077   \n",
       "std               6.004174e+06   47596.682104    2074.497628   \n",
       "min               3.285000e+03     148.000000      12.000000   \n",
       "25%               4.004780e+05   18834.000000      19.000000   \n",
       "50%               8.500100e+05   41953.000000      45.000000   \n",
       "75%               2.165172e+06   59175.000000     215.000000   \n",
       "max               3.434838e+07  228763.000000   14368.000000   \n",
       "\n",
       "       from_poi_to_this_person  from_this_person_to_poi  loan_advances  \\\n",
       "count                65.000000                65.000000   2.000000e+00   \n",
       "mean                 64.800000                40.092308   4.096250e+07   \n",
       "std                  91.863214                88.901407   5.736404e+07   \n",
       "min                   0.000000                 0.000000   4.000000e+05   \n",
       "25%                  10.000000                 0.000000   2.068125e+07   \n",
       "50%                  28.000000                 7.000000   4.096250e+07   \n",
       "75%                  88.000000                27.000000   6.124375e+07   \n",
       "max                 528.000000               411.000000   8.152500e+07   \n",
       "\n",
       "       long_term_incentive         other  restricted_stock  \\\n",
       "count         4.900000e+01  6.900000e+01      8.200000e+01   \n",
       "mean          7.926171e+05  4.471774e+05      1.294855e+06   \n",
       "std           9.504645e+05  1.341564e+06      2.498335e+06   \n",
       "min           7.102300e+04  2.000000e+00      4.409300e+04   \n",
       "25%           2.750000e+05  9.720000e+02      2.689220e+05   \n",
       "50%           4.221580e+05  5.238200e+04      4.628225e+05   \n",
       "75%           8.318090e+05  3.620960e+05      9.664905e+05   \n",
       "max           5.145434e+06  1.035973e+07      1.476169e+07   \n",
       "\n",
       "       restricted_stock_deferred        salary  shared_receipt_with_poi  \\\n",
       "count                  10.000000  7.300000e+01                65.000000   \n",
       "mean              -221885.700000  2.739025e+05              1111.369231   \n",
       "std                205191.374121  1.716647e+05              1165.852016   \n",
       "min               -560222.000000  4.770000e+02                 2.000000   \n",
       "25%               -389621.750000  2.061210e+05               178.000000   \n",
       "50%               -139856.500000  2.516540e+05               599.000000   \n",
       "75%                -77953.250000  2.885890e+05              1902.000000   \n",
       "max                 44093.000000  1.111258e+06              4527.000000   \n",
       "\n",
       "        to_messages  total_payments  total_stock_value  \n",
       "count     65.000000    9.600000e+01       9.800000e+01  \n",
       "mean    2156.061538    2.590977e+06       3.527136e+06  \n",
       "std     2811.676718    1.056645e+07       7.182997e+06  \n",
       "min       57.000000    1.480000e+02      -4.409300e+04  \n",
       "25%      517.000000    3.024025e+05       4.211518e+05  \n",
       "50%     1088.000000    1.106740e+06       9.979710e+05  \n",
       "75%     2649.000000    1.985668e+06       2.493616e+06  \n",
       "max    15149.000000    1.035598e+08       4.911008e+07  "
      ]
     },
     "execution_count": 3,
     "metadata": {},
     "output_type": "execute_result"
    }
   ],
   "source": [
    "df_train.describe()"
   ]
  },
  {
   "cell_type": "markdown",
   "metadata": {},
   "source": [
    "### 相關性分析"
   ]
  },
  {
   "cell_type": "code",
   "execution_count": 4,
   "metadata": {},
   "outputs": [
    {
     "data": {
      "text/plain": [
       "loan_advances                1.000000\n",
       "poi                          1.000000\n",
       "exercised_stock_options      0.591972\n",
       "total_stock_value            0.443098\n",
       "salary                       0.371917\n",
       "total_payments               0.271335\n",
       "restricted_stock             0.261102\n",
       "bonus                        0.242170\n",
       "long_term_incentive          0.227805\n",
       "other                        0.225619\n",
       "expenses                     0.136386\n",
       "from_poi_to_this_person      0.127932\n",
       "shared_receipt_with_poi      0.120467\n",
       "to_messages                 -0.023047\n",
       "from_this_person_to_poi     -0.096864\n",
       "from_messages               -0.126760\n",
       "deferred_income             -0.224654\n",
       "deferral_payments           -0.251548\n",
       "director_fees                     NaN\n",
       "restricted_stock_deferred         NaN\n",
       "Name: poi, dtype: float64"
      ]
     },
     "execution_count": 4,
     "metadata": {},
     "output_type": "execute_result"
    }
   ],
   "source": [
    "df_train.corr().loc['poi',:].sort_values(ascending=False)"
   ]
  },
  {
   "cell_type": "markdown",
   "metadata": {},
   "source": [
    "### 資料前處理"
   ]
  },
  {
   "cell_type": "code",
   "execution_count": 5,
   "metadata": {},
   "outputs": [
    {
     "data": {
      "text/html": [
       "<div>\n",
       "<style scoped>\n",
       "    .dataframe tbody tr th:only-of-type {\n",
       "        vertical-align: middle;\n",
       "    }\n",
       "\n",
       "    .dataframe tbody tr th {\n",
       "        vertical-align: top;\n",
       "    }\n",
       "\n",
       "    .dataframe thead th {\n",
       "        text-align: right;\n",
       "    }\n",
       "</style>\n",
       "<table border=\"1\" class=\"dataframe\">\n",
       "  <thead>\n",
       "    <tr style=\"text-align: right;\">\n",
       "      <th></th>\n",
       "      <th>name</th>\n",
       "      <th>bonus</th>\n",
       "      <th>deferral_payments</th>\n",
       "      <th>deferred_income</th>\n",
       "      <th>director_fees</th>\n",
       "      <th>email_address</th>\n",
       "      <th>exercised_stock_options</th>\n",
       "      <th>expenses</th>\n",
       "      <th>from_messages</th>\n",
       "      <th>from_poi_to_this_person</th>\n",
       "      <th>...</th>\n",
       "      <th>long_term_incentive</th>\n",
       "      <th>other</th>\n",
       "      <th>poi</th>\n",
       "      <th>restricted_stock</th>\n",
       "      <th>restricted_stock_deferred</th>\n",
       "      <th>salary</th>\n",
       "      <th>shared_receipt_with_poi</th>\n",
       "      <th>to_messages</th>\n",
       "      <th>total_payments</th>\n",
       "      <th>total_stock_value</th>\n",
       "    </tr>\n",
       "  </thead>\n",
       "  <tbody>\n",
       "    <tr>\n",
       "      <th>50</th>\n",
       "      <td>BELFER ROBERT</td>\n",
       "      <td>NaN</td>\n",
       "      <td>-102500.0</td>\n",
       "      <td>NaN</td>\n",
       "      <td>3285.0</td>\n",
       "      <td>NaN</td>\n",
       "      <td>3285.0</td>\n",
       "      <td>NaN</td>\n",
       "      <td>NaN</td>\n",
       "      <td>NaN</td>\n",
       "      <td>...</td>\n",
       "      <td>NaN</td>\n",
       "      <td>NaN</td>\n",
       "      <td>False</td>\n",
       "      <td>NaN</td>\n",
       "      <td>44093.0</td>\n",
       "      <td>NaN</td>\n",
       "      <td>NaN</td>\n",
       "      <td>NaN</td>\n",
       "      <td>102500.0</td>\n",
       "      <td>-44093.0</td>\n",
       "    </tr>\n",
       "    <tr>\n",
       "      <th>107</th>\n",
       "      <td>LOCKHART EUGENE E</td>\n",
       "      <td>NaN</td>\n",
       "      <td>NaN</td>\n",
       "      <td>NaN</td>\n",
       "      <td>NaN</td>\n",
       "      <td>NaN</td>\n",
       "      <td>NaN</td>\n",
       "      <td>NaN</td>\n",
       "      <td>NaN</td>\n",
       "      <td>NaN</td>\n",
       "      <td>...</td>\n",
       "      <td>NaN</td>\n",
       "      <td>NaN</td>\n",
       "      <td>False</td>\n",
       "      <td>NaN</td>\n",
       "      <td>NaN</td>\n",
       "      <td>NaN</td>\n",
       "      <td>NaN</td>\n",
       "      <td>NaN</td>\n",
       "      <td>NaN</td>\n",
       "      <td>NaN</td>\n",
       "    </tr>\n",
       "  </tbody>\n",
       "</table>\n",
       "<p>2 rows × 22 columns</p>\n",
       "</div>"
      ],
      "text/plain": [
       "                  name  bonus  deferral_payments  deferred_income  \\\n",
       "50       BELFER ROBERT    NaN          -102500.0              NaN   \n",
       "107  LOCKHART EUGENE E    NaN                NaN              NaN   \n",
       "\n",
       "     director_fees email_address  exercised_stock_options  expenses  \\\n",
       "50          3285.0           NaN                   3285.0       NaN   \n",
       "107            NaN           NaN                      NaN       NaN   \n",
       "\n",
       "     from_messages  from_poi_to_this_person  ...  long_term_incentive  other  \\\n",
       "50             NaN                      NaN  ...                  NaN    NaN   \n",
       "107            NaN                      NaN  ...                  NaN    NaN   \n",
       "\n",
       "       poi  restricted_stock  restricted_stock_deferred  salary  \\\n",
       "50   False               NaN                    44093.0     NaN   \n",
       "107  False               NaN                        NaN     NaN   \n",
       "\n",
       "     shared_receipt_with_poi  to_messages  total_payments  total_stock_value  \n",
       "50                       NaN          NaN        102500.0           -44093.0  \n",
       "107                      NaN          NaN             NaN                NaN  \n",
       "\n",
       "[2 rows x 22 columns]"
      ]
     },
     "execution_count": 5,
     "metadata": {},
     "output_type": "execute_result"
    }
   ],
   "source": [
    "df_train[(df_train.name == 'BELFER ROBERT') | (df_train.name  == 'LOCKHART EUGENE E')] # 異常資料"
   ]
  },
  {
   "cell_type": "code",
   "execution_count": 6,
   "metadata": {},
   "outputs": [],
   "source": [
    "df_train.loc[50,['restricted_stock', 'restricted_stock_deferred', 'total_stock_value']] = [44093, -44093, 0]\n",
    "df_train.drop([107],inplace=True)"
   ]
  },
  {
   "cell_type": "code",
   "execution_count": 7,
   "metadata": {},
   "outputs": [
    {
     "data": {
      "text/html": [
       "<div>\n",
       "<style scoped>\n",
       "    .dataframe tbody tr th:only-of-type {\n",
       "        vertical-align: middle;\n",
       "    }\n",
       "\n",
       "    .dataframe tbody tr th {\n",
       "        vertical-align: top;\n",
       "    }\n",
       "\n",
       "    .dataframe thead th {\n",
       "        text-align: right;\n",
       "    }\n",
       "</style>\n",
       "<table border=\"1\" class=\"dataframe\">\n",
       "  <thead>\n",
       "    <tr style=\"text-align: right;\">\n",
       "      <th></th>\n",
       "      <th>bonus</th>\n",
       "      <th>deferral_payments</th>\n",
       "      <th>deferred_income</th>\n",
       "      <th>director_fees</th>\n",
       "      <th>exercised_stock_options</th>\n",
       "      <th>expenses</th>\n",
       "      <th>from_messages</th>\n",
       "      <th>from_poi_to_this_person</th>\n",
       "      <th>from_this_person_to_poi</th>\n",
       "      <th>loan_advances</th>\n",
       "      <th>long_term_incentive</th>\n",
       "      <th>other</th>\n",
       "      <th>restricted_stock</th>\n",
       "      <th>restricted_stock_deferred</th>\n",
       "      <th>salary</th>\n",
       "      <th>shared_receipt_with_poi</th>\n",
       "      <th>to_messages</th>\n",
       "      <th>total_payments</th>\n",
       "      <th>total_stock_value</th>\n",
       "    </tr>\n",
       "  </thead>\n",
       "  <tbody>\n",
       "    <tr>\n",
       "      <th>0</th>\n",
       "      <td>1750000.0</td>\n",
       "      <td>NaN</td>\n",
       "      <td>-3504386.0</td>\n",
       "      <td>NaN</td>\n",
       "      <td>19794175.0</td>\n",
       "      <td>46950.0</td>\n",
       "      <td>18.0</td>\n",
       "      <td>42.0</td>\n",
       "      <td>4.0</td>\n",
       "      <td>NaN</td>\n",
       "      <td>1617011.0</td>\n",
       "      <td>174839.0</td>\n",
       "      <td>2748364.0</td>\n",
       "      <td>NaN</td>\n",
       "      <td>420636.0</td>\n",
       "      <td>864.0</td>\n",
       "      <td>905.0</td>\n",
       "      <td>505050.0</td>\n",
       "      <td>22542539.0</td>\n",
       "    </tr>\n",
       "    <tr>\n",
       "      <th>1</th>\n",
       "      <td>5600000.0</td>\n",
       "      <td>NaN</td>\n",
       "      <td>NaN</td>\n",
       "      <td>NaN</td>\n",
       "      <td>19250000.0</td>\n",
       "      <td>29336.0</td>\n",
       "      <td>108.0</td>\n",
       "      <td>88.0</td>\n",
       "      <td>30.0</td>\n",
       "      <td>NaN</td>\n",
       "      <td>1920000.0</td>\n",
       "      <td>22122.0</td>\n",
       "      <td>6843672.0</td>\n",
       "      <td>NaN</td>\n",
       "      <td>1111258.0</td>\n",
       "      <td>2042.0</td>\n",
       "      <td>3627.0</td>\n",
       "      <td>8682716.0</td>\n",
       "      <td>26093672.0</td>\n",
       "    </tr>\n",
       "    <tr>\n",
       "      <th>2</th>\n",
       "      <td>200000.0</td>\n",
       "      <td>NaN</td>\n",
       "      <td>-4167.0</td>\n",
       "      <td>NaN</td>\n",
       "      <td>1624396.0</td>\n",
       "      <td>22884.0</td>\n",
       "      <td>39.0</td>\n",
       "      <td>13.0</td>\n",
       "      <td>14.0</td>\n",
       "      <td>NaN</td>\n",
       "      <td>NaN</td>\n",
       "      <td>1573324.0</td>\n",
       "      <td>869220.0</td>\n",
       "      <td>NaN</td>\n",
       "      <td>211844.0</td>\n",
       "      <td>91.0</td>\n",
       "      <td>225.0</td>\n",
       "      <td>2003885.0</td>\n",
       "      <td>2493616.0</td>\n",
       "    </tr>\n",
       "    <tr>\n",
       "      <th>3</th>\n",
       "      <td>800000.0</td>\n",
       "      <td>NaN</td>\n",
       "      <td>NaN</td>\n",
       "      <td>NaN</td>\n",
       "      <td>NaN</td>\n",
       "      <td>118134.0</td>\n",
       "      <td>NaN</td>\n",
       "      <td>NaN</td>\n",
       "      <td>NaN</td>\n",
       "      <td>NaN</td>\n",
       "      <td>602671.0</td>\n",
       "      <td>907502.0</td>\n",
       "      <td>985032.0</td>\n",
       "      <td>NaN</td>\n",
       "      <td>224305.0</td>\n",
       "      <td>NaN</td>\n",
       "      <td>NaN</td>\n",
       "      <td>2652612.0</td>\n",
       "      <td>985032.0</td>\n",
       "    </tr>\n",
       "    <tr>\n",
       "      <th>4</th>\n",
       "      <td>1250000.0</td>\n",
       "      <td>NaN</td>\n",
       "      <td>-262500.0</td>\n",
       "      <td>NaN</td>\n",
       "      <td>NaN</td>\n",
       "      <td>35818.0</td>\n",
       "      <td>144.0</td>\n",
       "      <td>199.0</td>\n",
       "      <td>25.0</td>\n",
       "      <td>NaN</td>\n",
       "      <td>375304.0</td>\n",
       "      <td>486.0</td>\n",
       "      <td>126027.0</td>\n",
       "      <td>NaN</td>\n",
       "      <td>240189.0</td>\n",
       "      <td>2188.0</td>\n",
       "      <td>2598.0</td>\n",
       "      <td>1639297.0</td>\n",
       "      <td>126027.0</td>\n",
       "    </tr>\n",
       "  </tbody>\n",
       "</table>\n",
       "</div>"
      ],
      "text/plain": [
       "       bonus  deferral_payments  deferred_income  director_fees  \\\n",
       "0  1750000.0                NaN       -3504386.0            NaN   \n",
       "1  5600000.0                NaN              NaN            NaN   \n",
       "2   200000.0                NaN          -4167.0            NaN   \n",
       "3   800000.0                NaN              NaN            NaN   \n",
       "4  1250000.0                NaN        -262500.0            NaN   \n",
       "\n",
       "   exercised_stock_options  expenses  from_messages  from_poi_to_this_person  \\\n",
       "0               19794175.0   46950.0           18.0                     42.0   \n",
       "1               19250000.0   29336.0          108.0                     88.0   \n",
       "2                1624396.0   22884.0           39.0                     13.0   \n",
       "3                      NaN  118134.0            NaN                      NaN   \n",
       "4                      NaN   35818.0          144.0                    199.0   \n",
       "\n",
       "   from_this_person_to_poi  loan_advances  long_term_incentive      other  \\\n",
       "0                      4.0            NaN            1617011.0   174839.0   \n",
       "1                     30.0            NaN            1920000.0    22122.0   \n",
       "2                     14.0            NaN                  NaN  1573324.0   \n",
       "3                      NaN            NaN             602671.0   907502.0   \n",
       "4                     25.0            NaN             375304.0      486.0   \n",
       "\n",
       "   restricted_stock  restricted_stock_deferred     salary  \\\n",
       "0         2748364.0                        NaN   420636.0   \n",
       "1         6843672.0                        NaN  1111258.0   \n",
       "2          869220.0                        NaN   211844.0   \n",
       "3          985032.0                        NaN   224305.0   \n",
       "4          126027.0                        NaN   240189.0   \n",
       "\n",
       "   shared_receipt_with_poi  to_messages  total_payments  total_stock_value  \n",
       "0                    864.0        905.0        505050.0         22542539.0  \n",
       "1                   2042.0       3627.0       8682716.0         26093672.0  \n",
       "2                     91.0        225.0       2003885.0          2493616.0  \n",
       "3                      NaN          NaN       2652612.0           985032.0  \n",
       "4                   2188.0       2598.0       1639297.0           126027.0  "
      ]
     },
     "execution_count": 7,
     "metadata": {},
     "output_type": "execute_result"
    }
   ],
   "source": [
    "train_Y = df_train['poi']\n",
    "name = df_test['name']\n",
    "df_train = df_train.drop(['name', 'poi','email_address'] , axis=1)\n",
    "df_test = df_test.drop(['name', 'email_address'] , axis=1)\n",
    "df = pd.concat([df_train,df_test])\n",
    "df.head()"
   ]
  },
  {
   "cell_type": "code",
   "execution_count": 8,
   "metadata": {},
   "outputs": [
    {
     "data": {
      "text/plain": [
       "(145, 19)"
      ]
     },
     "execution_count": 8,
     "metadata": {},
     "output_type": "execute_result"
    }
   ],
   "source": [
    "df.shape"
   ]
  },
  {
   "cell_type": "code",
   "execution_count": 9,
   "metadata": {},
   "outputs": [
    {
     "data": {
      "text/html": [
       "<div>\n",
       "<style scoped>\n",
       "    .dataframe tbody tr th:only-of-type {\n",
       "        vertical-align: middle;\n",
       "    }\n",
       "\n",
       "    .dataframe tbody tr th {\n",
       "        vertical-align: top;\n",
       "    }\n",
       "\n",
       "    .dataframe thead th {\n",
       "        text-align: right;\n",
       "    }\n",
       "</style>\n",
       "<table border=\"1\" class=\"dataframe\">\n",
       "  <thead>\n",
       "    <tr style=\"text-align: right;\">\n",
       "      <th></th>\n",
       "      <th>Missing Ratio</th>\n",
       "    </tr>\n",
       "  </thead>\n",
       "  <tbody>\n",
       "    <tr>\n",
       "      <th>loan_advances</th>\n",
       "      <td>97.241379</td>\n",
       "    </tr>\n",
       "    <tr>\n",
       "      <th>director_fees</th>\n",
       "      <td>88.275862</td>\n",
       "    </tr>\n",
       "    <tr>\n",
       "      <th>restricted_stock_deferred</th>\n",
       "      <td>87.586207</td>\n",
       "    </tr>\n",
       "    <tr>\n",
       "      <th>deferral_payments</th>\n",
       "      <td>73.103448</td>\n",
       "    </tr>\n",
       "    <tr>\n",
       "      <th>deferred_income</th>\n",
       "      <td>66.206897</td>\n",
       "    </tr>\n",
       "    <tr>\n",
       "      <th>long_term_incentive</th>\n",
       "      <td>54.482759</td>\n",
       "    </tr>\n",
       "    <tr>\n",
       "      <th>bonus</th>\n",
       "      <td>43.448276</td>\n",
       "    </tr>\n",
       "    <tr>\n",
       "      <th>from_this_person_to_poi</th>\n",
       "      <td>40.689655</td>\n",
       "    </tr>\n",
       "    <tr>\n",
       "      <th>from_poi_to_this_person</th>\n",
       "      <td>40.689655</td>\n",
       "    </tr>\n",
       "    <tr>\n",
       "      <th>from_messages</th>\n",
       "      <td>40.689655</td>\n",
       "    </tr>\n",
       "  </tbody>\n",
       "</table>\n",
       "</div>"
      ],
      "text/plain": [
       "                           Missing Ratio\n",
       "loan_advances                  97.241379\n",
       "director_fees                  88.275862\n",
       "restricted_stock_deferred      87.586207\n",
       "deferral_payments              73.103448\n",
       "deferred_income                66.206897\n",
       "long_term_incentive            54.482759\n",
       "bonus                          43.448276\n",
       "from_this_person_to_poi        40.689655\n",
       "from_poi_to_this_person        40.689655\n",
       "from_messages                  40.689655"
      ]
     },
     "metadata": {},
     "output_type": "display_data"
    }
   ],
   "source": [
    "# 檢查 DataFrame 空缺值的狀態\n",
    "def na_check(df_data):\n",
    "    data_na = (df_data.isnull().sum() / len(df_data)) * 100\n",
    "    data_na = data_na.drop(data_na[data_na == 0].index).sort_values(ascending=False)\n",
    "    missing_data = pd.DataFrame({'Missing Ratio' :data_na})\n",
    "    display(missing_data.head(10))\n",
    "na_check(df)"
   ]
  },
  {
   "cell_type": "code",
   "execution_count": 10,
   "metadata": {},
   "outputs": [
    {
     "data": {
      "text/html": [
       "<div>\n",
       "<style scoped>\n",
       "    .dataframe tbody tr th:only-of-type {\n",
       "        vertical-align: middle;\n",
       "    }\n",
       "\n",
       "    .dataframe tbody tr th {\n",
       "        vertical-align: top;\n",
       "    }\n",
       "\n",
       "    .dataframe thead th {\n",
       "        text-align: right;\n",
       "    }\n",
       "</style>\n",
       "<table border=\"1\" class=\"dataframe\">\n",
       "  <thead>\n",
       "    <tr style=\"text-align: right;\">\n",
       "      <th></th>\n",
       "      <th>Missing Ratio</th>\n",
       "    </tr>\n",
       "  </thead>\n",
       "  <tbody>\n",
       "  </tbody>\n",
       "</table>\n",
       "</div>"
      ],
      "text/plain": [
       "Empty DataFrame\n",
       "Columns: [Missing Ratio]\n",
       "Index: []"
      ]
     },
     "metadata": {},
     "output_type": "display_data"
    }
   ],
   "source": [
    "df.fillna(0, inplace=True)\n",
    "na_check(df)"
   ]
  },
  {
   "cell_type": "markdown",
   "metadata": {},
   "source": [
    "### 特徵工程"
   ]
  },
  {
   "cell_type": "code",
   "execution_count": 11,
   "metadata": {},
   "outputs": [
    {
     "data": {
      "text/html": [
       "<div>\n",
       "<style scoped>\n",
       "    .dataframe tbody tr th:only-of-type {\n",
       "        vertical-align: middle;\n",
       "    }\n",
       "\n",
       "    .dataframe tbody tr th {\n",
       "        vertical-align: top;\n",
       "    }\n",
       "\n",
       "    .dataframe thead th {\n",
       "        text-align: right;\n",
       "    }\n",
       "</style>\n",
       "<table border=\"1\" class=\"dataframe\">\n",
       "  <thead>\n",
       "    <tr style=\"text-align: right;\">\n",
       "      <th></th>\n",
       "      <th>Missing Ratio</th>\n",
       "    </tr>\n",
       "  </thead>\n",
       "  <tbody>\n",
       "  </tbody>\n",
       "</table>\n",
       "</div>"
      ],
      "text/plain": [
       "Empty DataFrame\n",
       "Columns: [Missing Ratio]\n",
       "Index: []"
      ]
     },
     "metadata": {},
     "output_type": "display_data"
    }
   ],
   "source": [
    "# 特徵組合\n",
    "df['total_message'] = df['from_messages'] + df['to_messages']\n",
    "df['total_message_poi'] = df['from_this_person_to_poi'] + df['from_poi_to_this_person']\n",
    "\n",
    "df['total_message_poi_from_%'] = df['total_message_poi'] / (df['from_messages'] + 1)\n",
    "df['total_message_poi_total_%'] = df['total_message_poi'] / (df['total_message'] + 1)\n",
    "\n",
    "df['from_poi_to_this_person_from_%'] = df['from_poi_to_this_person'] / (df['from_messages'] + 1)\n",
    "df['from_poi_to_this_person_total_%'] = df['from_poi_to_this_person'] / (df['total_message'] + 1)\n",
    "df['from_poi_to_this_person_from_poi_%'] = df['from_poi_to_this_person'] / (df['from_messages'] + df['from_poi_to_this_person'] + 1)\n",
    "\n",
    "df['from_this_person_to_poi_to_%'] = df['from_this_person_to_poi'] / (df['to_messages'] + 1)\n",
    "df['from_this_person_to_poi_total_%'] = df['from_this_person_to_poi'] / (df['total_message'] + 1)\n",
    "df['from_this_person_to_poi_to_poi_%'] = df['from_this_person_to_poi'] / (df['to_messages'] + df['from_this_person_to_poi'] + 1)\n",
    "\n",
    "na_check(df)"
   ]
  },
  {
   "cell_type": "code",
   "execution_count": 12,
   "metadata": {},
   "outputs": [],
   "source": [
    "col_name = df.columns"
   ]
  },
  {
   "cell_type": "markdown",
   "metadata": {},
   "source": [
    "### 資料標準化"
   ]
  },
  {
   "cell_type": "code",
   "execution_count": 13,
   "metadata": {},
   "outputs": [],
   "source": [
    "from sklearn.preprocessing import MinMaxScaler, StandardScaler, Normalizer\n",
    "from sklearn.model_selection import cross_val_score, train_test_split\n",
    "\n",
    "# 資料標準化\n",
    "#df = MinMaxScaler().fit_transform(df)\n",
    "df = StandardScaler().fit_transform(df)\n",
    "#df = Normalizer().fit_transform(df)\n",
    "\n",
    "# 將前述轉換完畢資料 df , 重新切成 train_X, test_X\n",
    "train_num = train_Y.shape[0]\n",
    "train_X = df[:train_num]\n",
    "test_X = df[train_num:]\n",
    "\n",
    "# 切分訓練集/測試集\n",
    "x_train, x_test, y_train, y_test = train_test_split(train_X, train_Y,\n",
    "                                                    test_size=0.25, random_state=42)"
   ]
  },
  {
   "cell_type": "markdown",
   "metadata": {},
   "source": [
    "### 特徵重要性"
   ]
  },
  {
   "cell_type": "code",
   "execution_count": 14,
   "metadata": {},
   "outputs": [
    {
     "data": {
      "text/plain": [
       "exercised_stock_options               0.234433\n",
       "expenses                              0.119281\n",
       "total_stock_value                     0.089272\n",
       "other                                 0.072374\n",
       "from_this_person_to_poi_total_%       0.053425\n",
       "bonus                                 0.052182\n",
       "salary                                0.042845\n",
       "deferred_income                       0.036997\n",
       "total_message_poi_from_%              0.034823\n",
       "from_poi_to_this_person_from_poi_%    0.033615\n",
       "long_term_incentive                   0.029781\n",
       "total_message_poi_total_%             0.026404\n",
       "from_poi_to_this_person               0.022788\n",
       "restricted_stock                      0.022219\n",
       "from_messages                         0.018242\n",
       "from_poi_to_this_person_from_%        0.015755\n",
       "shared_receipt_with_poi               0.015740\n",
       "from_poi_to_this_person_total_%       0.015021\n",
       "total_payments                        0.012674\n",
       "from_this_person_to_poi_to_%          0.011337\n",
       "from_this_person_to_poi               0.010234\n",
       "total_message                         0.010167\n",
       "total_message_poi                     0.009255\n",
       "from_this_person_to_poi_to_poi_%      0.005498\n",
       "to_messages                           0.003867\n",
       "deferral_payments                     0.001771\n",
       "loan_advances                         0.000000\n",
       "restricted_stock_deferred             0.000000\n",
       "director_fees                         0.000000\n",
       "dtype: float64"
      ]
     },
     "execution_count": 14,
     "metadata": {},
     "output_type": "execute_result"
    }
   ],
   "source": [
    "from sklearn.ensemble import RandomForestRegressor\n",
    "# 隨機森林擬合後, 將結果依照重要性由高到低排序\n",
    "estimator = RandomForestRegressor()\n",
    "estimator.fit(train_X, train_Y)\n",
    "# estimator.feature_importances_ 就是模型的特徵重要性, 這邊先與欄位名稱結合起來, 才能看到重要性與欄位名稱的對照表\n",
    "feats = pd.Series(data=estimator.feature_importances_, index=col_name) # df_train.columns\n",
    "feats = feats.sort_values(ascending=False)\n",
    "feats"
   ]
  },
  {
   "cell_type": "markdown",
   "metadata": {},
   "source": [
    "### 模型評估"
   ]
  },
  {
   "cell_type": "code",
   "execution_count": 15,
   "metadata": {},
   "outputs": [
    {
     "name": "stdout",
     "output_type": "stream",
     "text": [
      "Naive Bayes 0.6785714285714286\n",
      "Naive Bayes 0.6260869565217392\n",
      "KNN 0.8214285714285714\n",
      "KNN 0.8845849802371542\n",
      "Random Forest 0.8214285714285714\n",
      "Random Forest 0.8928853754940711\n",
      "Logistic Regression 0.8214285714285714\n",
      "Logistic Regression 0.8928853754940711\n",
      "SVM 0.8214285714285714\n",
      "SVM 0.884189723320158\n",
      "Decision Tree 0.7857142857142857\n",
      "Decision Tree 0.7766798418972332\n",
      "XGBoost 0.8214285714285714\n",
      "XGBoost 0.8750988142292491\n"
     ]
    }
   ],
   "source": [
    "# NAIVE BAYES\n",
    "from sklearn.naive_bayes import GaussianNB\n",
    "\n",
    "nb_model = GaussianNB()\n",
    "nb_model.fit(x_train,y_train.values.ravel())\n",
    "nb_predicted= nb_model.predict(x_test)\n",
    "nb_prob= nb_model.predict_proba(train_X)[:,1]\n",
    "print('Naive Bayes',accuracy_score(y_test, nb_predicted))\n",
    "print('Naive Bayes',cross_val_score(nb_model, train_X, train_Y.values.ravel()).mean())\n",
    "\n",
    "#KNN\n",
    "from sklearn.neighbors import KNeighborsClassifier\n",
    "\n",
    "knn_model = KNeighborsClassifier(n_neighbors = 5)\n",
    "knn_model.fit(x_train,y_train.values.ravel())\n",
    "knn_predicted= knn_model.predict(x_test)\n",
    "knn_prob= knn_model.predict_proba(train_X)[:,1]\n",
    "print('KNN',accuracy_score(y_test, knn_predicted))\n",
    "print('KNN',cross_val_score(knn_model, train_X, train_Y.values.ravel()).mean())\n",
    "\n",
    "#RANDOM FOREST\n",
    "from sklearn.ensemble import RandomForestClassifier\n",
    "\n",
    "rfc_model = RandomForestClassifier(n_estimators = 100,random_state = 22)\n",
    "rfc_model.fit(x_train,y_train.values.ravel())\n",
    "rfc_predicted = rfc_model.predict(x_test)\n",
    "rfc_prob= rfc_model.predict_proba(train_X)[:,1]\n",
    "print('Random Forest',accuracy_score(y_test,rfc_predicted))\n",
    "print('Random Forest',cross_val_score(rfc_model, train_X, train_Y.values.ravel()).mean())\n",
    "\n",
    "#LOGISTIC REGRESSION\n",
    "from sklearn.linear_model import LogisticRegression\n",
    "\n",
    "lr_model = LogisticRegression(random_state=0, solver='sag')\n",
    "lr_model.fit(x_train,y_train.values.ravel())\n",
    "lr_predicted = lr_model.predict(x_test)\n",
    "lr_prob= lr_model.predict_proba(train_X)[:,1]\n",
    "print('Logistic Regression',accuracy_score(y_test, lr_predicted))\n",
    "print('Logistic Regression',cross_val_score(rfc_model, train_X, train_Y.values.ravel()).mean())\n",
    "\n",
    "#SVM\n",
    "from sklearn.svm import SVC\n",
    "\n",
    "svc_model = SVC(gamma = 'auto', probability=True)\n",
    "svc_model.fit(x_train,y_train.values.ravel())\n",
    "svc_predicted = svc_model.predict(x_test)\n",
    "svc_prob= svc_model.predict_proba(train_X)[:,1]\n",
    "print('SVM',accuracy_score(y_test, svc_predicted))\n",
    "print('SVM',cross_val_score(svc_model, train_X, train_Y.values.ravel()).mean())\n",
    "\n",
    "#DECISION TREE\n",
    "from sklearn.tree import DecisionTreeClassifier\n",
    "\n",
    "dtree_model = DecisionTreeClassifier()\n",
    "dtree_model.fit(x_train,y_train.values.ravel())\n",
    "dtree_predicted = dtree_model.predict(x_test)\n",
    "dtree_prob= dtree_model.predict_proba(train_X)[:,1]\n",
    "print('Decision Tree',accuracy_score(y_test, dtree_predicted))\n",
    "print('Decision Tree',cross_val_score(dtree_model, train_X, train_Y.values.ravel()).mean())\n",
    "\n",
    "#XGBOOST\n",
    "from xgboost import XGBClassifier\n",
    "\n",
    "xgb = XGBClassifier()\n",
    "xgb.fit(x_train,y_train.values.ravel())\n",
    "xgb_predicted = xgb.predict(x_test)\n",
    "xgb_prob= xgb.predict_proba(train_X)[:,1]\n",
    "print('XGBoost',accuracy_score(y_test, xgb_predicted))\n",
    "print('XGBoost',cross_val_score(xgb, train_X, train_Y.values.ravel()).mean())"
   ]
  },
  {
   "cell_type": "code",
   "execution_count": 16,
   "metadata": {},
   "outputs": [],
   "source": [
    "from mlxtend.classifier import StackingClassifier\n",
    "\n",
    "meta_estimator = GradientBoostingClassifier(tol=100, subsample=0.75, n_estimators=100, \n",
    "                                           max_features='sqrt', max_depth=4, learning_rate=0.3)\n",
    "stacking = StackingClassifier(classifiers=[knn_model, rfc_model, lr_model, svc_model, dtree_model, xgb], meta_classifier=meta_estimator, use_probas=True, average_probas=False)"
   ]
  },
  {
   "cell_type": "code",
   "execution_count": 17,
   "metadata": {},
   "outputs": [
    {
     "data": {
      "text/plain": [
       "<matplotlib.axes._subplots.AxesSubplot at 0x1ffd7648f48>"
      ]
     },
     "execution_count": 17,
     "metadata": {},
     "output_type": "execute_result"
    },
    {
     "data": {
      "image/png": "[encoded data removed]",
      "text/plain": [
       "<Figure size 432x288 with 1 Axes>"
      ]
     },
     "metadata": {
      "needs_background": "light"
     },
     "output_type": "display_data"
    }
   ],
   "source": [
    "stacking.fit(train_X, train_Y)\n",
    "stacking_pred = stacking.predict_proba(test_X)[:,1]\n",
    "sub = pd.DataFrame({'name': name, 'poi': stacking_pred})\n",
    "sub.to_csv(data_path + 'stacking.csv', index=False)\n",
    "sub.poi.hist()"
   ]
  },
  {
   "cell_type": "code",
   "execution_count": 18,
   "metadata": {},
   "outputs": [
    {
     "data": {
      "text/plain": [
       "<matplotlib.axes._subplots.AxesSubplot at 0x1ffcfe9f408>"
      ]
     },
     "execution_count": 18,
     "metadata": {},
     "output_type": "execute_result"
    },
    {
     "data": {
      "image/png": "[encoded data removed]",
      "text/plain": [
       "<Figure size 432x288 with 1 Axes>"
      ]
     },
     "metadata": {
      "needs_background": "light"
     },
     "output_type": "display_data"
    }
   ],
   "source": [
    "xgb.fit(train_X, train_Y)\n",
    "xgb_pred = xgb.predict_proba(test_X)[:,1]\n",
    "sub = pd.DataFrame({'name': name, 'poi': xgb_pred})\n",
    "sub.to_csv(data_path + 'xgb.csv', index=False)\n",
    "sub.poi.hist()"
   ]
  },
  {
   "cell_type": "code",
   "execution_count": 19,
   "metadata": {},
   "outputs": [
    {
     "data": {
      "text/plain": [
       "<matplotlib.axes._subplots.AxesSubplot at 0x1ffd7861088>"
      ]
     },
     "execution_count": 19,
     "metadata": {},
     "output_type": "execute_result"
    },
    {
     "data": {
      "image/png": "[encoded data removed]",
      "text/plain": [
       "<Figure size 432x288 with 1 Axes>"
      ]
     },
     "metadata": {
      "needs_background": "light"
     },
     "output_type": "display_data"
    }
   ],
   "source": [
    "svc_model.fit(train_X, train_Y)\n",
    "svc_pred = svc_model.predict_proba(test_X)[:,1]\n",
    "sub = pd.DataFrame({'name': name, 'poi': svc_pred})\n",
    "sub.to_csv(data_path + 'svc_model.csv', index=False)\n",
    "sub.poi.hist()"
   ]
  },
  {
   "cell_type": "code",
   "execution_count": 20,
   "metadata": {},
   "outputs": [
    {
     "data": {
      "text/plain": [
       "<matplotlib.axes._subplots.AxesSubplot at 0x1ffd7fb4488>"
      ]
     },
     "execution_count": 20,
     "metadata": {},
     "output_type": "execute_result"
    },
    {
     "data": {
      "image/png": "[encoded data removed]",
      "text/plain": [
       "<Figure size 432x288 with 1 Axes>"
      ]
     },
     "metadata": {
      "needs_background": "light"
     },
     "output_type": "display_data"
    }
   ],
   "source": [
    "lr_model.fit(train_X, train_Y)\n",
    "lr_pred = lr_model.predict_proba(test_X)[:,1]\n",
    "sub = pd.DataFrame({'name': name, 'poi': lr_pred})\n",
    "sub.to_csv(data_path + 'lr_model.csv', index=False)\n",
    "sub.poi.hist()"
   ]
  },
  {
   "cell_type": "code",
   "execution_count": 21,
   "metadata": {},
   "outputs": [
    {
     "data": {
      "text/plain": [
       "<matplotlib.axes._subplots.AxesSubplot at 0x1ffcfeca1c8>"
      ]
     },
     "execution_count": 21,
     "metadata": {},
     "output_type": "execute_result"
    },
    {
     "data": {
      "image/png": "[encoded data removed]",
      "text/plain": [
       "<Figure size 432x288 with 1 Axes>"
      ]
     },
     "metadata": {
      "needs_background": "light"
     },
     "output_type": "display_data"
    }
   ],
   "source": [
    "rfc_model.fit(train_X, train_Y)\n",
    "rfc_pred = rfc_model.predict_proba(test_X)[:,1]\n",
    "sub = pd.DataFrame({'name': name, 'poi': rfc_pred})\n",
    "sub.to_csv(data_path + 'rfc_model.csv', index=False)\n",
    "sub.poi.hist()"
   ]
  },
  {
   "cell_type": "code",
   "execution_count": 22,
   "metadata": {},
   "outputs": [
    {
     "data": {
      "text/plain": [
       "<matplotlib.axes._subplots.AxesSubplot at 0x1ffd816af08>"
      ]
     },
     "execution_count": 22,
     "metadata": {},
     "output_type": "execute_result"
    },
    {
     "data": {
      "image/png": "[encoded data removed]",
      "text/plain": [
       "<Figure size 432x288 with 1 Axes>"
      ]
     },
     "metadata": {
      "needs_background": "light"
     },
     "output_type": "display_data"
    }
   ],
   "source": [
    "knn_model.fit(train_X, train_Y)\n",
    "knn_pred = knn_model.predict_proba(test_X)[:,1]\n",
    "sub = pd.DataFrame({'name': name, 'poi': knn_pred})\n",
    "sub.to_csv(data_path + 'knn_model.csv', index=False)\n",
    "sub.poi.hist()"
   ]
  },
  {
   "cell_type": "code",
   "execution_count": 23,
   "metadata": {},
   "outputs": [],
   "source": [
    "def roc_plot(y, y_prob, name=\"\"):\n",
    "    from sklearn.metrics import roc_curve, auc\n",
    "    import matplotlib.pyplot as plt\n",
    "    \n",
    "    fpr, tpr, _ = roc_curve(y, y_prob)\n",
    "    roc_auc = auc(fpr, tpr)\n",
    "\n",
    "    fig = plt.figure()\n",
    "    lw = 2\n",
    "    plt.plot(fpr, tpr, color='darkorange', lw=lw, label='ROC curve (area = %0.2f)' % roc_auc)\n",
    "    plt.plot([0, 1], [0, 1], color='navy', lw=lw, linestyle='--')\n",
    "    plt.xlim([0.0, 1.0])\n",
    "    plt.ylim([0.0, 1.05])\n",
    "    plt.xlabel('False Positive Rate')\n",
    "    plt.ylabel('True Positive Rate')\n",
    "    plt.title(f'{name} ROC Curve')\n",
    "    plt.legend(loc=\"auto\")\n",
    "    plt.show()"
   ]
  },
  {
   "cell_type": "code",
   "execution_count": 24,
   "metadata": {},
   "outputs": [
    {
     "data": {
      "image/png": "[encoded data removed]",
      "text/plain": [
       "<Figure size 432x288 with 1 Axes>"
      ]
     },
     "metadata": {
      "needs_background": "light"
     },
     "output_type": "display_data"
    },
    {
     "data": {
      "image/png": "[encoded data removed]",
      "text/plain": [
       "<Figure size 432x288 with 1 Axes>"
      ]
     },
     "metadata": {
      "needs_background": "light"
     },
     "output_type": "display_data"
    },
    {
     "data": {
      "image/png": "[encoded data removed]",
      "text/plain": [
       "<Figure size 432x288 with 1 Axes>"
      ]
     },
     "metadata": {
      "needs_background": "light"
     },
     "output_type": "display_data"
    },
    {
     "data": {
      "image/png": "[encoded data removed]",
      "text/plain": [
       "<Figure size 432x288 with 1 Axes>"
      ]
     },
     "metadata": {
      "needs_background": "light"
     },
     "output_type": "display_data"
    },
    {
     "data": {
      "image/png": "[encoded data removed]",
      "text/plain": [
       "<Figure size 432x288 with 1 Axes>"
      ]
     },
     "metadata": {
      "needs_background": "light"
     },
     "output_type": "display_data"
    },
    {
     "data": {
      "image/png": "[encoded data removed]",
      "text/plain": [
       "<Figure size 432x288 with 1 Axes>"
      ]
     },
     "metadata": {
      "needs_background": "light"
     },
     "output_type": "display_data"
    },
    {
     "data": {
      "image/png": "[encoded data removed]",
      "text/plain": [
       "<Figure size 432x288 with 1 Axes>"
      ]
     },
     "metadata": {
      "needs_background": "light"
     },
     "output_type": "display_data"
    }
   ],
   "source": [
    "pred_list = [xgb_prob, dtree_prob, svc_prob, lr_prob, rfc_prob, knn_prob, nb_prob]\n",
    "name_list = ['XGBoost', 'Decision Tree', 'SVM', 'Logistic Regression', 'Random Forest', 'KNN', 'Naive Bayes']\n",
    "for y_pred, name in zip(pred_list, name_list):\n",
    "    roc_plot(train_Y, y_pred, name)"
   ]
  },
  {
   "cell_type": "code",
   "execution_count": null,
   "metadata": {},
   "outputs": [],
   "source": []
  }
 ],
 "metadata": {
  "kernelspec": {
   "display_name": "Python 3",
   "language": "python",
   "name": "python3"
  },
  "language_info": {
   "codemirror_mode": {
    "name": "ipython",
    "version": 3
   },
   "file_extension": ".py",
   "mimetype": "text/x-python",
   "name": "python",
   "nbconvert_exporter": "python",
   "pygments_lexer": "ipython3",
   "version": "3.7.7"
  }
 },
 "nbformat": 4,
 "nbformat_minor": 4
}
