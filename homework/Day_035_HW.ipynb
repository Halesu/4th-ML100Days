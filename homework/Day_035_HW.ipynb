{
 "cells": [
  {
   "cell_type": "markdown",
   "metadata": {},
   "source": [
    "## 練習時間\n",
    "相信大家對回歸問題及分類問題都有初步的了解。今天的作業希望大家搜尋有關 multi-label 的案例問題。下圖是電影 \"奇異博士\" 的分類。可以看到同時有 \"Action\", \"Adventure\", \"Fantasy\" 的類別存在，代表這是個多標籤的問題。 "
   ]
  },
  {
   "cell_type": "markdown",
   "metadata": {},
   "source": [
    "![image](https://cdn-images-1.medium.com/max/1000/1*r0gYXMSQf5VhdMyl2bRDyg.png)"
   ]
  },
  {
   "cell_type": "markdown",
   "metadata": {},
   "source": [
    "## 請搜尋目標為多標籤問題 (Multi-label) 的機器學習案例，了解其資料來源、目標以及評估指標為何\n",
    "## Hint: 服飾\n",
    "\n",
    "> [服飾分類](https://www.kaggle.com/vincentman0403/multi-label-classification)\n",
    "> \n",
    "> 資料來源 : kaggle\n",
    ">\n",
    "> Dataset consists of 2,167 images across six categories, including:\n",
    "* Black jeans (344 images)\n",
    "* Blue dress (386 images)\n",
    "* Blue jeans (356 images)\n",
    "* Blue shirt (369 images)\n",
    "* Red dress (380 images)\n",
    "* Red shirt (332 images)\n",
    ">\n",
    "> 目標 : 將圖片標上顏色和種類\n",
    "1. black\n",
    "2. blue\n",
    "3. dress\n",
    "4. jeans\n",
    "5. red\n",
    "6. shirt\n",
    ">\n",
    "> 評估指標 : 使用 MultiLabelBinarizer 方法，將每個標籤當成獨立類別，損失函數為 : binary_crossentropy"
   ]
  },
  {
   "cell_type": "code",
   "execution_count": null,
   "metadata": {},
   "outputs": [],
   "source": []
  }
 ],
 "metadata": {
  "kernelspec": {
   "display_name": "Python 3",
   "language": "python",
   "name": "python3"
  },
  "language_info": {
   "codemirror_mode": {
    "name": "ipython",
    "version": 3
   },
   "file_extension": ".py",
   "mimetype": "text/x-python",
   "name": "python",
   "nbconvert_exporter": "python",
   "pygments_lexer": "ipython3",
   "version": "3.7.7"
  }
 },
 "nbformat": 4,
 "nbformat_minor": 2
}
