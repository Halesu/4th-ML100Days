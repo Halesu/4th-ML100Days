{
 "cells": [
  {
   "cell_type": "markdown",
   "metadata": {},
   "source": [
    "## Work\n",
    "1. 請嘗試寫一個 callback 用來記錄各類別在訓練過程中，對驗證集的 True Positive 與 True Negative"
   ]
  },
  {
   "cell_type": "code",
   "execution_count": 11,
   "metadata": {},
   "outputs": [],
   "source": [
    "import os\n",
    "import keras\n",
    "import tensorflow as tf\n",
    "# Disable GPU\n",
    "os.environ[\"CUDA_VISIBLE_DEVICES\"] = \"\"\n",
    "gpu_devices = tf.config.experimental.list_physical_devices('GPU')\n",
    "tf.config.experimental.set_memory_growth(gpu_devices[0], True)"
   ]
  },
  {
   "cell_type": "code",
   "execution_count": 12,
   "metadata": {},
   "outputs": [],
   "source": [
    "train, test = keras.datasets.cifar10.load_data()"
   ]
  },
  {
   "cell_type": "code",
   "execution_count": 13,
   "metadata": {},
   "outputs": [],
   "source": [
    "## 資料前處理\n",
    "def preproc_x(x, flatten=True):\n",
    "    x = x / 255.\n",
    "    if flatten:\n",
    "        x = x.reshape((len(x), -1))\n",
    "    return x\n",
    "\n",
    "def preproc_y(y, num_classes=10):\n",
    "    if y.shape[-1] == 1:\n",
    "        y = keras.utils.to_categorical(y, num_classes)\n",
    "    return y    "
   ]
  },
  {
   "cell_type": "code",
   "execution_count": 14,
   "metadata": {},
   "outputs": [],
   "source": [
    "x_train, y_train = train\n",
    "x_test, y_test = test\n",
    "\n",
    "# Preproc the inputs\n",
    "x_train = preproc_x(x_train)\n",
    "x_test = preproc_x(x_test)\n",
    "\n",
    "# Preprc the outputs\n",
    "y_train = preproc_y(y_train)\n",
    "y_test = preproc_y(y_test)"
   ]
  },
  {
   "cell_type": "code",
   "execution_count": 15,
   "metadata": {},
   "outputs": [],
   "source": [
    "from keras.layers import BatchNormalization\n",
    "\n",
    "def build_mlp(input_shape, output_units=10, num_neurons=[512, 256, 128]):\n",
    "    \"\"\"Code Here\n",
    "    建立你的神經網路\n",
    "    \"\"\"\n",
    "    input_layer = keras.layers.Input(input_shape)\n",
    "    \n",
    "    for i, n_units in enumerate(num_neurons):\n",
    "        if i == 0:\n",
    "            x = keras.layers.Dense(units=n_units, \n",
    "                                   activation=\"relu\", \n",
    "                                   name=\"hidden_layer\"+str(i+1))(input_layer)\n",
    "            x = BatchNormalization()(x)\n",
    "        else:\n",
    "            x = keras.layers.Dense(units=n_units, \n",
    "                                   activation=\"relu\", \n",
    "                                   name=\"hidden_layer\"+str(i+1))(x)\n",
    "            x = BatchNormalization()(x)\n",
    "    \n",
    "    out = keras.layers.Dense(units=output_units, activation=\"softmax\", name=\"output\")(x)\n",
    "    \n",
    "    model = keras.models.Model(inputs=[input_layer], outputs=[out])\n",
    "    return model"
   ]
  },
  {
   "cell_type": "code",
   "execution_count": 16,
   "metadata": {},
   "outputs": [],
   "source": [
    "## 超參數設定\n",
    "LEARNING_RATE = 1e-3\n",
    "EPOCHS = 25\n",
    "BATCH_SIZE = 1024\n",
    "MOMENTUM = 0.95"
   ]
  },
  {
   "cell_type": "code",
   "execution_count": 17,
   "metadata": {},
   "outputs": [],
   "source": [
    "# 載入 Callbacks\n",
    "from keras.callbacks import Callback\n",
    "\n",
    "# Record_fp_tp\n",
    "class Record_tp_tn(Callback):\n",
    "    \"\"\"Code Here\n",
    "    撰寫一個紀錄 ture positive 與 true negative 數量的 callbacks    \n",
    "    \"\"\"\n",
    "    def on_train_begin(self, epoch, logs = {}):\n",
    "        logs = logs or {}\n",
    "        record_items = [\"val_auc\", \"val_f1sc\", \"val_fp\", \"val_fn\", \"val_tp\", \"val_tn\"]\n",
    "        for i in record_items:\n",
    "            if i not in self.params['metrics']:\n",
    "                self.params['metrics'].append(i)\n",
    "    \n",
    "    def on_epoch_end(self, epoch, logs = {}, thres=0.5):\n",
    "        logs = logs or {}\n",
    "        y_true = self.validation_data[1].argmax(axis = 1)\n",
    "        y_pred = self.model.predict(self.validation_data[0])\n",
    "        y_prediction = y_pred.argmax(axis = 1)\n",
    "        y_pred = (y_pred[:, 1] >= thres) * 1\n",
    "        \n",
    "        from sklearn.metrics import confusion_matrix\n",
    "        cnf_matrix = confusion_matrix(y_true, y_prediction)\n",
    "\n",
    "        FP = cnf_matrix.sum(axis=0) - np.diag(cnf_matrix)  \n",
    "        FN = cnf_matrix.sum(axis=1) - np.diag(cnf_matrix)\n",
    "        TP = np.diag(cnf_matrix)\n",
    "        TN = cnf_matrix.sum() - (FP + FN + TP)\n",
    "\n",
    "        FP = FP.astype(float)\n",
    "        FN = FN.astype(float)\n",
    "        TP = TP.astype(float)\n",
    "        TN = TN.astype(float)\n",
    "\n",
    "        # Sensitivity, hit rate, recall, or true positive rate\n",
    "        TPR = TP/(TP+FN)\n",
    "        # Specificity or true negative rate\n",
    "        TNR = TN/(TN+FP) \n",
    "\n",
    "        logs[\"val_tp\"] = TP\n",
    "        logs[\"val_tn\"] = TN\n",
    "        logs[\"val_fp\"] = FP\n",
    "        logs[\"val_fn\"] = FN\n",
    "\n",
    "        \n",
    "rec_tptn = Record_tp_tn()"
   ]
  },
  {
   "cell_type": "code",
   "execution_count": 18,
   "metadata": {
    "scrolled": true
   },
   "outputs": [
    {
     "name": "stdout",
     "output_type": "stream",
     "text": [
      "Model: \"model_1\"\n",
      "_________________________________________________________________\n",
      "Layer (type)                 Output Shape              Param #   \n",
      "=================================================================\n",
      "input_1 (InputLayer)         (None, 3072)              0         \n",
      "_________________________________________________________________\n",
      "hidden_layer1 (Dense)        (None, 512)               1573376   \n",
      "_________________________________________________________________\n",
      "batch_normalization_1 (Batch (None, 512)               2048      \n",
      "_________________________________________________________________\n",
      "hidden_layer2 (Dense)        (None, 256)               131328    \n",
      "_________________________________________________________________\n",
      "batch_normalization_2 (Batch (None, 256)               1024      \n",
      "_________________________________________________________________\n",
      "hidden_layer3 (Dense)        (None, 128)               32896     \n",
      "_________________________________________________________________\n",
      "batch_normalization_3 (Batch (None, 128)               512       \n",
      "_________________________________________________________________\n",
      "output (Dense)               (None, 10)                1290      \n",
      "=================================================================\n",
      "Total params: 1,742,474\n",
      "Trainable params: 1,740,682\n",
      "Non-trainable params: 1,792\n",
      "_________________________________________________________________\n",
      "Train on 50000 samples, validate on 10000 samples\n",
      "Epoch 1/25\n",
      "50000/50000 [==============================] - 3s 58us/step - loss: 2.2239 - accuracy: 0.2700 - val_loss: 2.1311 - val_accuracy: 0.2323\n",
      "Epoch 2/25\n",
      "50000/50000 [==============================] - 2s 45us/step - loss: 1.7508 - accuracy: 0.3924 - val_loss: 1.9422 - val_accuracy: 0.3372\n",
      "Epoch 3/25\n",
      "50000/50000 [==============================] - 2s 45us/step - loss: 1.6193 - accuracy: 0.4352 - val_loss: 1.8229 - val_accuracy: 0.3742\n",
      "Epoch 4/25\n",
      "50000/50000 [==============================] - 2s 46us/step - loss: 1.5437 - accuracy: 0.4608 - val_loss: 1.7065 - val_accuracy: 0.4149\n",
      "Epoch 5/25\n",
      "50000/50000 [==============================] - 2s 45us/step - loss: 1.4860 - accuracy: 0.4810 - val_loss: 1.6322 - val_accuracy: 0.4331\n",
      "Epoch 6/25\n",
      "50000/50000 [==============================] - 2s 46us/step - loss: 1.4390 - accuracy: 0.4990 - val_loss: 1.5745 - val_accuracy: 0.4523\n",
      "Epoch 7/25\n",
      "50000/50000 [==============================] - 2s 45us/step - loss: 1.3971 - accuracy: 0.5134 - val_loss: 1.5507 - val_accuracy: 0.4528\n",
      "Epoch 8/25\n",
      "50000/50000 [==============================] - 2s 46us/step - loss: 1.3617 - accuracy: 0.5267 - val_loss: 1.5282 - val_accuracy: 0.4649\n",
      "Epoch 9/25\n",
      "50000/50000 [==============================] - 2s 46us/step - loss: 1.3300 - accuracy: 0.5372 - val_loss: 1.4984 - val_accuracy: 0.4692\n",
      "Epoch 10/25\n",
      "50000/50000 [==============================] - 2s 46us/step - loss: 1.2995 - accuracy: 0.5474 - val_loss: 1.4837 - val_accuracy: 0.4702\n",
      "Epoch 11/25\n",
      "50000/50000 [==============================] - 2s 46us/step - loss: 1.2701 - accuracy: 0.5583 - val_loss: 1.4713 - val_accuracy: 0.4820\n",
      "Epoch 12/25\n",
      "50000/50000 [==============================] - 2s 45us/step - loss: 1.2453 - accuracy: 0.5691 - val_loss: 1.4820 - val_accuracy: 0.4757\n",
      "Epoch 13/25\n",
      "50000/50000 [==============================] - 2s 46us/step - loss: 1.2187 - accuracy: 0.5785 - val_loss: 1.4643 - val_accuracy: 0.4840\n",
      "Epoch 14/25\n",
      "50000/50000 [==============================] - 2s 45us/step - loss: 1.1919 - accuracy: 0.5878 - val_loss: 1.4603 - val_accuracy: 0.4849\n",
      "Epoch 15/25\n",
      "50000/50000 [==============================] - 2s 45us/step - loss: 1.1686 - accuracy: 0.5969 - val_loss: 1.4588 - val_accuracy: 0.4889\n",
      "Epoch 16/25\n",
      "50000/50000 [==============================] - 2s 45us/step - loss: 1.1458 - accuracy: 0.6066 - val_loss: 1.4487 - val_accuracy: 0.4903\n",
      "Epoch 17/25\n",
      "50000/50000 [==============================] - 2s 45us/step - loss: 1.1233 - accuracy: 0.6142 - val_loss: 1.4496 - val_accuracy: 0.4938\n",
      "Epoch 18/25\n",
      "50000/50000 [==============================] - 2s 46us/step - loss: 1.0990 - accuracy: 0.6247 - val_loss: 1.4590 - val_accuracy: 0.4893\n",
      "Epoch 19/25\n",
      "50000/50000 [==============================] - 2s 45us/step - loss: 1.0803 - accuracy: 0.6297 - val_loss: 1.4634 - val_accuracy: 0.4895\n",
      "Epoch 20/25\n",
      "50000/50000 [==============================] - 2s 46us/step - loss: 1.0559 - accuracy: 0.6415 - val_loss: 1.4579 - val_accuracy: 0.4911\n",
      "Epoch 21/25\n",
      "50000/50000 [==============================] - 2s 45us/step - loss: 1.0341 - accuracy: 0.6503 - val_loss: 1.4707 - val_accuracy: 0.4901\n",
      "Epoch 22/25\n",
      "50000/50000 [==============================] - 2s 47us/step - loss: 1.0119 - accuracy: 0.6591 - val_loss: 1.4502 - val_accuracy: 0.4997\n",
      "Epoch 23/25\n",
      "50000/50000 [==============================] - 2s 45us/step - loss: 0.9912 - accuracy: 0.6667 - val_loss: 1.4603 - val_accuracy: 0.4915\n",
      "Epoch 24/25\n",
      "50000/50000 [==============================] - 2s 47us/step - loss: 0.9711 - accuracy: 0.6748 - val_loss: 1.4680 - val_accuracy: 0.4925\n",
      "Epoch 25/25\n",
      "50000/50000 [==============================] - 2s 46us/step - loss: 0.9505 - accuracy: 0.6829 - val_loss: 1.4617 - val_accuracy: 0.4979\n"
     ]
    }
   ],
   "source": [
    "model = build_mlp(input_shape=x_train.shape[1:])\n",
    "model.summary()\n",
    "optimizer = keras.optimizers.SGD(lr=LEARNING_RATE, nesterov=True, momentum=MOMENTUM)\n",
    "model.compile(loss=\"categorical_crossentropy\", metrics=[\"accuracy\"], optimizer=optimizer)\n",
    "\n",
    "\"\"\"Code Here\n",
    "將 callbacks 放入模型訓練流程中\n",
    "\"\"\"\n",
    "model.fit(x_train, y_train, \n",
    "          epochs=EPOCHS, \n",
    "          batch_size=BATCH_SIZE, \n",
    "          validation_data=(x_test, y_test), \n",
    "          shuffle=True,\n",
    "          callbacks=[rec_tptn]\n",
    "         )\n",
    "\n",
    "# Collect results\n",
    "train_loss = model.history.history[\"loss\"]\n",
    "valid_loss = model.history.history[\"val_loss\"]\n",
    "train_acc = model.history.history[\"accuracy\"]\n",
    "valid_acc = model.history.history[\"val_accuracy\"]\n",
    "\n",
    "\"\"\"Code Here\n",
    "將 tp/tn 從訓練完的模型中取出\n",
    "\"\"\"\n",
    "valid_tp = model.history.history['val_tp']\n",
    "valid_tn = model.history.history['val_tn']"
   ]
  },
  {
   "cell_type": "code",
   "execution_count": 23,
   "metadata": {},
   "outputs": [
    {
     "data": {
      "image/png": "[encoded data removed]",
      "text/plain": [
       "<Figure size 432x288 with 1 Axes>"
      ]
     },
     "metadata": {
      "needs_background": "light"
     },
     "output_type": "display_data"
    },
    {
     "data": {
      "image/png": "[encoded data removed]",
      "text/plain": [
       "<Figure size 432x288 with 1 Axes>"
      ]
     },
     "metadata": {
      "needs_background": "light"
     },
     "output_type": "display_data"
    },
    {
     "data": {
      "image/png": "[encoded data removed]",
      "text/plain": [
       "<Figure size 432x288 with 1 Axes>"
      ]
     },
     "metadata": {
      "needs_background": "light"
     },
     "output_type": "display_data"
    }
   ],
   "source": [
    "import matplotlib.pyplot as plt\n",
    "%matplotlib inline\n",
    "\n",
    "plt.plot(range(len(train_loss)), train_loss, label=\"train loss\")\n",
    "plt.plot(range(len(valid_loss)), valid_loss, label=\"valid loss\")\n",
    "plt.legend()\n",
    "plt.title(\"Loss\")\n",
    "plt.show()\n",
    "\n",
    "plt.plot(range(len(train_acc)), train_acc, label=\"train accuracy\")\n",
    "plt.plot(range(len(valid_acc)), valid_acc, label=\"valid accuracy\")\n",
    "plt.legend()\n",
    "plt.title(\"Accuracy\")\n",
    "plt.show()\n",
    "\n",
    "plt.plot(range(len(valid_tp)), np.mean(valid_tp, axis=1), label=\"valid tp\", color=\"navy\")\n",
    "plt.plot(range(len(valid_tn)), np.mean(valid_tn, axis=1), label=\"valid tn\", color=\"red\")\n",
    "plt.legend()\n",
    "plt.title(\"True positives and True Negatives\")\n",
    "plt.show()\n"
   ]
  },
  {
   "cell_type": "code",
   "execution_count": 1,
   "metadata": {},
   "outputs": [
    {
     "name": "stdout",
     "output_type": "stream",
     "text": [
      "[[1 1 3]\n",
      " [3 2 2]\n",
      " [1 3 1]]\n"
     ]
    }
   ],
   "source": [
    "import numpy as np\n",
    "from sklearn.metrics import confusion_matrix\n",
    "\n",
    "y_true = [1, -1,  0,  0,  1, -1,  1,  0, -1,  0,  1, -1,  1,  0,  0, -1,  0]\n",
    "y_prediction = [-1, -1,  1,  0,  0,  0,  0, -1,  1, -1,  1,  1,  0,  0,  1,  1, -1]\n",
    "cnf_matrix = confusion_matrix(y_true, y_prediction)\n",
    "print(cnf_matrix)\n",
    "#[[1 1 3]\n",
    "# [3 2 2]\n",
    "# [1 3 1]]\n",
    "\n",
    "FP = cnf_matrix.sum(axis=0) - np.diag(cnf_matrix)  \n",
    "FN = cnf_matrix.sum(axis=1) - np.diag(cnf_matrix)\n",
    "TP = np.diag(cnf_matrix)\n",
    "TN = cnf_matrix.sum() - (FP + FN + TP)\n",
    "\n",
    "FP = FP.astype(float)\n",
    "FN = FN.astype(float)\n",
    "TP = TP.astype(float)\n",
    "TN = TN.astype(float)\n",
    "\n",
    "# Sensitivity, hit rate, recall, or true positive rate\n",
    "TPR = TP/(TP+FN)\n",
    "# Specificity or true negative rate\n",
    "TNR = TN/(TN+FP) \n",
    "# Precision or positive predictive value\n",
    "PPV = TP/(TP+FP)\n",
    "# Negative predictive value\n",
    "NPV = TN/(TN+FN)\n",
    "# Fall out or false positive rate\n",
    "FPR = FP/(FP+TN)\n",
    "# False negative rate\n",
    "FNR = FN/(TP+FN)\n",
    "# False discovery rate\n",
    "FDR = FP/(TP+FP)\n",
    "# Overall accuracy\n",
    "ACC = (TP+TN)/(TP+FP+FN+TN)"
   ]
  }
 ],
 "metadata": {
  "kernelspec": {
   "display_name": "Python 3",
   "language": "python",
   "name": "python3"
  },
  "language_info": {
   "codemirror_mode": {
    "name": "ipython",
    "version": 3
   },
   "file_extension": ".py",
   "mimetype": "text/x-python",
   "name": "python",
   "nbconvert_exporter": "python",
   "pygments_lexer": "ipython3",
   "version": "3.7.7"
  }
 },
 "nbformat": 4,
 "nbformat_minor": 2
}
