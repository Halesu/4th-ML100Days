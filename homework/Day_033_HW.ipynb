{
 "cells": [
  {
   "cell_type": "markdown",
   "metadata": {},
   "source": [
    "## 練習時間"
   ]
  },
  {
   "cell_type": "markdown",
   "metadata": {},
   "source": [
    "請觀看李宏毅教授以神奇寶貝進化 CP 值預測的範例，解說何謂機器學習與過擬合。並回答以下問題"
   ]
  },
  {
   "cell_type": "markdown",
   "metadata": {},
   "source": [
    "[youtube](https://www.youtube.com/watch?v=fegAeph9UaA)"
   ]
  },
  {
   "cell_type": "markdown",
   "metadata": {},
   "source": [
    "### 1. 模型的泛化能力 (generalization) 是指什麼？ \n",
    "> 泛化能力是指模型對未見過資料的魯捧性(robustness)，表示訓練出的模型代表實際模型的程度，一般來說\n",
    "* 簡單的模型 : bias 高但 varience 低，表 underfitting\n",
    "    * 增加特徵\n",
    "    * 增加模型複雜度\n",
    "* 複雜的模型 : bias 低但 varience 高，表 overfitting\n",
    "    * 增加資料量\n",
    "    * 加入 regularization\n",
    ">    \n",
    "> 模型的泛化能力會因 bias 和 varience 而有所取捨(trade-off)\n",
    "\n",
    "### 2. 分類問題與回歸問題分別可用的目標函數有哪些？\n",
    "> Regression Loss Functions\n",
    "* Mean Squared Error Loss(MSE)\n",
    "* Mean Squared Logarithmic Error Loss\n",
    "* Mean Absolute Error Loss(MAE)\n",
    "\n",
    "> Binary Classification Loss Functions\n",
    "* Binary Cross-Entropy\n",
    "* Hinge Loss\n",
    "* Squared Hinge Loss\n",
    "\n",
    "> Multi-Class Classification Loss Functions\n",
    "* Multi-Class Cross-Entropy Loss\n",
    "* Sparse Multiclass Cross-Entropy Loss\n",
    "* Kullback Leibler Divergence Loss"
   ]
  }
 ],
 "metadata": {
  "kernelspec": {
   "display_name": "Python 3",
   "language": "python",
   "name": "python3"
  },
  "language_info": {
   "codemirror_mode": {
    "name": "ipython",
    "version": 3
   },
   "file_extension": ".py",
   "mimetype": "text/x-python",
   "name": "python",
   "nbconvert_exporter": "python",
   "pygments_lexer": "ipython3",
   "version": "3.7.7"
  }
 },
 "nbformat": 4,
 "nbformat_minor": 2
}
